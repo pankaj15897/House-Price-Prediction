{
 "cells": [
  {
   "cell_type": "markdown",
   "metadata": {},
   "source": [
    "# House Price Prediction\n",
    "\n",
    "In this Notebook, I am working through the House price Prediction problem. In this problem our Dependent variable is continuous. The goal is to predict House price based on multiple feature. While working through this problem, I am following a framework I use to attack all my machine learning problems. It includes the following\n",
    "\n",
    "steps:\n",
    "\n",
    "1. Loading Dataset & Required libraries\n",
    "2. Feature Engineering/ Data Preprocessing\n",
    "3. Feature selection\n",
    "4. Data Spliting\n",
    "5. Model creation/ Model Validation"
   ]
  },
  {
   "cell_type": "markdown",
   "metadata": {},
   "source": [
    "## 1. Loading Dataset & Required libraries"
   ]
  },
  {
   "cell_type": "code",
   "execution_count": 1,
   "metadata": {},
   "outputs": [],
   "source": [
    "# at the top of the file, before other imports\n",
    "import warnings\n",
    "\n",
    "warnings.filterwarnings('ignore')\n",
    "\n",
    "# no warnings will be printed from now on"
   ]
  },
  {
   "cell_type": "code",
   "execution_count": 2,
   "metadata": {},
   "outputs": [],
   "source": [
    "#loading required libraries\n",
    "import numpy as np\n",
    "import pandas as pd\n",
    "import matplotlib.pyplot as plt\n",
    "import seaborn as sns\n",
    "import statsmodels.api as sm\n",
    "import pylab\n",
    "import statistics as st\n",
    "from scipy import stats\n",
    "from sklearn import metrics\n",
    "from sklearn.model_selection import train_test_split\n",
    "from sklearn.metrics import accuracy_score\n",
    "from sklearn.metrics import f1_score, roc_auc_score, roc_curve\n",
    "from sklearn.metrics import confusion_matrix"
   ]
  },
  {
   "cell_type": "code",
   "execution_count": 3,
   "metadata": {},
   "outputs": [
    {
     "data": {
      "text/html": [
       "<div>\n",
       "<style scoped>\n",
       "    .dataframe tbody tr th:only-of-type {\n",
       "        vertical-align: middle;\n",
       "    }\n",
       "\n",
       "    .dataframe tbody tr th {\n",
       "        vertical-align: top;\n",
       "    }\n",
       "\n",
       "    .dataframe thead th {\n",
       "        text-align: right;\n",
       "    }\n",
       "</style>\n",
       "<table border=\"1\" class=\"dataframe\">\n",
       "  <thead>\n",
       "    <tr style=\"text-align: right;\">\n",
       "      <th></th>\n",
       "      <th>Id</th>\n",
       "      <th>Building_Class</th>\n",
       "      <th>Zoning_Class</th>\n",
       "      <th>Lot_Extent</th>\n",
       "      <th>Lot_Size</th>\n",
       "      <th>Road_Type</th>\n",
       "      <th>Lane_Type</th>\n",
       "      <th>Property_Shape</th>\n",
       "      <th>Land_Outline</th>\n",
       "      <th>Utility_Type</th>\n",
       "      <th>...</th>\n",
       "      <th>Pool_Area</th>\n",
       "      <th>Pool_Quality</th>\n",
       "      <th>Fence_Quality</th>\n",
       "      <th>Miscellaneous_Feature</th>\n",
       "      <th>Miscellaneous_Value</th>\n",
       "      <th>Month_Sold</th>\n",
       "      <th>Year_Sold</th>\n",
       "      <th>Sale_Type</th>\n",
       "      <th>Sale_Condition</th>\n",
       "      <th>Sale_Price</th>\n",
       "    </tr>\n",
       "  </thead>\n",
       "  <tbody>\n",
       "    <tr>\n",
       "      <th>0</th>\n",
       "      <td>1</td>\n",
       "      <td>60</td>\n",
       "      <td>RLD</td>\n",
       "      <td>65.0</td>\n",
       "      <td>8450</td>\n",
       "      <td>Paved</td>\n",
       "      <td>NaN</td>\n",
       "      <td>Reg</td>\n",
       "      <td>Lvl</td>\n",
       "      <td>AllPub</td>\n",
       "      <td>...</td>\n",
       "      <td>0</td>\n",
       "      <td>NaN</td>\n",
       "      <td>NaN</td>\n",
       "      <td>NaN</td>\n",
       "      <td>0</td>\n",
       "      <td>2</td>\n",
       "      <td>2008</td>\n",
       "      <td>WD</td>\n",
       "      <td>Normal</td>\n",
       "      <td>208500</td>\n",
       "    </tr>\n",
       "    <tr>\n",
       "      <th>1</th>\n",
       "      <td>2</td>\n",
       "      <td>20</td>\n",
       "      <td>RLD</td>\n",
       "      <td>80.0</td>\n",
       "      <td>9600</td>\n",
       "      <td>Paved</td>\n",
       "      <td>NaN</td>\n",
       "      <td>Reg</td>\n",
       "      <td>Lvl</td>\n",
       "      <td>AllPub</td>\n",
       "      <td>...</td>\n",
       "      <td>0</td>\n",
       "      <td>NaN</td>\n",
       "      <td>NaN</td>\n",
       "      <td>NaN</td>\n",
       "      <td>0</td>\n",
       "      <td>5</td>\n",
       "      <td>2007</td>\n",
       "      <td>WD</td>\n",
       "      <td>Normal</td>\n",
       "      <td>181500</td>\n",
       "    </tr>\n",
       "    <tr>\n",
       "      <th>2</th>\n",
       "      <td>3</td>\n",
       "      <td>60</td>\n",
       "      <td>RLD</td>\n",
       "      <td>68.0</td>\n",
       "      <td>11250</td>\n",
       "      <td>Paved</td>\n",
       "      <td>NaN</td>\n",
       "      <td>IR1</td>\n",
       "      <td>Lvl</td>\n",
       "      <td>AllPub</td>\n",
       "      <td>...</td>\n",
       "      <td>0</td>\n",
       "      <td>NaN</td>\n",
       "      <td>NaN</td>\n",
       "      <td>NaN</td>\n",
       "      <td>0</td>\n",
       "      <td>9</td>\n",
       "      <td>2008</td>\n",
       "      <td>WD</td>\n",
       "      <td>Normal</td>\n",
       "      <td>223500</td>\n",
       "    </tr>\n",
       "    <tr>\n",
       "      <th>3</th>\n",
       "      <td>4</td>\n",
       "      <td>70</td>\n",
       "      <td>RLD</td>\n",
       "      <td>60.0</td>\n",
       "      <td>9550</td>\n",
       "      <td>Paved</td>\n",
       "      <td>NaN</td>\n",
       "      <td>IR1</td>\n",
       "      <td>Lvl</td>\n",
       "      <td>AllPub</td>\n",
       "      <td>...</td>\n",
       "      <td>0</td>\n",
       "      <td>NaN</td>\n",
       "      <td>NaN</td>\n",
       "      <td>NaN</td>\n",
       "      <td>0</td>\n",
       "      <td>2</td>\n",
       "      <td>2006</td>\n",
       "      <td>WD</td>\n",
       "      <td>Abnorml</td>\n",
       "      <td>140000</td>\n",
       "    </tr>\n",
       "    <tr>\n",
       "      <th>4</th>\n",
       "      <td>5</td>\n",
       "      <td>60</td>\n",
       "      <td>RLD</td>\n",
       "      <td>84.0</td>\n",
       "      <td>14260</td>\n",
       "      <td>Paved</td>\n",
       "      <td>NaN</td>\n",
       "      <td>IR1</td>\n",
       "      <td>Lvl</td>\n",
       "      <td>AllPub</td>\n",
       "      <td>...</td>\n",
       "      <td>0</td>\n",
       "      <td>NaN</td>\n",
       "      <td>NaN</td>\n",
       "      <td>NaN</td>\n",
       "      <td>0</td>\n",
       "      <td>12</td>\n",
       "      <td>2008</td>\n",
       "      <td>WD</td>\n",
       "      <td>Normal</td>\n",
       "      <td>250000</td>\n",
       "    </tr>\n",
       "    <tr>\n",
       "      <th>...</th>\n",
       "      <td>...</td>\n",
       "      <td>...</td>\n",
       "      <td>...</td>\n",
       "      <td>...</td>\n",
       "      <td>...</td>\n",
       "      <td>...</td>\n",
       "      <td>...</td>\n",
       "      <td>...</td>\n",
       "      <td>...</td>\n",
       "      <td>...</td>\n",
       "      <td>...</td>\n",
       "      <td>...</td>\n",
       "      <td>...</td>\n",
       "      <td>...</td>\n",
       "      <td>...</td>\n",
       "      <td>...</td>\n",
       "      <td>...</td>\n",
       "      <td>...</td>\n",
       "      <td>...</td>\n",
       "      <td>...</td>\n",
       "      <td>...</td>\n",
       "    </tr>\n",
       "    <tr>\n",
       "      <th>1454</th>\n",
       "      <td>1455</td>\n",
       "      <td>20</td>\n",
       "      <td>FVR</td>\n",
       "      <td>62.0</td>\n",
       "      <td>7500</td>\n",
       "      <td>Paved</td>\n",
       "      <td>Paved</td>\n",
       "      <td>Reg</td>\n",
       "      <td>Lvl</td>\n",
       "      <td>AllPub</td>\n",
       "      <td>...</td>\n",
       "      <td>0</td>\n",
       "      <td>NaN</td>\n",
       "      <td>NaN</td>\n",
       "      <td>NaN</td>\n",
       "      <td>0</td>\n",
       "      <td>10</td>\n",
       "      <td>2009</td>\n",
       "      <td>WD</td>\n",
       "      <td>Normal</td>\n",
       "      <td>185000</td>\n",
       "    </tr>\n",
       "    <tr>\n",
       "      <th>1455</th>\n",
       "      <td>1456</td>\n",
       "      <td>60</td>\n",
       "      <td>RLD</td>\n",
       "      <td>62.0</td>\n",
       "      <td>7917</td>\n",
       "      <td>Paved</td>\n",
       "      <td>NaN</td>\n",
       "      <td>Reg</td>\n",
       "      <td>Lvl</td>\n",
       "      <td>AllPub</td>\n",
       "      <td>...</td>\n",
       "      <td>0</td>\n",
       "      <td>NaN</td>\n",
       "      <td>NaN</td>\n",
       "      <td>NaN</td>\n",
       "      <td>0</td>\n",
       "      <td>8</td>\n",
       "      <td>2007</td>\n",
       "      <td>WD</td>\n",
       "      <td>Normal</td>\n",
       "      <td>175000</td>\n",
       "    </tr>\n",
       "    <tr>\n",
       "      <th>1456</th>\n",
       "      <td>1457</td>\n",
       "      <td>20</td>\n",
       "      <td>RLD</td>\n",
       "      <td>85.0</td>\n",
       "      <td>13175</td>\n",
       "      <td>Paved</td>\n",
       "      <td>NaN</td>\n",
       "      <td>Reg</td>\n",
       "      <td>Lvl</td>\n",
       "      <td>AllPub</td>\n",
       "      <td>...</td>\n",
       "      <td>0</td>\n",
       "      <td>NaN</td>\n",
       "      <td>MnPrv</td>\n",
       "      <td>NaN</td>\n",
       "      <td>0</td>\n",
       "      <td>2</td>\n",
       "      <td>2010</td>\n",
       "      <td>WD</td>\n",
       "      <td>Normal</td>\n",
       "      <td>210000</td>\n",
       "    </tr>\n",
       "    <tr>\n",
       "      <th>1457</th>\n",
       "      <td>1458</td>\n",
       "      <td>70</td>\n",
       "      <td>RLD</td>\n",
       "      <td>66.0</td>\n",
       "      <td>9042</td>\n",
       "      <td>Paved</td>\n",
       "      <td>NaN</td>\n",
       "      <td>Reg</td>\n",
       "      <td>Lvl</td>\n",
       "      <td>AllPub</td>\n",
       "      <td>...</td>\n",
       "      <td>0</td>\n",
       "      <td>NaN</td>\n",
       "      <td>GdPrv</td>\n",
       "      <td>Shed</td>\n",
       "      <td>2500</td>\n",
       "      <td>5</td>\n",
       "      <td>2010</td>\n",
       "      <td>WD</td>\n",
       "      <td>Normal</td>\n",
       "      <td>266500</td>\n",
       "    </tr>\n",
       "    <tr>\n",
       "      <th>1458</th>\n",
       "      <td>1459</td>\n",
       "      <td>20</td>\n",
       "      <td>RLD</td>\n",
       "      <td>68.0</td>\n",
       "      <td>9717</td>\n",
       "      <td>Paved</td>\n",
       "      <td>NaN</td>\n",
       "      <td>Reg</td>\n",
       "      <td>Lvl</td>\n",
       "      <td>AllPub</td>\n",
       "      <td>...</td>\n",
       "      <td>0</td>\n",
       "      <td>NaN</td>\n",
       "      <td>NaN</td>\n",
       "      <td>NaN</td>\n",
       "      <td>0</td>\n",
       "      <td>4</td>\n",
       "      <td>2010</td>\n",
       "      <td>WD</td>\n",
       "      <td>Normal</td>\n",
       "      <td>142125</td>\n",
       "    </tr>\n",
       "  </tbody>\n",
       "</table>\n",
       "<p>1459 rows × 81 columns</p>\n",
       "</div>"
      ],
      "text/plain": [
       "        Id  Building_Class Zoning_Class  Lot_Extent  Lot_Size Road_Type  \\\n",
       "0        1              60          RLD        65.0      8450     Paved   \n",
       "1        2              20          RLD        80.0      9600     Paved   \n",
       "2        3              60          RLD        68.0     11250     Paved   \n",
       "3        4              70          RLD        60.0      9550     Paved   \n",
       "4        5              60          RLD        84.0     14260     Paved   \n",
       "...    ...             ...          ...         ...       ...       ...   \n",
       "1454  1455              20          FVR        62.0      7500     Paved   \n",
       "1455  1456              60          RLD        62.0      7917     Paved   \n",
       "1456  1457              20          RLD        85.0     13175     Paved   \n",
       "1457  1458              70          RLD        66.0      9042     Paved   \n",
       "1458  1459              20          RLD        68.0      9717     Paved   \n",
       "\n",
       "     Lane_Type Property_Shape Land_Outline Utility_Type  ... Pool_Area  \\\n",
       "0          NaN            Reg          Lvl       AllPub  ...         0   \n",
       "1          NaN            Reg          Lvl       AllPub  ...         0   \n",
       "2          NaN            IR1          Lvl       AllPub  ...         0   \n",
       "3          NaN            IR1          Lvl       AllPub  ...         0   \n",
       "4          NaN            IR1          Lvl       AllPub  ...         0   \n",
       "...        ...            ...          ...          ...  ...       ...   \n",
       "1454     Paved            Reg          Lvl       AllPub  ...         0   \n",
       "1455       NaN            Reg          Lvl       AllPub  ...         0   \n",
       "1456       NaN            Reg          Lvl       AllPub  ...         0   \n",
       "1457       NaN            Reg          Lvl       AllPub  ...         0   \n",
       "1458       NaN            Reg          Lvl       AllPub  ...         0   \n",
       "\n",
       "     Pool_Quality Fence_Quality Miscellaneous_Feature Miscellaneous_Value  \\\n",
       "0             NaN           NaN                   NaN                   0   \n",
       "1             NaN           NaN                   NaN                   0   \n",
       "2             NaN           NaN                   NaN                   0   \n",
       "3             NaN           NaN                   NaN                   0   \n",
       "4             NaN           NaN                   NaN                   0   \n",
       "...           ...           ...                   ...                 ...   \n",
       "1454          NaN           NaN                   NaN                   0   \n",
       "1455          NaN           NaN                   NaN                   0   \n",
       "1456          NaN         MnPrv                   NaN                   0   \n",
       "1457          NaN         GdPrv                  Shed                2500   \n",
       "1458          NaN           NaN                   NaN                   0   \n",
       "\n",
       "     Month_Sold Year_Sold  Sale_Type  Sale_Condition  Sale_Price  \n",
       "0             2      2008         WD          Normal      208500  \n",
       "1             5      2007         WD          Normal      181500  \n",
       "2             9      2008         WD          Normal      223500  \n",
       "3             2      2006         WD         Abnorml      140000  \n",
       "4            12      2008         WD          Normal      250000  \n",
       "...         ...       ...        ...             ...         ...  \n",
       "1454         10      2009         WD          Normal      185000  \n",
       "1455          8      2007         WD          Normal      175000  \n",
       "1456          2      2010         WD          Normal      210000  \n",
       "1457          5      2010         WD          Normal      266500  \n",
       "1458          4      2010         WD          Normal      142125  \n",
       "\n",
       "[1459 rows x 81 columns]"
      ]
     },
     "execution_count": 3,
     "metadata": {},
     "output_type": "execute_result"
    }
   ],
   "source": [
    "#importing the dataset\n",
    "df = pd.read_csv(\"D:/data science/exercise files/house price/Property_Price_Train.csv\")\n",
    "df"
   ]
  },
  {
   "cell_type": "code",
   "execution_count": 4,
   "metadata": {},
   "outputs": [
    {
     "data": {
      "text/plain": [
       "Index(['Id', 'Building_Class', 'Zoning_Class', 'Lot_Extent', 'Lot_Size',\n",
       "       'Road_Type', 'Lane_Type', 'Property_Shape', 'Land_Outline',\n",
       "       'Utility_Type', 'Lot_Configuration', 'Property_Slope', 'Neighborhood',\n",
       "       'Condition1', 'Condition2', 'House_Type', 'House_Design',\n",
       "       'Overall_Material', 'House_Condition', 'Construction_Year',\n",
       "       'Remodel_Year', 'Roof_Design', 'Roof_Quality', 'Exterior1st',\n",
       "       'Exterior2nd', 'Brick_Veneer_Type', 'Brick_Veneer_Area',\n",
       "       'Exterior_Material', 'Exterior_Condition', 'Foundation_Type',\n",
       "       'Basement_Height', 'Basement_Condition', 'Exposure_Level',\n",
       "       'BsmtFinType1', 'BsmtFinSF1', 'BsmtFinType2', 'BsmtFinSF2', 'BsmtUnfSF',\n",
       "       'Total_Basement_Area', 'Heating_Type', 'Heating_Quality',\n",
       "       'Air_Conditioning', 'Electrical_System', 'First_Floor_Area',\n",
       "       'Second_Floor_Area', 'LowQualFinSF', 'Grade_Living_Area',\n",
       "       'Underground_Full_Bathroom', 'Underground_Half_Bathroom',\n",
       "       'Full_Bathroom_Above_Grade', 'Half_Bathroom_Above_Grade',\n",
       "       'Bedroom_Above_Grade', 'Kitchen_Above_Grade', 'Kitchen_Quality',\n",
       "       'Rooms_Above_Grade', 'Functional_Rate', 'Fireplaces',\n",
       "       'Fireplace_Quality', 'Garage', 'Garage_Built_Year',\n",
       "       'Garage_Finish_Year', 'Garage_Size', 'Garage_Area', 'Garage_Quality',\n",
       "       'Garage_Condition', 'Pavedd_Drive', 'W_Deck_Area', 'Open_Lobby_Area',\n",
       "       'Enclosed_Lobby_Area', 'Three_Season_Lobby_Area', 'Screen_Lobby_Area',\n",
       "       'Pool_Area', 'Pool_Quality', 'Fence_Quality', 'Miscellaneous_Feature',\n",
       "       'Miscellaneous_Value', 'Month_Sold', 'Year_Sold', 'Sale_Type',\n",
       "       'Sale_Condition', 'Sale_Price'],\n",
       "      dtype='object')"
      ]
     },
     "execution_count": 4,
     "metadata": {},
     "output_type": "execute_result"
    }
   ],
   "source": [
    "#data overview steps before data cleaning just ton understand data\n",
    "df.columns"
   ]
  },
  {
   "cell_type": "code",
   "execution_count": 5,
   "metadata": {},
   "outputs": [
    {
     "data": {
      "text/html": [
       "<div>\n",
       "<style scoped>\n",
       "    .dataframe tbody tr th:only-of-type {\n",
       "        vertical-align: middle;\n",
       "    }\n",
       "\n",
       "    .dataframe tbody tr th {\n",
       "        vertical-align: top;\n",
       "    }\n",
       "\n",
       "    .dataframe thead th {\n",
       "        text-align: right;\n",
       "    }\n",
       "</style>\n",
       "<table border=\"1\" class=\"dataframe\">\n",
       "  <thead>\n",
       "    <tr style=\"text-align: right;\">\n",
       "      <th></th>\n",
       "      <th>Id</th>\n",
       "      <th>Building_Class</th>\n",
       "      <th>Zoning_Class</th>\n",
       "      <th>Lot_Extent</th>\n",
       "      <th>Lot_Size</th>\n",
       "      <th>Road_Type</th>\n",
       "      <th>Lane_Type</th>\n",
       "      <th>Property_Shape</th>\n",
       "      <th>Land_Outline</th>\n",
       "      <th>Utility_Type</th>\n",
       "      <th>...</th>\n",
       "      <th>Pool_Area</th>\n",
       "      <th>Pool_Quality</th>\n",
       "      <th>Fence_Quality</th>\n",
       "      <th>Miscellaneous_Feature</th>\n",
       "      <th>Miscellaneous_Value</th>\n",
       "      <th>Month_Sold</th>\n",
       "      <th>Year_Sold</th>\n",
       "      <th>Sale_Type</th>\n",
       "      <th>Sale_Condition</th>\n",
       "      <th>Sale_Price</th>\n",
       "    </tr>\n",
       "  </thead>\n",
       "  <tbody>\n",
       "    <tr>\n",
       "      <th>count</th>\n",
       "      <td>1459.000000</td>\n",
       "      <td>1459.000000</td>\n",
       "      <td>1459</td>\n",
       "      <td>1200.000000</td>\n",
       "      <td>1459.000000</td>\n",
       "      <td>1459</td>\n",
       "      <td>91</td>\n",
       "      <td>1459</td>\n",
       "      <td>1459</td>\n",
       "      <td>1459</td>\n",
       "      <td>...</td>\n",
       "      <td>1459.000000</td>\n",
       "      <td>7</td>\n",
       "      <td>281</td>\n",
       "      <td>54</td>\n",
       "      <td>1459.000000</td>\n",
       "      <td>1459.000000</td>\n",
       "      <td>1459.000000</td>\n",
       "      <td>1459</td>\n",
       "      <td>1459</td>\n",
       "      <td>1459.000000</td>\n",
       "    </tr>\n",
       "    <tr>\n",
       "      <th>unique</th>\n",
       "      <td>NaN</td>\n",
       "      <td>NaN</td>\n",
       "      <td>5</td>\n",
       "      <td>NaN</td>\n",
       "      <td>NaN</td>\n",
       "      <td>2</td>\n",
       "      <td>2</td>\n",
       "      <td>4</td>\n",
       "      <td>4</td>\n",
       "      <td>2</td>\n",
       "      <td>...</td>\n",
       "      <td>NaN</td>\n",
       "      <td>3</td>\n",
       "      <td>4</td>\n",
       "      <td>4</td>\n",
       "      <td>NaN</td>\n",
       "      <td>NaN</td>\n",
       "      <td>NaN</td>\n",
       "      <td>9</td>\n",
       "      <td>6</td>\n",
       "      <td>NaN</td>\n",
       "    </tr>\n",
       "    <tr>\n",
       "      <th>top</th>\n",
       "      <td>NaN</td>\n",
       "      <td>NaN</td>\n",
       "      <td>RLD</td>\n",
       "      <td>NaN</td>\n",
       "      <td>NaN</td>\n",
       "      <td>Paved</td>\n",
       "      <td>Grvl</td>\n",
       "      <td>Reg</td>\n",
       "      <td>Lvl</td>\n",
       "      <td>AllPub</td>\n",
       "      <td>...</td>\n",
       "      <td>NaN</td>\n",
       "      <td>Gd</td>\n",
       "      <td>MnPrv</td>\n",
       "      <td>Shed</td>\n",
       "      <td>NaN</td>\n",
       "      <td>NaN</td>\n",
       "      <td>NaN</td>\n",
       "      <td>WD</td>\n",
       "      <td>Normal</td>\n",
       "      <td>NaN</td>\n",
       "    </tr>\n",
       "    <tr>\n",
       "      <th>freq</th>\n",
       "      <td>NaN</td>\n",
       "      <td>NaN</td>\n",
       "      <td>1150</td>\n",
       "      <td>NaN</td>\n",
       "      <td>NaN</td>\n",
       "      <td>1453</td>\n",
       "      <td>50</td>\n",
       "      <td>924</td>\n",
       "      <td>1310</td>\n",
       "      <td>1458</td>\n",
       "      <td>...</td>\n",
       "      <td>NaN</td>\n",
       "      <td>3</td>\n",
       "      <td>157</td>\n",
       "      <td>49</td>\n",
       "      <td>NaN</td>\n",
       "      <td>NaN</td>\n",
       "      <td>NaN</td>\n",
       "      <td>1266</td>\n",
       "      <td>1197</td>\n",
       "      <td>NaN</td>\n",
       "    </tr>\n",
       "    <tr>\n",
       "      <th>mean</th>\n",
       "      <td>730.000000</td>\n",
       "      <td>56.922550</td>\n",
       "      <td>NaN</td>\n",
       "      <td>70.045833</td>\n",
       "      <td>10517.225497</td>\n",
       "      <td>NaN</td>\n",
       "      <td>NaN</td>\n",
       "      <td>NaN</td>\n",
       "      <td>NaN</td>\n",
       "      <td>NaN</td>\n",
       "      <td>...</td>\n",
       "      <td>2.760795</td>\n",
       "      <td>NaN</td>\n",
       "      <td>NaN</td>\n",
       "      <td>NaN</td>\n",
       "      <td>43.518849</td>\n",
       "      <td>6.322138</td>\n",
       "      <td>2007.815627</td>\n",
       "      <td>NaN</td>\n",
       "      <td>NaN</td>\n",
       "      <td>180944.102810</td>\n",
       "    </tr>\n",
       "    <tr>\n",
       "      <th>std</th>\n",
       "      <td>421.321334</td>\n",
       "      <td>42.304033</td>\n",
       "      <td>NaN</td>\n",
       "      <td>24.294456</td>\n",
       "      <td>9984.675721</td>\n",
       "      <td>NaN</td>\n",
       "      <td>NaN</td>\n",
       "      <td>NaN</td>\n",
       "      <td>NaN</td>\n",
       "      <td>NaN</td>\n",
       "      <td>...</td>\n",
       "      <td>40.191018</td>\n",
       "      <td>NaN</td>\n",
       "      <td>NaN</td>\n",
       "      <td>NaN</td>\n",
       "      <td>496.291826</td>\n",
       "      <td>2.704540</td>\n",
       "      <td>1.328542</td>\n",
       "      <td>NaN</td>\n",
       "      <td>NaN</td>\n",
       "      <td>79464.918335</td>\n",
       "    </tr>\n",
       "    <tr>\n",
       "      <th>min</th>\n",
       "      <td>1.000000</td>\n",
       "      <td>20.000000</td>\n",
       "      <td>NaN</td>\n",
       "      <td>21.000000</td>\n",
       "      <td>1300.000000</td>\n",
       "      <td>NaN</td>\n",
       "      <td>NaN</td>\n",
       "      <td>NaN</td>\n",
       "      <td>NaN</td>\n",
       "      <td>NaN</td>\n",
       "      <td>...</td>\n",
       "      <td>0.000000</td>\n",
       "      <td>NaN</td>\n",
       "      <td>NaN</td>\n",
       "      <td>NaN</td>\n",
       "      <td>0.000000</td>\n",
       "      <td>1.000000</td>\n",
       "      <td>2006.000000</td>\n",
       "      <td>NaN</td>\n",
       "      <td>NaN</td>\n",
       "      <td>34900.000000</td>\n",
       "    </tr>\n",
       "    <tr>\n",
       "      <th>25%</th>\n",
       "      <td>365.500000</td>\n",
       "      <td>20.000000</td>\n",
       "      <td>NaN</td>\n",
       "      <td>59.000000</td>\n",
       "      <td>7549.000000</td>\n",
       "      <td>NaN</td>\n",
       "      <td>NaN</td>\n",
       "      <td>NaN</td>\n",
       "      <td>NaN</td>\n",
       "      <td>NaN</td>\n",
       "      <td>...</td>\n",
       "      <td>0.000000</td>\n",
       "      <td>NaN</td>\n",
       "      <td>NaN</td>\n",
       "      <td>NaN</td>\n",
       "      <td>0.000000</td>\n",
       "      <td>5.000000</td>\n",
       "      <td>2007.000000</td>\n",
       "      <td>NaN</td>\n",
       "      <td>NaN</td>\n",
       "      <td>129950.000000</td>\n",
       "    </tr>\n",
       "    <tr>\n",
       "      <th>50%</th>\n",
       "      <td>730.000000</td>\n",
       "      <td>50.000000</td>\n",
       "      <td>NaN</td>\n",
       "      <td>69.000000</td>\n",
       "      <td>9477.000000</td>\n",
       "      <td>NaN</td>\n",
       "      <td>NaN</td>\n",
       "      <td>NaN</td>\n",
       "      <td>NaN</td>\n",
       "      <td>NaN</td>\n",
       "      <td>...</td>\n",
       "      <td>0.000000</td>\n",
       "      <td>NaN</td>\n",
       "      <td>NaN</td>\n",
       "      <td>NaN</td>\n",
       "      <td>0.000000</td>\n",
       "      <td>6.000000</td>\n",
       "      <td>2008.000000</td>\n",
       "      <td>NaN</td>\n",
       "      <td>NaN</td>\n",
       "      <td>163000.000000</td>\n",
       "    </tr>\n",
       "    <tr>\n",
       "      <th>75%</th>\n",
       "      <td>1094.500000</td>\n",
       "      <td>70.000000</td>\n",
       "      <td>NaN</td>\n",
       "      <td>80.000000</td>\n",
       "      <td>11603.000000</td>\n",
       "      <td>NaN</td>\n",
       "      <td>NaN</td>\n",
       "      <td>NaN</td>\n",
       "      <td>NaN</td>\n",
       "      <td>NaN</td>\n",
       "      <td>...</td>\n",
       "      <td>0.000000</td>\n",
       "      <td>NaN</td>\n",
       "      <td>NaN</td>\n",
       "      <td>NaN</td>\n",
       "      <td>0.000000</td>\n",
       "      <td>8.000000</td>\n",
       "      <td>2009.000000</td>\n",
       "      <td>NaN</td>\n",
       "      <td>NaN</td>\n",
       "      <td>214000.000000</td>\n",
       "    </tr>\n",
       "    <tr>\n",
       "      <th>max</th>\n",
       "      <td>1459.000000</td>\n",
       "      <td>190.000000</td>\n",
       "      <td>NaN</td>\n",
       "      <td>313.000000</td>\n",
       "      <td>215245.000000</td>\n",
       "      <td>NaN</td>\n",
       "      <td>NaN</td>\n",
       "      <td>NaN</td>\n",
       "      <td>NaN</td>\n",
       "      <td>NaN</td>\n",
       "      <td>...</td>\n",
       "      <td>738.000000</td>\n",
       "      <td>NaN</td>\n",
       "      <td>NaN</td>\n",
       "      <td>NaN</td>\n",
       "      <td>15500.000000</td>\n",
       "      <td>12.000000</td>\n",
       "      <td>2010.000000</td>\n",
       "      <td>NaN</td>\n",
       "      <td>NaN</td>\n",
       "      <td>755000.000000</td>\n",
       "    </tr>\n",
       "  </tbody>\n",
       "</table>\n",
       "<p>11 rows × 81 columns</p>\n",
       "</div>"
      ],
      "text/plain": [
       "                 Id  Building_Class Zoning_Class   Lot_Extent       Lot_Size  \\\n",
       "count   1459.000000     1459.000000         1459  1200.000000    1459.000000   \n",
       "unique          NaN             NaN            5          NaN            NaN   \n",
       "top             NaN             NaN          RLD          NaN            NaN   \n",
       "freq            NaN             NaN         1150          NaN            NaN   \n",
       "mean     730.000000       56.922550          NaN    70.045833   10517.225497   \n",
       "std      421.321334       42.304033          NaN    24.294456    9984.675721   \n",
       "min        1.000000       20.000000          NaN    21.000000    1300.000000   \n",
       "25%      365.500000       20.000000          NaN    59.000000    7549.000000   \n",
       "50%      730.000000       50.000000          NaN    69.000000    9477.000000   \n",
       "75%     1094.500000       70.000000          NaN    80.000000   11603.000000   \n",
       "max     1459.000000      190.000000          NaN   313.000000  215245.000000   \n",
       "\n",
       "       Road_Type Lane_Type Property_Shape Land_Outline Utility_Type  ...  \\\n",
       "count       1459        91           1459         1459         1459  ...   \n",
       "unique         2         2              4            4            2  ...   \n",
       "top        Paved      Grvl            Reg          Lvl       AllPub  ...   \n",
       "freq        1453        50            924         1310         1458  ...   \n",
       "mean         NaN       NaN            NaN          NaN          NaN  ...   \n",
       "std          NaN       NaN            NaN          NaN          NaN  ...   \n",
       "min          NaN       NaN            NaN          NaN          NaN  ...   \n",
       "25%          NaN       NaN            NaN          NaN          NaN  ...   \n",
       "50%          NaN       NaN            NaN          NaN          NaN  ...   \n",
       "75%          NaN       NaN            NaN          NaN          NaN  ...   \n",
       "max          NaN       NaN            NaN          NaN          NaN  ...   \n",
       "\n",
       "          Pool_Area Pool_Quality Fence_Quality Miscellaneous_Feature  \\\n",
       "count   1459.000000            7           281                    54   \n",
       "unique          NaN            3             4                     4   \n",
       "top             NaN           Gd         MnPrv                  Shed   \n",
       "freq            NaN            3           157                    49   \n",
       "mean       2.760795          NaN           NaN                   NaN   \n",
       "std       40.191018          NaN           NaN                   NaN   \n",
       "min        0.000000          NaN           NaN                   NaN   \n",
       "25%        0.000000          NaN           NaN                   NaN   \n",
       "50%        0.000000          NaN           NaN                   NaN   \n",
       "75%        0.000000          NaN           NaN                   NaN   \n",
       "max      738.000000          NaN           NaN                   NaN   \n",
       "\n",
       "       Miscellaneous_Value   Month_Sold    Year_Sold  Sale_Type  \\\n",
       "count          1459.000000  1459.000000  1459.000000       1459   \n",
       "unique                 NaN          NaN          NaN          9   \n",
       "top                    NaN          NaN          NaN         WD   \n",
       "freq                   NaN          NaN          NaN       1266   \n",
       "mean             43.518849     6.322138  2007.815627        NaN   \n",
       "std             496.291826     2.704540     1.328542        NaN   \n",
       "min               0.000000     1.000000  2006.000000        NaN   \n",
       "25%               0.000000     5.000000  2007.000000        NaN   \n",
       "50%               0.000000     6.000000  2008.000000        NaN   \n",
       "75%               0.000000     8.000000  2009.000000        NaN   \n",
       "max           15500.000000    12.000000  2010.000000        NaN   \n",
       "\n",
       "        Sale_Condition     Sale_Price  \n",
       "count             1459    1459.000000  \n",
       "unique               6            NaN  \n",
       "top             Normal            NaN  \n",
       "freq              1197            NaN  \n",
       "mean               NaN  180944.102810  \n",
       "std                NaN   79464.918335  \n",
       "min                NaN   34900.000000  \n",
       "25%                NaN  129950.000000  \n",
       "50%                NaN  163000.000000  \n",
       "75%                NaN  214000.000000  \n",
       "max                NaN  755000.000000  \n",
       "\n",
       "[11 rows x 81 columns]"
      ]
     },
     "execution_count": 5,
     "metadata": {},
     "output_type": "execute_result"
    }
   ],
   "source": [
    "df_desc = df.describe(include='all')\n",
    "df_desc"
   ]
  },
  {
   "cell_type": "code",
   "execution_count": 6,
   "metadata": {},
   "outputs": [
    {
     "data": {
      "text/plain": [
       "(1459, 81)"
      ]
     },
     "execution_count": 6,
     "metadata": {},
     "output_type": "execute_result"
    }
   ],
   "source": [
    "#checking the shape of the data\n",
    "df.shape"
   ]
  },
  {
   "cell_type": "code",
   "execution_count": 7,
   "metadata": {},
   "outputs": [
    {
     "data": {
      "text/plain": [
       "Id                  int64\n",
       "Building_Class      int64\n",
       "Zoning_Class       object\n",
       "Lot_Extent        float64\n",
       "Lot_Size            int64\n",
       "                   ...   \n",
       "Month_Sold          int64\n",
       "Year_Sold           int64\n",
       "Sale_Type          object\n",
       "Sale_Condition     object\n",
       "Sale_Price          int64\n",
       "Length: 81, dtype: object"
      ]
     },
     "execution_count": 7,
     "metadata": {},
     "output_type": "execute_result"
    }
   ],
   "source": [
    "df.dtypes"
   ]
  },
  {
   "cell_type": "code",
   "execution_count": 8,
   "metadata": {},
   "outputs": [
    {
     "name": "stdout",
     "output_type": "stream",
     "text": [
      "<class 'pandas.core.frame.DataFrame'>\n",
      "RangeIndex: 1459 entries, 0 to 1458\n",
      "Data columns (total 81 columns):\n",
      " #   Column                     Non-Null Count  Dtype  \n",
      "---  ------                     --------------  -----  \n",
      " 0   Id                         1459 non-null   int64  \n",
      " 1   Building_Class             1459 non-null   int64  \n",
      " 2   Zoning_Class               1459 non-null   object \n",
      " 3   Lot_Extent                 1200 non-null   float64\n",
      " 4   Lot_Size                   1459 non-null   int64  \n",
      " 5   Road_Type                  1459 non-null   object \n",
      " 6   Lane_Type                  91 non-null     object \n",
      " 7   Property_Shape             1459 non-null   object \n",
      " 8   Land_Outline               1459 non-null   object \n",
      " 9   Utility_Type               1459 non-null   object \n",
      " 10  Lot_Configuration          1459 non-null   object \n",
      " 11  Property_Slope             1459 non-null   object \n",
      " 12  Neighborhood               1459 non-null   object \n",
      " 13  Condition1                 1459 non-null   object \n",
      " 14  Condition2                 1459 non-null   object \n",
      " 15  House_Type                 1459 non-null   object \n",
      " 16  House_Design               1459 non-null   object \n",
      " 17  Overall_Material           1459 non-null   int64  \n",
      " 18  House_Condition            1459 non-null   int64  \n",
      " 19  Construction_Year          1459 non-null   int64  \n",
      " 20  Remodel_Year               1459 non-null   int64  \n",
      " 21  Roof_Design                1459 non-null   object \n",
      " 22  Roof_Quality               1459 non-null   object \n",
      " 23  Exterior1st                1459 non-null   object \n",
      " 24  Exterior2nd                1459 non-null   object \n",
      " 25  Brick_Veneer_Type          1451 non-null   object \n",
      " 26  Brick_Veneer_Area          1451 non-null   float64\n",
      " 27  Exterior_Material          1459 non-null   object \n",
      " 28  Exterior_Condition         1459 non-null   object \n",
      " 29  Foundation_Type            1459 non-null   object \n",
      " 30  Basement_Height            1422 non-null   object \n",
      " 31  Basement_Condition         1422 non-null   object \n",
      " 32  Exposure_Level             1421 non-null   object \n",
      " 33  BsmtFinType1               1422 non-null   object \n",
      " 34  BsmtFinSF1                 1459 non-null   int64  \n",
      " 35  BsmtFinType2               1421 non-null   object \n",
      " 36  BsmtFinSF2                 1459 non-null   int64  \n",
      " 37  BsmtUnfSF                  1459 non-null   int64  \n",
      " 38  Total_Basement_Area        1459 non-null   int64  \n",
      " 39  Heating_Type               1459 non-null   object \n",
      " 40  Heating_Quality            1459 non-null   object \n",
      " 41  Air_Conditioning           1459 non-null   object \n",
      " 42  Electrical_System          1458 non-null   object \n",
      " 43  First_Floor_Area           1459 non-null   int64  \n",
      " 44  Second_Floor_Area          1459 non-null   int64  \n",
      " 45  LowQualFinSF               1459 non-null   int64  \n",
      " 46  Grade_Living_Area          1459 non-null   int64  \n",
      " 47  Underground_Full_Bathroom  1459 non-null   int64  \n",
      " 48  Underground_Half_Bathroom  1459 non-null   int64  \n",
      " 49  Full_Bathroom_Above_Grade  1459 non-null   int64  \n",
      " 50  Half_Bathroom_Above_Grade  1459 non-null   int64  \n",
      " 51  Bedroom_Above_Grade        1459 non-null   int64  \n",
      " 52  Kitchen_Above_Grade        1459 non-null   int64  \n",
      " 53  Kitchen_Quality            1459 non-null   object \n",
      " 54  Rooms_Above_Grade          1459 non-null   int64  \n",
      " 55  Functional_Rate            1459 non-null   object \n",
      " 56  Fireplaces                 1459 non-null   int64  \n",
      " 57  Fireplace_Quality          770 non-null    object \n",
      " 58  Garage                     1378 non-null   object \n",
      " 59  Garage_Built_Year          1378 non-null   float64\n",
      " 60  Garage_Finish_Year         1378 non-null   object \n",
      " 61  Garage_Size                1459 non-null   int64  \n",
      " 62  Garage_Area                1459 non-null   float64\n",
      " 63  Garage_Quality             1378 non-null   object \n",
      " 64  Garage_Condition           1378 non-null   object \n",
      " 65  Pavedd_Drive               1459 non-null   object \n",
      " 66  W_Deck_Area                1459 non-null   float64\n",
      " 67  Open_Lobby_Area            1459 non-null   float64\n",
      " 68  Enclosed_Lobby_Area        1459 non-null   float64\n",
      " 69  Three_Season_Lobby_Area    1459 non-null   int64  \n",
      " 70  Screen_Lobby_Area          1459 non-null   int64  \n",
      " 71  Pool_Area                  1459 non-null   int64  \n",
      " 72  Pool_Quality               7 non-null      object \n",
      " 73  Fence_Quality              281 non-null    object \n",
      " 74  Miscellaneous_Feature      54 non-null     object \n",
      " 75  Miscellaneous_Value        1459 non-null   int64  \n",
      " 76  Month_Sold                 1459 non-null   int64  \n",
      " 77  Year_Sold                  1459 non-null   int64  \n",
      " 78  Sale_Type                  1459 non-null   object \n",
      " 79  Sale_Condition             1459 non-null   object \n",
      " 80  Sale_Price                 1459 non-null   int64  \n",
      "dtypes: float64(7), int64(31), object(43)\n",
      "memory usage: 923.4+ KB\n"
     ]
    }
   ],
   "source": [
    "df.info()"
   ]
  },
  {
   "cell_type": "code",
   "execution_count": 9,
   "metadata": {},
   "outputs": [
    {
     "data": {
      "text/plain": [
       "object     43\n",
       "int64      31\n",
       "float64     7\n",
       "dtype: int64"
      ]
     },
     "execution_count": 9,
     "metadata": {},
     "output_type": "execute_result"
    }
   ],
   "source": [
    "#checking the variable type count in df\n",
    "df.dtypes.value_counts()"
   ]
  },
  {
   "cell_type": "markdown",
   "metadata": {},
   "source": [
    "## 2. Feature Engineering/ Data Preprocessing"
   ]
  },
  {
   "cell_type": "code",
   "execution_count": 10,
   "metadata": {},
   "outputs": [
    {
     "name": "stdout",
     "output_type": "stream",
     "text": [
      "Id  (1459,)\n",
      "Building_Class  (15,)\n",
      "Zoning_Class  (5,)\n",
      "Lot_Extent  (111,)\n",
      "Lot_Size  (1073,)\n",
      "Road_Type  (2,)\n",
      "Lane_Type  (3,)\n",
      "Property_Shape  (4,)\n",
      "Land_Outline  (4,)\n",
      "Utility_Type  (2,)\n",
      "Lot_Configuration  (5,)\n",
      "Property_Slope  (3,)\n",
      "Neighborhood  (25,)\n",
      "Condition1  (9,)\n",
      "Condition2  (8,)\n",
      "House_Type  (5,)\n",
      "House_Design  (8,)\n",
      "Overall_Material  (10,)\n",
      "House_Condition  (9,)\n",
      "Construction_Year  (112,)\n",
      "Remodel_Year  (61,)\n",
      "Roof_Design  (6,)\n",
      "Roof_Quality  (8,)\n",
      "Exterior1st  (15,)\n",
      "Exterior2nd  (16,)\n",
      "Brick_Veneer_Type  (5,)\n",
      "Brick_Veneer_Area  (328,)\n",
      "Exterior_Material  (4,)\n",
      "Exterior_Condition  (5,)\n",
      "Foundation_Type  (6,)\n",
      "Basement_Height  (5,)\n",
      "Basement_Condition  (5,)\n",
      "Exposure_Level  (5,)\n",
      "BsmtFinType1  (7,)\n",
      "BsmtFinSF1  (636,)\n",
      "BsmtFinType2  (7,)\n",
      "BsmtFinSF2  (144,)\n",
      "BsmtUnfSF  (779,)\n",
      "Total_Basement_Area  (721,)\n",
      "Heating_Type  (6,)\n",
      "Heating_Quality  (5,)\n",
      "Air_Conditioning  (2,)\n",
      "Electrical_System  (6,)\n",
      "First_Floor_Area  (752,)\n",
      "Second_Floor_Area  (417,)\n",
      "LowQualFinSF  (24,)\n",
      "Grade_Living_Area  (860,)\n",
      "Underground_Full_Bathroom  (4,)\n",
      "Underground_Half_Bathroom  (3,)\n",
      "Full_Bathroom_Above_Grade  (4,)\n",
      "Half_Bathroom_Above_Grade  (3,)\n",
      "Bedroom_Above_Grade  (8,)\n",
      "Kitchen_Above_Grade  (4,)\n",
      "Kitchen_Quality  (4,)\n",
      "Rooms_Above_Grade  (12,)\n",
      "Functional_Rate  (8,)\n",
      "Fireplaces  (4,)\n",
      "Fireplace_Quality  (6,)\n",
      "Garage  (8,)\n",
      "Garage_Built_Year  (98,)\n",
      "Garage_Finish_Year  (4,)\n",
      "Garage_Size  (5,)\n",
      "Garage_Area  (1459,)\n",
      "Garage_Quality  (6,)\n",
      "Garage_Condition  (6,)\n",
      "Pavedd_Drive  (3,)\n",
      "W_Deck_Area  (1459,)\n",
      "Open_Lobby_Area  (1459,)\n",
      "Enclosed_Lobby_Area  (1459,)\n",
      "Three_Season_Lobby_Area  (20,)\n",
      "Screen_Lobby_Area  (76,)\n",
      "Pool_Area  (8,)\n",
      "Pool_Quality  (4,)\n",
      "Fence_Quality  (5,)\n",
      "Miscellaneous_Feature  (5,)\n",
      "Miscellaneous_Value  (21,)\n",
      "Month_Sold  (12,)\n",
      "Year_Sold  (5,)\n",
      "Sale_Type  (9,)\n",
      "Sale_Condition  (6,)\n",
      "Sale_Price  (662,)\n"
     ]
    }
   ],
   "source": [
    "#getting the unique values columns\n",
    "df[\"Id\"].unique().shape\n",
    "for val in df:\n",
    "    print(val,\"\",df[val].unique().shape)"
   ]
  },
  {
   "cell_type": "code",
   "execution_count": 11,
   "metadata": {},
   "outputs": [],
   "source": [
    "#dealing with unique or same value column\n",
    "df.drop(\"Id\",axis=1,inplace=True)"
   ]
  },
  {
   "cell_type": "markdown",
   "metadata": {},
   "source": [
    "### Dealing with dates column\n",
    "- if we subtract the construction_year column from current year it will be House_life\n",
    "- After adding House_life column in data we removw the all dates and year column\n",
    "  because it does not add any values in ML models"
   ]
  },
  {
   "cell_type": "code",
   "execution_count": 12,
   "metadata": {},
   "outputs": [],
   "source": [
    "##dealing with dates column(if we subtract the construction_year column from current year it will be House_life)\n",
    "df[\"House_life\"] = 2020 - df[\"Construction_Year\"]"
   ]
  },
  {
   "cell_type": "code",
   "execution_count": 13,
   "metadata": {},
   "outputs": [
    {
     "data": {
      "text/plain": [
       "(1459, 81)"
      ]
     },
     "execution_count": 13,
     "metadata": {},
     "output_type": "execute_result"
    }
   ],
   "source": [
    "df.shape"
   ]
  },
  {
   "cell_type": "code",
   "execution_count": 14,
   "metadata": {},
   "outputs": [
    {
     "data": {
      "text/plain": [
       "(1459, 76)"
      ]
     },
     "execution_count": 14,
     "metadata": {},
     "output_type": "execute_result"
    }
   ],
   "source": [
    "##Removing the date and year column \n",
    "df.drop(\"Construction_Year\",axis=1,inplace=True)\n",
    "df.drop(\"Remodel_Year\",axis=1,inplace=True)\n",
    "df.drop(\"Garage_Built_Year\",axis=1,inplace=True)\n",
    "df.drop(\"Month_Sold\",axis=1,inplace=True)\n",
    "df.drop(\"Year_Sold\",axis=1,inplace=True)\n",
    "df.shape"
   ]
  },
  {
   "cell_type": "markdown",
   "metadata": {},
   "source": [
    "### Null values Analysis & Treatement on It"
   ]
  },
  {
   "cell_type": "code",
   "execution_count": 15,
   "metadata": {},
   "outputs": [
    {
     "data": {
      "text/plain": [
       "Building_Class         False\n",
       "Zoning_Class           False\n",
       "Lot_Extent              True\n",
       "Lot_Size               False\n",
       "Road_Type              False\n",
       "                       ...  \n",
       "Miscellaneous_Value    False\n",
       "Sale_Type              False\n",
       "Sale_Condition         False\n",
       "Sale_Price             False\n",
       "House_life             False\n",
       "Length: 76, dtype: bool"
      ]
     },
     "execution_count": 15,
     "metadata": {},
     "output_type": "execute_result"
    }
   ],
   "source": [
    "### Null Value analysis & treatment.\n",
    "df.isnull().any()"
   ]
  },
  {
   "cell_type": "markdown",
   "metadata": {},
   "source": [
    "####  In decription of the dataset some feature has different naming for  NA values. So we replace these NA's with actual naming\n",
    "###### NA - In this 14 variable NA has different naming\n",
    "- Lane_Type = No_Allay_Access\n",
    "- Basement_Height = No_Basement\n",
    "- Basement_Condition = No_Basement\n",
    "- Exposure_Level = No_Basement\n",
    "- BsmtFinType1 = No_Basement\n",
    "- BsmtFinType2 = No_Basement\n",
    "- Fireplace_Quality = No_Fireplace\n",
    "- Garage = No_Garage\n",
    "- Garage_Finish_Year = No_Garage\n",
    "- Garage_Qualit = No_Garage\n",
    "- Garage_Condition = No_Garage\n",
    "- Pool_Quality = No_Pool\n",
    "- Fence_Quality = No_Fence\n",
    "- Fence_Quality = None"
   ]
  },
  {
   "cell_type": "code",
   "execution_count": 16,
   "metadata": {},
   "outputs": [],
   "source": [
    "df['Lane_Type'] = df['Lane_Type'].fillna('No_Allay_Access')\n",
    "df['Basement_Height'] = df['Basement_Height'].fillna('No_Basement')\n",
    "df['Basement_Condition'] = df['Basement_Condition'].fillna('No_Basement')\n",
    "df['Exposure_Level'] = df['Exposure_Level'].fillna('No_Basement')\n",
    "df['BsmtFinType1'] = df['BsmtFinType1'].fillna('No_Basement')\n",
    "df['BsmtFinType2'] = df['BsmtFinType2'].fillna('No_Basement')\n",
    "df['Fireplace_Quality'] = df['Fireplace_Quality'].fillna('No_Fireplace')\n",
    "df['Garage'] = df['Garage'].fillna('No_Garage')\n",
    "df['Garage_Finish_Year'] = df['Garage_Finish_Year'].fillna('No_Garage')\n",
    "df['Garage_Quality'] = df['Garage_Quality'].fillna('No_Garage')\n",
    "df['Garage_Condition'] = df['Garage_Condition'].fillna('No_Garage')\n",
    "df['Garage'] = df['Garage'].fillna('No_Allay_Access')\n",
    "df['Pool_Quality'] = df['Pool_Quality'].fillna('No_Pool')\n",
    "df['Fence_Quality'] = df['Fence_Quality'].fillna('No_Fence')"
   ]
  },
  {
   "cell_type": "code",
   "execution_count": 17,
   "metadata": {},
   "outputs": [
    {
     "data": {
      "text/plain": [
       "Building_Class         False\n",
       "Zoning_Class           False\n",
       "Lot_Extent              True\n",
       "Lot_Size               False\n",
       "Road_Type              False\n",
       "                       ...  \n",
       "Miscellaneous_Value    False\n",
       "Sale_Type              False\n",
       "Sale_Condition         False\n",
       "Sale_Price             False\n",
       "House_life             False\n",
       "Length: 76, dtype: bool"
      ]
     },
     "execution_count": 17,
     "metadata": {},
     "output_type": "execute_result"
    }
   ],
   "source": [
    "# Dealing with NaN after replacing it with different naming.\n",
    "df.isnull().any()"
   ]
  },
  {
   "cell_type": "code",
   "execution_count": 18,
   "metadata": {},
   "outputs": [
    {
     "data": {
      "text/html": [
       "<div>\n",
       "<style scoped>\n",
       "    .dataframe tbody tr th:only-of-type {\n",
       "        vertical-align: middle;\n",
       "    }\n",
       "\n",
       "    .dataframe tbody tr th {\n",
       "        vertical-align: top;\n",
       "    }\n",
       "\n",
       "    .dataframe thead th {\n",
       "        text-align: right;\n",
       "    }\n",
       "</style>\n",
       "<table border=\"1\" class=\"dataframe\">\n",
       "  <thead>\n",
       "    <tr style=\"text-align: right;\">\n",
       "      <th></th>\n",
       "      <th>Building_Class</th>\n",
       "      <th>Zoning_Class</th>\n",
       "      <th>Lot_Extent</th>\n",
       "      <th>Lot_Size</th>\n",
       "      <th>Road_Type</th>\n",
       "      <th>Lane_Type</th>\n",
       "      <th>Property_Shape</th>\n",
       "      <th>Land_Outline</th>\n",
       "      <th>Utility_Type</th>\n",
       "      <th>Lot_Configuration</th>\n",
       "      <th>...</th>\n",
       "      <th>Screen_Lobby_Area</th>\n",
       "      <th>Pool_Area</th>\n",
       "      <th>Pool_Quality</th>\n",
       "      <th>Fence_Quality</th>\n",
       "      <th>Miscellaneous_Feature</th>\n",
       "      <th>Miscellaneous_Value</th>\n",
       "      <th>Sale_Type</th>\n",
       "      <th>Sale_Condition</th>\n",
       "      <th>Sale_Price</th>\n",
       "      <th>House_life</th>\n",
       "    </tr>\n",
       "  </thead>\n",
       "  <tbody>\n",
       "    <tr>\n",
       "      <th>0</th>\n",
       "      <td>False</td>\n",
       "      <td>False</td>\n",
       "      <td>False</td>\n",
       "      <td>False</td>\n",
       "      <td>False</td>\n",
       "      <td>False</td>\n",
       "      <td>False</td>\n",
       "      <td>False</td>\n",
       "      <td>False</td>\n",
       "      <td>False</td>\n",
       "      <td>...</td>\n",
       "      <td>False</td>\n",
       "      <td>False</td>\n",
       "      <td>False</td>\n",
       "      <td>False</td>\n",
       "      <td>True</td>\n",
       "      <td>False</td>\n",
       "      <td>False</td>\n",
       "      <td>False</td>\n",
       "      <td>False</td>\n",
       "      <td>False</td>\n",
       "    </tr>\n",
       "    <tr>\n",
       "      <th>1</th>\n",
       "      <td>False</td>\n",
       "      <td>False</td>\n",
       "      <td>False</td>\n",
       "      <td>False</td>\n",
       "      <td>False</td>\n",
       "      <td>False</td>\n",
       "      <td>False</td>\n",
       "      <td>False</td>\n",
       "      <td>False</td>\n",
       "      <td>False</td>\n",
       "      <td>...</td>\n",
       "      <td>False</td>\n",
       "      <td>False</td>\n",
       "      <td>False</td>\n",
       "      <td>False</td>\n",
       "      <td>True</td>\n",
       "      <td>False</td>\n",
       "      <td>False</td>\n",
       "      <td>False</td>\n",
       "      <td>False</td>\n",
       "      <td>False</td>\n",
       "    </tr>\n",
       "    <tr>\n",
       "      <th>2</th>\n",
       "      <td>False</td>\n",
       "      <td>False</td>\n",
       "      <td>False</td>\n",
       "      <td>False</td>\n",
       "      <td>False</td>\n",
       "      <td>False</td>\n",
       "      <td>False</td>\n",
       "      <td>False</td>\n",
       "      <td>False</td>\n",
       "      <td>False</td>\n",
       "      <td>...</td>\n",
       "      <td>False</td>\n",
       "      <td>False</td>\n",
       "      <td>False</td>\n",
       "      <td>False</td>\n",
       "      <td>True</td>\n",
       "      <td>False</td>\n",
       "      <td>False</td>\n",
       "      <td>False</td>\n",
       "      <td>False</td>\n",
       "      <td>False</td>\n",
       "    </tr>\n",
       "    <tr>\n",
       "      <th>3</th>\n",
       "      <td>False</td>\n",
       "      <td>False</td>\n",
       "      <td>False</td>\n",
       "      <td>False</td>\n",
       "      <td>False</td>\n",
       "      <td>False</td>\n",
       "      <td>False</td>\n",
       "      <td>False</td>\n",
       "      <td>False</td>\n",
       "      <td>False</td>\n",
       "      <td>...</td>\n",
       "      <td>False</td>\n",
       "      <td>False</td>\n",
       "      <td>False</td>\n",
       "      <td>False</td>\n",
       "      <td>True</td>\n",
       "      <td>False</td>\n",
       "      <td>False</td>\n",
       "      <td>False</td>\n",
       "      <td>False</td>\n",
       "      <td>False</td>\n",
       "    </tr>\n",
       "    <tr>\n",
       "      <th>4</th>\n",
       "      <td>False</td>\n",
       "      <td>False</td>\n",
       "      <td>False</td>\n",
       "      <td>False</td>\n",
       "      <td>False</td>\n",
       "      <td>False</td>\n",
       "      <td>False</td>\n",
       "      <td>False</td>\n",
       "      <td>False</td>\n",
       "      <td>False</td>\n",
       "      <td>...</td>\n",
       "      <td>False</td>\n",
       "      <td>False</td>\n",
       "      <td>False</td>\n",
       "      <td>False</td>\n",
       "      <td>True</td>\n",
       "      <td>False</td>\n",
       "      <td>False</td>\n",
       "      <td>False</td>\n",
       "      <td>False</td>\n",
       "      <td>False</td>\n",
       "    </tr>\n",
       "    <tr>\n",
       "      <th>...</th>\n",
       "      <td>...</td>\n",
       "      <td>...</td>\n",
       "      <td>...</td>\n",
       "      <td>...</td>\n",
       "      <td>...</td>\n",
       "      <td>...</td>\n",
       "      <td>...</td>\n",
       "      <td>...</td>\n",
       "      <td>...</td>\n",
       "      <td>...</td>\n",
       "      <td>...</td>\n",
       "      <td>...</td>\n",
       "      <td>...</td>\n",
       "      <td>...</td>\n",
       "      <td>...</td>\n",
       "      <td>...</td>\n",
       "      <td>...</td>\n",
       "      <td>...</td>\n",
       "      <td>...</td>\n",
       "      <td>...</td>\n",
       "      <td>...</td>\n",
       "    </tr>\n",
       "    <tr>\n",
       "      <th>1454</th>\n",
       "      <td>False</td>\n",
       "      <td>False</td>\n",
       "      <td>False</td>\n",
       "      <td>False</td>\n",
       "      <td>False</td>\n",
       "      <td>False</td>\n",
       "      <td>False</td>\n",
       "      <td>False</td>\n",
       "      <td>False</td>\n",
       "      <td>False</td>\n",
       "      <td>...</td>\n",
       "      <td>False</td>\n",
       "      <td>False</td>\n",
       "      <td>False</td>\n",
       "      <td>False</td>\n",
       "      <td>True</td>\n",
       "      <td>False</td>\n",
       "      <td>False</td>\n",
       "      <td>False</td>\n",
       "      <td>False</td>\n",
       "      <td>False</td>\n",
       "    </tr>\n",
       "    <tr>\n",
       "      <th>1455</th>\n",
       "      <td>False</td>\n",
       "      <td>False</td>\n",
       "      <td>False</td>\n",
       "      <td>False</td>\n",
       "      <td>False</td>\n",
       "      <td>False</td>\n",
       "      <td>False</td>\n",
       "      <td>False</td>\n",
       "      <td>False</td>\n",
       "      <td>False</td>\n",
       "      <td>...</td>\n",
       "      <td>False</td>\n",
       "      <td>False</td>\n",
       "      <td>False</td>\n",
       "      <td>False</td>\n",
       "      <td>True</td>\n",
       "      <td>False</td>\n",
       "      <td>False</td>\n",
       "      <td>False</td>\n",
       "      <td>False</td>\n",
       "      <td>False</td>\n",
       "    </tr>\n",
       "    <tr>\n",
       "      <th>1456</th>\n",
       "      <td>False</td>\n",
       "      <td>False</td>\n",
       "      <td>False</td>\n",
       "      <td>False</td>\n",
       "      <td>False</td>\n",
       "      <td>False</td>\n",
       "      <td>False</td>\n",
       "      <td>False</td>\n",
       "      <td>False</td>\n",
       "      <td>False</td>\n",
       "      <td>...</td>\n",
       "      <td>False</td>\n",
       "      <td>False</td>\n",
       "      <td>False</td>\n",
       "      <td>False</td>\n",
       "      <td>True</td>\n",
       "      <td>False</td>\n",
       "      <td>False</td>\n",
       "      <td>False</td>\n",
       "      <td>False</td>\n",
       "      <td>False</td>\n",
       "    </tr>\n",
       "    <tr>\n",
       "      <th>1457</th>\n",
       "      <td>False</td>\n",
       "      <td>False</td>\n",
       "      <td>False</td>\n",
       "      <td>False</td>\n",
       "      <td>False</td>\n",
       "      <td>False</td>\n",
       "      <td>False</td>\n",
       "      <td>False</td>\n",
       "      <td>False</td>\n",
       "      <td>False</td>\n",
       "      <td>...</td>\n",
       "      <td>False</td>\n",
       "      <td>False</td>\n",
       "      <td>False</td>\n",
       "      <td>False</td>\n",
       "      <td>False</td>\n",
       "      <td>False</td>\n",
       "      <td>False</td>\n",
       "      <td>False</td>\n",
       "      <td>False</td>\n",
       "      <td>False</td>\n",
       "    </tr>\n",
       "    <tr>\n",
       "      <th>1458</th>\n",
       "      <td>False</td>\n",
       "      <td>False</td>\n",
       "      <td>False</td>\n",
       "      <td>False</td>\n",
       "      <td>False</td>\n",
       "      <td>False</td>\n",
       "      <td>False</td>\n",
       "      <td>False</td>\n",
       "      <td>False</td>\n",
       "      <td>False</td>\n",
       "      <td>...</td>\n",
       "      <td>False</td>\n",
       "      <td>False</td>\n",
       "      <td>False</td>\n",
       "      <td>False</td>\n",
       "      <td>True</td>\n",
       "      <td>False</td>\n",
       "      <td>False</td>\n",
       "      <td>False</td>\n",
       "      <td>False</td>\n",
       "      <td>False</td>\n",
       "    </tr>\n",
       "  </tbody>\n",
       "</table>\n",
       "<p>1459 rows × 76 columns</p>\n",
       "</div>"
      ],
      "text/plain": [
       "      Building_Class  Zoning_Class  Lot_Extent  Lot_Size  Road_Type  \\\n",
       "0              False         False       False     False      False   \n",
       "1              False         False       False     False      False   \n",
       "2              False         False       False     False      False   \n",
       "3              False         False       False     False      False   \n",
       "4              False         False       False     False      False   \n",
       "...              ...           ...         ...       ...        ...   \n",
       "1454           False         False       False     False      False   \n",
       "1455           False         False       False     False      False   \n",
       "1456           False         False       False     False      False   \n",
       "1457           False         False       False     False      False   \n",
       "1458           False         False       False     False      False   \n",
       "\n",
       "      Lane_Type  Property_Shape  Land_Outline  Utility_Type  \\\n",
       "0         False           False         False         False   \n",
       "1         False           False         False         False   \n",
       "2         False           False         False         False   \n",
       "3         False           False         False         False   \n",
       "4         False           False         False         False   \n",
       "...         ...             ...           ...           ...   \n",
       "1454      False           False         False         False   \n",
       "1455      False           False         False         False   \n",
       "1456      False           False         False         False   \n",
       "1457      False           False         False         False   \n",
       "1458      False           False         False         False   \n",
       "\n",
       "      Lot_Configuration  ...  Screen_Lobby_Area  Pool_Area  Pool_Quality  \\\n",
       "0                 False  ...              False      False         False   \n",
       "1                 False  ...              False      False         False   \n",
       "2                 False  ...              False      False         False   \n",
       "3                 False  ...              False      False         False   \n",
       "4                 False  ...              False      False         False   \n",
       "...                 ...  ...                ...        ...           ...   \n",
       "1454              False  ...              False      False         False   \n",
       "1455              False  ...              False      False         False   \n",
       "1456              False  ...              False      False         False   \n",
       "1457              False  ...              False      False         False   \n",
       "1458              False  ...              False      False         False   \n",
       "\n",
       "      Fence_Quality  Miscellaneous_Feature  Miscellaneous_Value  Sale_Type  \\\n",
       "0             False                   True                False      False   \n",
       "1             False                   True                False      False   \n",
       "2             False                   True                False      False   \n",
       "3             False                   True                False      False   \n",
       "4             False                   True                False      False   \n",
       "...             ...                    ...                  ...        ...   \n",
       "1454          False                   True                False      False   \n",
       "1455          False                   True                False      False   \n",
       "1456          False                   True                False      False   \n",
       "1457          False                  False                False      False   \n",
       "1458          False                   True                False      False   \n",
       "\n",
       "      Sale_Condition  Sale_Price  House_life  \n",
       "0              False       False       False  \n",
       "1              False       False       False  \n",
       "2              False       False       False  \n",
       "3              False       False       False  \n",
       "4              False       False       False  \n",
       "...              ...         ...         ...  \n",
       "1454           False       False       False  \n",
       "1455           False       False       False  \n",
       "1456           False       False       False  \n",
       "1457           False       False       False  \n",
       "1458           False       False       False  \n",
       "\n",
       "[1459 rows x 76 columns]"
      ]
     },
     "execution_count": 18,
     "metadata": {},
     "output_type": "execute_result"
    }
   ],
   "source": [
    "df.isnull()"
   ]
  },
  {
   "cell_type": "code",
   "execution_count": 19,
   "metadata": {},
   "outputs": [
    {
     "data": {
      "text/plain": [
       "Building_Class           0\n",
       "Zoning_Class             0\n",
       "Lot_Extent             259\n",
       "Lot_Size                 0\n",
       "Road_Type                0\n",
       "                      ... \n",
       "Miscellaneous_Value      0\n",
       "Sale_Type                0\n",
       "Sale_Condition           0\n",
       "Sale_Price               0\n",
       "House_life               0\n",
       "Length: 76, dtype: int64"
      ]
     },
     "execution_count": 19,
     "metadata": {},
     "output_type": "execute_result"
    }
   ],
   "source": [
    "df.isnull().sum()"
   ]
  },
  {
   "cell_type": "code",
   "execution_count": 20,
   "metadata": {},
   "outputs": [
    {
     "name": "stdout",
     "output_type": "stream",
     "text": [
      "Building_Class   0.0\n",
      "Zoning_Class   0.0\n",
      "Lot_Extent   17.751884852638796\n",
      "Lot_Size   0.0\n",
      "Road_Type   0.0\n",
      "Lane_Type   0.0\n",
      "Property_Shape   0.0\n",
      "Land_Outline   0.0\n",
      "Utility_Type   0.0\n",
      "Lot_Configuration   0.0\n",
      "Property_Slope   0.0\n",
      "Neighborhood   0.0\n",
      "Condition1   0.0\n",
      "Condition2   0.0\n",
      "House_Type   0.0\n",
      "House_Design   0.0\n",
      "Overall_Material   0.0\n",
      "House_Condition   0.0\n",
      "Roof_Design   0.0\n",
      "Roof_Quality   0.0\n",
      "Exterior1st   0.0\n",
      "Exterior2nd   0.0\n",
      "Brick_Veneer_Type   0.5483207676490748\n",
      "Brick_Veneer_Area   0.5483207676490748\n",
      "Exterior_Material   0.0\n",
      "Exterior_Condition   0.0\n",
      "Foundation_Type   0.0\n",
      "Basement_Height   0.0\n",
      "Basement_Condition   0.0\n",
      "Exposure_Level   0.0\n",
      "BsmtFinType1   0.0\n",
      "BsmtFinSF1   0.0\n",
      "BsmtFinType2   0.0\n",
      "BsmtFinSF2   0.0\n",
      "BsmtUnfSF   0.0\n",
      "Total_Basement_Area   0.0\n",
      "Heating_Type   0.0\n",
      "Heating_Quality   0.0\n",
      "Air_Conditioning   0.0\n",
      "Electrical_System   0.06854009595613435\n",
      "First_Floor_Area   0.0\n",
      "Second_Floor_Area   0.0\n",
      "LowQualFinSF   0.0\n",
      "Grade_Living_Area   0.0\n",
      "Underground_Full_Bathroom   0.0\n",
      "Underground_Half_Bathroom   0.0\n",
      "Full_Bathroom_Above_Grade   0.0\n",
      "Half_Bathroom_Above_Grade   0.0\n",
      "Bedroom_Above_Grade   0.0\n",
      "Kitchen_Above_Grade   0.0\n",
      "Kitchen_Quality   0.0\n",
      "Rooms_Above_Grade   0.0\n",
      "Functional_Rate   0.0\n",
      "Fireplaces   0.0\n",
      "Fireplace_Quality   0.0\n",
      "Garage   0.0\n",
      "Garage_Finish_Year   0.0\n",
      "Garage_Size   0.0\n",
      "Garage_Area   0.0\n",
      "Garage_Quality   0.0\n",
      "Garage_Condition   0.0\n",
      "Pavedd_Drive   0.0\n",
      "W_Deck_Area   0.0\n",
      "Open_Lobby_Area   0.0\n",
      "Enclosed_Lobby_Area   0.0\n",
      "Three_Season_Lobby_Area   0.0\n",
      "Screen_Lobby_Area   0.0\n",
      "Pool_Area   0.0\n",
      "Pool_Quality   0.0\n",
      "Fence_Quality   0.0\n",
      "Miscellaneous_Feature   96.29883481836875\n",
      "Miscellaneous_Value   0.0\n",
      "Sale_Type   0.0\n",
      "Sale_Condition   0.0\n",
      "Sale_Price   0.0\n",
      "House_life   0.0\n"
     ]
    }
   ],
   "source": [
    "##checking percentage of nan values in column\n",
    "for val in df:\n",
    "   print(val, \" \", (df[val].isnull().sum() / df.shape[0]) * 100)"
   ]
  },
  {
   "cell_type": "code",
   "execution_count": 21,
   "metadata": {},
   "outputs": [],
   "source": [
    "#drop column having more than 75% nan\n",
    "df.drop(\"Miscellaneous_Feature\",axis=1,inplace=True)"
   ]
  },
  {
   "cell_type": "code",
   "execution_count": 22,
   "metadata": {},
   "outputs": [
    {
     "name": "stdout",
     "output_type": "stream",
     "text": [
      "18.231665524331735\n"
     ]
    }
   ],
   "source": [
    "# No of rows getting affctected by removing na's\n",
    "no_of_rows = df[df.isna().sum(axis=1) >= 1].shape[0]\n",
    "# % of rows getting affcted by removing Na's from column.\n",
    "print((no_of_rows / df.shape[0]) * 100)"
   ]
  },
  {
   "cell_type": "code",
   "execution_count": 23,
   "metadata": {},
   "outputs": [],
   "source": [
    "#  Imputation according to data type\n",
    "def imputenull(data):\n",
    "    for col in data.columns:\n",
    "        if data[col].dtypes == 'int64' or data[col].dtypes == 'float64':\n",
    "           data[col].fillna((data[col].mean()), inplace=True)\n",
    "        else:\n",
    "            data[col].fillna(data[col].value_counts().index[0], inplace=True)\n",
    "\n",
    "\n",
    "imputenull(df)"
   ]
  },
  {
   "cell_type": "code",
   "execution_count": 24,
   "metadata": {},
   "outputs": [
    {
     "data": {
      "text/plain": [
       "Building_Class         0\n",
       "Zoning_Class           0\n",
       "Lot_Extent             0\n",
       "Lot_Size               0\n",
       "Road_Type              0\n",
       "                      ..\n",
       "Miscellaneous_Value    0\n",
       "Sale_Type              0\n",
       "Sale_Condition         0\n",
       "Sale_Price             0\n",
       "House_life             0\n",
       "Length: 75, dtype: int64"
      ]
     },
     "execution_count": 24,
     "metadata": {},
     "output_type": "execute_result"
    }
   ],
   "source": [
    "# Now checking on the dataset after imputing the columns\n",
    "df.isnull().sum()"
   ]
  },
  {
   "cell_type": "markdown",
   "metadata": {},
   "source": [
    "### Converting Discrete Numerical column to Factor column.\n",
    "\n",
    "  'Garage_Size','Fireplaces','Rooms_Above_Grade','Kitchen_Above_Grade',\n",
    "'Bedroom_Above_Grade','Half_Bathroom_Above_Grade','Full_Bathroom_Above_Grade',\n",
    "'Underground_Half_Bathroom','Underground_Full_Bathroom','House_Condition',\n",
    "'Overall_Material','Building_Class'"
   ]
  },
  {
   "cell_type": "code",
   "execution_count": 25,
   "metadata": {},
   "outputs": [
    {
     "data": {
      "text/plain": [
       "Building_Class          object\n",
       "Zoning_Class            object\n",
       "Lot_Extent             float64\n",
       "Lot_Size                 int64\n",
       "Road_Type               object\n",
       "                        ...   \n",
       "Miscellaneous_Value      int64\n",
       "Sale_Type               object\n",
       "Sale_Condition          object\n",
       "Sale_Price               int64\n",
       "House_life               int64\n",
       "Length: 75, dtype: object"
      ]
     },
     "execution_count": 25,
     "metadata": {},
     "output_type": "execute_result"
    }
   ],
   "source": [
    "###Converting Discrete Numerical column to Factor column\n",
    "\n",
    "df[\"Garage_Size\"] = df[\"Garage_Size\"].astype(\"object\")\n",
    "df[\"Fireplaces\"] = df[\"Fireplaces\"].astype(\"object\")\n",
    "df[\"Rooms_Above_Grade\"] = df[\"Rooms_Above_Grade\"].astype(\"object\")\n",
    "df[\"Kitchen_Above_Grade\"] = df[\"Kitchen_Above_Grade\"].astype(\"object\")\n",
    "df[\"Bedroom_Above_Grade\"] = df[\"Bedroom_Above_Grade\"].astype(\"object\")\n",
    "df[\"Half_Bathroom_Above_Grade\"] = df[\"Half_Bathroom_Above_Grade\"].astype(\"object\")\n",
    "df[\"Full_Bathroom_Above_Grade\"] = df[\"Full_Bathroom_Above_Grade\"].astype(\"object\")\n",
    "df[\"Underground_Half_Bathroom\"] = df[\"Underground_Half_Bathroom\"].astype(\"object\")\n",
    "df[\"Underground_Full_Bathroom\"] = df[\"Underground_Full_Bathroom\"].astype(\"object\")\n",
    "df[\"House_Condition\"] = df[\"House_Condition\"].astype(\"object\")\n",
    "df[\"Overall_Material\"] = df[\"Overall_Material\"].astype(\"object\")\n",
    "df[\"Building_Class\"] = df[\"Building_Class\"].astype(\"object\")\n",
    "df.dtypes"
   ]
  },
  {
   "cell_type": "code",
   "execution_count": 26,
   "metadata": {},
   "outputs": [
    {
     "name": "stdout",
     "output_type": "stream",
     "text": [
      "<class 'pandas.core.frame.DataFrame'>\n",
      "RangeIndex: 1459 entries, 0 to 1458\n",
      "Data columns (total 75 columns):\n",
      " #   Column                     Non-Null Count  Dtype  \n",
      "---  ------                     --------------  -----  \n",
      " 0   Building_Class             1459 non-null   object \n",
      " 1   Zoning_Class               1459 non-null   object \n",
      " 2   Lot_Extent                 1459 non-null   float64\n",
      " 3   Lot_Size                   1459 non-null   int64  \n",
      " 4   Road_Type                  1459 non-null   object \n",
      " 5   Lane_Type                  1459 non-null   object \n",
      " 6   Property_Shape             1459 non-null   object \n",
      " 7   Land_Outline               1459 non-null   object \n",
      " 8   Utility_Type               1459 non-null   object \n",
      " 9   Lot_Configuration          1459 non-null   object \n",
      " 10  Property_Slope             1459 non-null   object \n",
      " 11  Neighborhood               1459 non-null   object \n",
      " 12  Condition1                 1459 non-null   object \n",
      " 13  Condition2                 1459 non-null   object \n",
      " 14  House_Type                 1459 non-null   object \n",
      " 15  House_Design               1459 non-null   object \n",
      " 16  Overall_Material           1459 non-null   object \n",
      " 17  House_Condition            1459 non-null   object \n",
      " 18  Roof_Design                1459 non-null   object \n",
      " 19  Roof_Quality               1459 non-null   object \n",
      " 20  Exterior1st                1459 non-null   object \n",
      " 21  Exterior2nd                1459 non-null   object \n",
      " 22  Brick_Veneer_Type          1459 non-null   object \n",
      " 23  Brick_Veneer_Area          1459 non-null   float64\n",
      " 24  Exterior_Material          1459 non-null   object \n",
      " 25  Exterior_Condition         1459 non-null   object \n",
      " 26  Foundation_Type            1459 non-null   object \n",
      " 27  Basement_Height            1459 non-null   object \n",
      " 28  Basement_Condition         1459 non-null   object \n",
      " 29  Exposure_Level             1459 non-null   object \n",
      " 30  BsmtFinType1               1459 non-null   object \n",
      " 31  BsmtFinSF1                 1459 non-null   int64  \n",
      " 32  BsmtFinType2               1459 non-null   object \n",
      " 33  BsmtFinSF2                 1459 non-null   int64  \n",
      " 34  BsmtUnfSF                  1459 non-null   int64  \n",
      " 35  Total_Basement_Area        1459 non-null   int64  \n",
      " 36  Heating_Type               1459 non-null   object \n",
      " 37  Heating_Quality            1459 non-null   object \n",
      " 38  Air_Conditioning           1459 non-null   object \n",
      " 39  Electrical_System          1459 non-null   object \n",
      " 40  First_Floor_Area           1459 non-null   int64  \n",
      " 41  Second_Floor_Area          1459 non-null   int64  \n",
      " 42  LowQualFinSF               1459 non-null   int64  \n",
      " 43  Grade_Living_Area          1459 non-null   int64  \n",
      " 44  Underground_Full_Bathroom  1459 non-null   object \n",
      " 45  Underground_Half_Bathroom  1459 non-null   object \n",
      " 46  Full_Bathroom_Above_Grade  1459 non-null   object \n",
      " 47  Half_Bathroom_Above_Grade  1459 non-null   object \n",
      " 48  Bedroom_Above_Grade        1459 non-null   object \n",
      " 49  Kitchen_Above_Grade        1459 non-null   object \n",
      " 50  Kitchen_Quality            1459 non-null   object \n",
      " 51  Rooms_Above_Grade          1459 non-null   object \n",
      " 52  Functional_Rate            1459 non-null   object \n",
      " 53  Fireplaces                 1459 non-null   object \n",
      " 54  Fireplace_Quality          1459 non-null   object \n",
      " 55  Garage                     1459 non-null   object \n",
      " 56  Garage_Finish_Year         1459 non-null   object \n",
      " 57  Garage_Size                1459 non-null   object \n",
      " 58  Garage_Area                1459 non-null   float64\n",
      " 59  Garage_Quality             1459 non-null   object \n",
      " 60  Garage_Condition           1459 non-null   object \n",
      " 61  Pavedd_Drive               1459 non-null   object \n",
      " 62  W_Deck_Area                1459 non-null   float64\n",
      " 63  Open_Lobby_Area            1459 non-null   float64\n",
      " 64  Enclosed_Lobby_Area        1459 non-null   float64\n",
      " 65  Three_Season_Lobby_Area    1459 non-null   int64  \n",
      " 66  Screen_Lobby_Area          1459 non-null   int64  \n",
      " 67  Pool_Area                  1459 non-null   int64  \n",
      " 68  Pool_Quality               1459 non-null   object \n",
      " 69  Fence_Quality              1459 non-null   object \n",
      " 70  Miscellaneous_Value        1459 non-null   int64  \n",
      " 71  Sale_Type                  1459 non-null   object \n",
      " 72  Sale_Condition             1459 non-null   object \n",
      " 73  Sale_Price                 1459 non-null   int64  \n",
      " 74  House_life                 1459 non-null   int64  \n",
      "dtypes: float64(6), int64(15), object(54)\n",
      "memory usage: 855.0+ KB\n"
     ]
    }
   ],
   "source": [
    "df.info()"
   ]
  },
  {
   "cell_type": "code",
   "execution_count": 27,
   "metadata": {},
   "outputs": [
    {
     "data": {
      "text/plain": [
       "object     54\n",
       "int64      15\n",
       "float64     6\n",
       "dtype: int64"
      ]
     },
     "execution_count": 27,
     "metadata": {},
     "output_type": "execute_result"
    }
   ],
   "source": [
    "##checking dtypes_count\n",
    "df.dtypes.value_counts()"
   ]
  },
  {
   "cell_type": "markdown",
   "metadata": {},
   "source": [
    "### Area column having negative values Replace it with zero because area can not be negative values"
   ]
  },
  {
   "cell_type": "code",
   "execution_count": 28,
   "metadata": {},
   "outputs": [],
   "source": [
    "### Area column having negative values Replace it with zero\n",
    "\n",
    "df['Garage_Area'] = df['Garage_Area'].clip(lower=0)\n",
    "df['W_Deck_Area'] = df['W_Deck_Area'].clip(lower=0)\n",
    "df['Open_Lobby_Area'] = df['Open_Lobby_Area'].clip(lower=0)\n",
    "df['Enclosed_Lobby_Area'] = df['Enclosed_Lobby_Area'].clip(lower=0)"
   ]
  },
  {
   "cell_type": "markdown",
   "metadata": {},
   "source": [
    "### Biased column's"
   ]
  },
  {
   "cell_type": "code",
   "execution_count": 29,
   "metadata": {},
   "outputs": [
    {
     "name": "stdout",
     "output_type": "stream",
     "text": [
      "['Road_Type', 'Utility_Type', 'Condition2', 'Roof_Quality', 'Heating_Type', 'LowQualFinSF', 'Kitchen_Above_Grade', 'Three_Season_Lobby_Area', 'Pool_Area', 'Pool_Quality', 'Miscellaneous_Value']\n"
     ]
    }
   ],
   "source": [
    "# Checking the single value domination/biased\n",
    "quasi_constant_feat = []\n",
    "for feature in df.columns:\n",
    "    dominant = (df[feature].value_counts() / np.float(len(df))).sort_values(ascending=False).values[0]\n",
    "    if dominant > 0.95:\n",
    "       quasi_constant_feat.append(feature)\n",
    "\n",
    "print(quasi_constant_feat)"
   ]
  },
  {
   "cell_type": "code",
   "execution_count": 30,
   "metadata": {},
   "outputs": [
    {
     "data": {
      "text/plain": [
       "(1459, 64)"
      ]
     },
     "execution_count": 30,
     "metadata": {},
     "output_type": "execute_result"
    }
   ],
   "source": [
    "# remove biased column\n",
    "\n",
    "df.drop(\"Road_Type\",axis=1,inplace=True)\n",
    "df.drop(\"Utility_Type\",axis=1,inplace=True)\n",
    "df.drop(\"Condition2\",axis=1,inplace=True)\n",
    "df.drop(\"Roof_Quality\",axis=1,inplace=True)\n",
    "df.drop(\"Heating_Type\",axis=1,inplace=True)\n",
    "df.drop(\"LowQualFinSF\",axis=1,inplace=True)\n",
    "df.drop(\"Kitchen_Above_Grade\",axis=1,inplace=True)\n",
    "df.drop(\"Three_Season_Lobby_Area\",axis=1,inplace=True)\n",
    "df.drop(\"Pool_Area\",axis=1,inplace=True)\n",
    "df.drop(\"Pool_Quality\",axis=1,inplace=True)\n",
    "df.drop(\"Miscellaneous_Value\",axis=1,inplace=True)\n",
    "df.shape"
   ]
  },
  {
   "cell_type": "markdown",
   "metadata": {},
   "source": [
    "### Target Varable analysis"
   ]
  },
  {
   "cell_type": "code",
   "execution_count": 31,
   "metadata": {},
   "outputs": [
    {
     "name": "stdout",
     "output_type": "stream",
     "text": [
      "<class 'pandas.core.frame.DataFrame'>\n",
      "RangeIndex: 1459 entries, 0 to 1458\n",
      "Data columns (total 64 columns):\n",
      " #   Column                     Non-Null Count  Dtype  \n",
      "---  ------                     --------------  -----  \n",
      " 0   Building_Class             1459 non-null   object \n",
      " 1   Zoning_Class               1459 non-null   object \n",
      " 2   Lot_Extent                 1459 non-null   float64\n",
      " 3   Lot_Size                   1459 non-null   int64  \n",
      " 4   Lane_Type                  1459 non-null   object \n",
      " 5   Property_Shape             1459 non-null   object \n",
      " 6   Land_Outline               1459 non-null   object \n",
      " 7   Lot_Configuration          1459 non-null   object \n",
      " 8   Property_Slope             1459 non-null   object \n",
      " 9   Neighborhood               1459 non-null   object \n",
      " 10  Condition1                 1459 non-null   object \n",
      " 11  House_Type                 1459 non-null   object \n",
      " 12  House_Design               1459 non-null   object \n",
      " 13  Overall_Material           1459 non-null   object \n",
      " 14  House_Condition            1459 non-null   object \n",
      " 15  Roof_Design                1459 non-null   object \n",
      " 16  Exterior1st                1459 non-null   object \n",
      " 17  Exterior2nd                1459 non-null   object \n",
      " 18  Brick_Veneer_Type          1459 non-null   object \n",
      " 19  Brick_Veneer_Area          1459 non-null   float64\n",
      " 20  Exterior_Material          1459 non-null   object \n",
      " 21  Exterior_Condition         1459 non-null   object \n",
      " 22  Foundation_Type            1459 non-null   object \n",
      " 23  Basement_Height            1459 non-null   object \n",
      " 24  Basement_Condition         1459 non-null   object \n",
      " 25  Exposure_Level             1459 non-null   object \n",
      " 26  BsmtFinType1               1459 non-null   object \n",
      " 27  BsmtFinSF1                 1459 non-null   int64  \n",
      " 28  BsmtFinType2               1459 non-null   object \n",
      " 29  BsmtFinSF2                 1459 non-null   int64  \n",
      " 30  BsmtUnfSF                  1459 non-null   int64  \n",
      " 31  Total_Basement_Area        1459 non-null   int64  \n",
      " 32  Heating_Quality            1459 non-null   object \n",
      " 33  Air_Conditioning           1459 non-null   object \n",
      " 34  Electrical_System          1459 non-null   object \n",
      " 35  First_Floor_Area           1459 non-null   int64  \n",
      " 36  Second_Floor_Area          1459 non-null   int64  \n",
      " 37  Grade_Living_Area          1459 non-null   int64  \n",
      " 38  Underground_Full_Bathroom  1459 non-null   object \n",
      " 39  Underground_Half_Bathroom  1459 non-null   object \n",
      " 40  Full_Bathroom_Above_Grade  1459 non-null   object \n",
      " 41  Half_Bathroom_Above_Grade  1459 non-null   object \n",
      " 42  Bedroom_Above_Grade        1459 non-null   object \n",
      " 43  Kitchen_Quality            1459 non-null   object \n",
      " 44  Rooms_Above_Grade          1459 non-null   object \n",
      " 45  Functional_Rate            1459 non-null   object \n",
      " 46  Fireplaces                 1459 non-null   object \n",
      " 47  Fireplace_Quality          1459 non-null   object \n",
      " 48  Garage                     1459 non-null   object \n",
      " 49  Garage_Finish_Year         1459 non-null   object \n",
      " 50  Garage_Size                1459 non-null   object \n",
      " 51  Garage_Area                1459 non-null   float64\n",
      " 52  Garage_Quality             1459 non-null   object \n",
      " 53  Garage_Condition           1459 non-null   object \n",
      " 54  Pavedd_Drive               1459 non-null   object \n",
      " 55  W_Deck_Area                1459 non-null   float64\n",
      " 56  Open_Lobby_Area            1459 non-null   float64\n",
      " 57  Enclosed_Lobby_Area        1459 non-null   float64\n",
      " 58  Screen_Lobby_Area          1459 non-null   int64  \n",
      " 59  Fence_Quality              1459 non-null   object \n",
      " 60  Sale_Type                  1459 non-null   object \n",
      " 61  Sale_Condition             1459 non-null   object \n",
      " 62  tar_var                    1459 non-null   int64  \n",
      " 63  House_life                 1459 non-null   int64  \n",
      "dtypes: float64(6), int64(11), object(47)\n",
      "memory usage: 729.6+ KB\n"
     ]
    }
   ],
   "source": [
    "## Renaming the Target variable\n",
    "df.rename(columns={'Sale_Price':'tar_var'}, inplace=True)\n",
    "df.info()"
   ]
  },
  {
   "cell_type": "code",
   "execution_count": 32,
   "metadata": {},
   "outputs": [
    {
     "data": {
      "image/png": "[encoded data removed]",
      "text/plain": [
       "<Figure size 432x288 with 1 Axes>"
      ]
     },
     "metadata": {
      "needs_background": "light"
     },
     "output_type": "display_data"
    }
   ],
   "source": [
    "#Plotting histogram of target variable\n",
    "tar_var = df['tar_var']\n",
    "sns.distplot(tar_var);"
   ]
  },
  {
   "cell_type": "code",
   "execution_count": 33,
   "metadata": {},
   "outputs": [
    {
     "data": {
      "image/png": "[encoded data removed]",
      "text/plain": [
       "<Figure size 432x288 with 1 Axes>"
      ]
     },
     "metadata": {
      "needs_background": "light"
     },
     "output_type": "display_data"
    }
   ],
   "source": [
    "# Histograms : by removing density plot from top of it.\n",
    "sns.distplot(tar_var, kde=False, rug=False);"
   ]
  },
  {
   "cell_type": "code",
   "execution_count": 34,
   "metadata": {},
   "outputs": [
    {
     "data": {
      "image/png": "[encoded data removed]",
      "text/plain": [
       "<Figure size 432x288 with 1 Axes>"
      ]
     },
     "metadata": {
      "needs_background": "light"
     },
     "output_type": "display_data"
    }
   ],
   "source": [
    "# Kernel density estimation :\n",
    "sns.distplot(tar_var, hist=False, rug=False);"
   ]
  },
  {
   "cell_type": "code",
   "execution_count": 35,
   "metadata": {},
   "outputs": [
    {
     "data": {
      "text/plain": [
       "1.8817600468196507"
      ]
     },
     "execution_count": 35,
     "metadata": {},
     "output_type": "execute_result"
    }
   ],
   "source": [
    "#Checking skewness\n",
    "tar_var.skew()"
   ]
  },
  {
   "cell_type": "code",
   "execution_count": 36,
   "metadata": {},
   "outputs": [
    {
     "name": "stdout",
     "output_type": "stream",
     "text": [
      "[0.34688698 0.0069979  0.53571424 ... 0.36576971 1.07701907 0.48867367]\n",
      "(array([  53,   58,  112,  161,  178,  185,  224,  231,  278,  349,  378,\n",
      "        389,  440,  473,  477,  496,  515,  527,  591,  661,  664,  688,\n",
      "        691,  769,  774,  798,  803,  825,  898,  987, 1046, 1142, 1169,\n",
      "       1181, 1182, 1243, 1268, 1353, 1373, 1437], dtype=int64),)\n"
     ]
    }
   ],
   "source": [
    "#Discover outliers with mathematical function\n",
    "\n",
    "z = np.abs(stats.zscore(tar_var))\n",
    "print(z)\n",
    "threshold = 2.5\n",
    "print(np.where(z > 2.5))\n",
    "x= np.where(z > 2.5)"
   ]
  },
  {
   "cell_type": "code",
   "execution_count": 37,
   "metadata": {},
   "outputs": [
    {
     "data": {
      "text/plain": [
       "40"
      ]
     },
     "execution_count": 37,
     "metadata": {},
     "output_type": "execute_result"
    }
   ],
   "source": [
    "#no of outliers\n",
    "no_of_outlier=  len(x[0])\n",
    "no_of_outlier"
   ]
  },
  {
   "cell_type": "code",
   "execution_count": 38,
   "metadata": {},
   "outputs": [
    {
     "data": {
      "text/html": [
       "<div>\n",
       "<style scoped>\n",
       "    .dataframe tbody tr th:only-of-type {\n",
       "        vertical-align: middle;\n",
       "    }\n",
       "\n",
       "    .dataframe tbody tr th {\n",
       "        vertical-align: top;\n",
       "    }\n",
       "\n",
       "    .dataframe thead th {\n",
       "        text-align: right;\n",
       "    }\n",
       "</style>\n",
       "<table border=\"1\" class=\"dataframe\">\n",
       "  <thead>\n",
       "    <tr style=\"text-align: right;\">\n",
       "      <th></th>\n",
       "      <th>Building_Class</th>\n",
       "      <th>Zoning_Class</th>\n",
       "      <th>Lot_Extent</th>\n",
       "      <th>Lot_Size</th>\n",
       "      <th>Lane_Type</th>\n",
       "      <th>Property_Shape</th>\n",
       "      <th>Land_Outline</th>\n",
       "      <th>Lot_Configuration</th>\n",
       "      <th>Property_Slope</th>\n",
       "      <th>Neighborhood</th>\n",
       "      <th>...</th>\n",
       "      <th>Pavedd_Drive</th>\n",
       "      <th>W_Deck_Area</th>\n",
       "      <th>Open_Lobby_Area</th>\n",
       "      <th>Enclosed_Lobby_Area</th>\n",
       "      <th>Screen_Lobby_Area</th>\n",
       "      <th>Fence_Quality</th>\n",
       "      <th>Sale_Type</th>\n",
       "      <th>Sale_Condition</th>\n",
       "      <th>tar_var</th>\n",
       "      <th>House_life</th>\n",
       "    </tr>\n",
       "  </thead>\n",
       "  <tbody>\n",
       "    <tr>\n",
       "      <th>53</th>\n",
       "      <td>20</td>\n",
       "      <td>RLD</td>\n",
       "      <td>68.000000</td>\n",
       "      <td>50271</td>\n",
       "      <td>No_Allay_Access</td>\n",
       "      <td>IR1</td>\n",
       "      <td>Low</td>\n",
       "      <td>I</td>\n",
       "      <td>GS</td>\n",
       "      <td>Veenker</td>\n",
       "      <td>...</td>\n",
       "      <td>Y</td>\n",
       "      <td>134.075183</td>\n",
       "      <td>24.681074</td>\n",
       "      <td>0.000000</td>\n",
       "      <td>0</td>\n",
       "      <td>No_Fence</td>\n",
       "      <td>WD</td>\n",
       "      <td>Normal</td>\n",
       "      <td>385000</td>\n",
       "      <td>39</td>\n",
       "    </tr>\n",
       "    <tr>\n",
       "      <th>58</th>\n",
       "      <td>60</td>\n",
       "      <td>RLD</td>\n",
       "      <td>66.000000</td>\n",
       "      <td>13682</td>\n",
       "      <td>No_Allay_Access</td>\n",
       "      <td>IR2</td>\n",
       "      <td>HLS</td>\n",
       "      <td>CulDSac</td>\n",
       "      <td>GS</td>\n",
       "      <td>StoneBr</td>\n",
       "      <td>...</td>\n",
       "      <td>Y</td>\n",
       "      <td>143.546611</td>\n",
       "      <td>38.096634</td>\n",
       "      <td>0.000000</td>\n",
       "      <td>0</td>\n",
       "      <td>No_Fence</td>\n",
       "      <td>New</td>\n",
       "      <td>Partial</td>\n",
       "      <td>438780</td>\n",
       "      <td>14</td>\n",
       "    </tr>\n",
       "    <tr>\n",
       "      <th>112</th>\n",
       "      <td>60</td>\n",
       "      <td>RLD</td>\n",
       "      <td>77.000000</td>\n",
       "      <td>9965</td>\n",
       "      <td>No_Allay_Access</td>\n",
       "      <td>Reg</td>\n",
       "      <td>Lvl</td>\n",
       "      <td>I</td>\n",
       "      <td>GS</td>\n",
       "      <td>CollgCr</td>\n",
       "      <td>...</td>\n",
       "      <td>Y</td>\n",
       "      <td>0.000000</td>\n",
       "      <td>48.912222</td>\n",
       "      <td>27.953119</td>\n",
       "      <td>168</td>\n",
       "      <td>No_Fence</td>\n",
       "      <td>New</td>\n",
       "      <td>Partial</td>\n",
       "      <td>383970</td>\n",
       "      <td>13</td>\n",
       "    </tr>\n",
       "    <tr>\n",
       "      <th>161</th>\n",
       "      <td>60</td>\n",
       "      <td>RLD</td>\n",
       "      <td>110.000000</td>\n",
       "      <td>13688</td>\n",
       "      <td>No_Allay_Access</td>\n",
       "      <td>IR1</td>\n",
       "      <td>Lvl</td>\n",
       "      <td>I</td>\n",
       "      <td>GS</td>\n",
       "      <td>NridgHt</td>\n",
       "      <td>...</td>\n",
       "      <td>Y</td>\n",
       "      <td>220.765696</td>\n",
       "      <td>92.411046</td>\n",
       "      <td>51.864835</td>\n",
       "      <td>0</td>\n",
       "      <td>No_Fence</td>\n",
       "      <td>WD</td>\n",
       "      <td>Normal</td>\n",
       "      <td>412500</td>\n",
       "      <td>17</td>\n",
       "    </tr>\n",
       "    <tr>\n",
       "      <th>178</th>\n",
       "      <td>20</td>\n",
       "      <td>RLD</td>\n",
       "      <td>63.000000</td>\n",
       "      <td>17423</td>\n",
       "      <td>No_Allay_Access</td>\n",
       "      <td>IR1</td>\n",
       "      <td>Lvl</td>\n",
       "      <td>CulDSac</td>\n",
       "      <td>GS</td>\n",
       "      <td>StoneBr</td>\n",
       "      <td>...</td>\n",
       "      <td>Y</td>\n",
       "      <td>148.575176</td>\n",
       "      <td>0.000000</td>\n",
       "      <td>0.000000</td>\n",
       "      <td>0</td>\n",
       "      <td>No_Fence</td>\n",
       "      <td>New</td>\n",
       "      <td>Partial</td>\n",
       "      <td>501837</td>\n",
       "      <td>12</td>\n",
       "    </tr>\n",
       "    <tr>\n",
       "      <th>185</th>\n",
       "      <td>75</td>\n",
       "      <td>RMD</td>\n",
       "      <td>90.000000</td>\n",
       "      <td>22950</td>\n",
       "      <td>No_Allay_Access</td>\n",
       "      <td>IR2</td>\n",
       "      <td>Lvl</td>\n",
       "      <td>I</td>\n",
       "      <td>GS</td>\n",
       "      <td>OldTown</td>\n",
       "      <td>...</td>\n",
       "      <td>Y</td>\n",
       "      <td>192.300758</td>\n",
       "      <td>28.778159</td>\n",
       "      <td>28.453881</td>\n",
       "      <td>410</td>\n",
       "      <td>GdPrv</td>\n",
       "      <td>WD</td>\n",
       "      <td>Normal</td>\n",
       "      <td>475000</td>\n",
       "      <td>128</td>\n",
       "    </tr>\n",
       "    <tr>\n",
       "      <th>224</th>\n",
       "      <td>20</td>\n",
       "      <td>RLD</td>\n",
       "      <td>103.000000</td>\n",
       "      <td>13472</td>\n",
       "      <td>No_Allay_Access</td>\n",
       "      <td>Reg</td>\n",
       "      <td>Lvl</td>\n",
       "      <td>I</td>\n",
       "      <td>GS</td>\n",
       "      <td>NridgHt</td>\n",
       "      <td>...</td>\n",
       "      <td>Y</td>\n",
       "      <td>0.000000</td>\n",
       "      <td>13.280539</td>\n",
       "      <td>11.196911</td>\n",
       "      <td>0</td>\n",
       "      <td>No_Fence</td>\n",
       "      <td>WD</td>\n",
       "      <td>Normal</td>\n",
       "      <td>386250</td>\n",
       "      <td>17</td>\n",
       "    </tr>\n",
       "    <tr>\n",
       "      <th>231</th>\n",
       "      <td>60</td>\n",
       "      <td>RLD</td>\n",
       "      <td>174.000000</td>\n",
       "      <td>15138</td>\n",
       "      <td>No_Allay_Access</td>\n",
       "      <td>IR1</td>\n",
       "      <td>Lvl</td>\n",
       "      <td>I</td>\n",
       "      <td>GS</td>\n",
       "      <td>NoRidge</td>\n",
       "      <td>...</td>\n",
       "      <td>Y</td>\n",
       "      <td>213.288557</td>\n",
       "      <td>0.000000</td>\n",
       "      <td>49.979600</td>\n",
       "      <td>0</td>\n",
       "      <td>No_Fence</td>\n",
       "      <td>WD</td>\n",
       "      <td>Normal</td>\n",
       "      <td>403000</td>\n",
       "      <td>25</td>\n",
       "    </tr>\n",
       "    <tr>\n",
       "      <th>278</th>\n",
       "      <td>20</td>\n",
       "      <td>RLD</td>\n",
       "      <td>107.000000</td>\n",
       "      <td>14450</td>\n",
       "      <td>No_Allay_Access</td>\n",
       "      <td>Reg</td>\n",
       "      <td>Lvl</td>\n",
       "      <td>I</td>\n",
       "      <td>GS</td>\n",
       "      <td>NridgHt</td>\n",
       "      <td>...</td>\n",
       "      <td>Y</td>\n",
       "      <td>0.000000</td>\n",
       "      <td>43.918450</td>\n",
       "      <td>77.446294</td>\n",
       "      <td>142</td>\n",
       "      <td>No_Fence</td>\n",
       "      <td>New</td>\n",
       "      <td>Partial</td>\n",
       "      <td>415298</td>\n",
       "      <td>14</td>\n",
       "    </tr>\n",
       "    <tr>\n",
       "      <th>349</th>\n",
       "      <td>60</td>\n",
       "      <td>RLD</td>\n",
       "      <td>56.000000</td>\n",
       "      <td>20431</td>\n",
       "      <td>No_Allay_Access</td>\n",
       "      <td>IR2</td>\n",
       "      <td>Lvl</td>\n",
       "      <td>I</td>\n",
       "      <td>GS</td>\n",
       "      <td>NridgHt</td>\n",
       "      <td>...</td>\n",
       "      <td>Y</td>\n",
       "      <td>396.150118</td>\n",
       "      <td>0.000000</td>\n",
       "      <td>89.157196</td>\n",
       "      <td>0</td>\n",
       "      <td>No_Fence</td>\n",
       "      <td>New</td>\n",
       "      <td>Partial</td>\n",
       "      <td>437154</td>\n",
       "      <td>15</td>\n",
       "    </tr>\n",
       "    <tr>\n",
       "      <th>378</th>\n",
       "      <td>20</td>\n",
       "      <td>RLD</td>\n",
       "      <td>88.000000</td>\n",
       "      <td>11394</td>\n",
       "      <td>No_Allay_Access</td>\n",
       "      <td>Reg</td>\n",
       "      <td>Lvl</td>\n",
       "      <td>C</td>\n",
       "      <td>GS</td>\n",
       "      <td>StoneBr</td>\n",
       "      <td>...</td>\n",
       "      <td>Y</td>\n",
       "      <td>0.000000</td>\n",
       "      <td>53.469115</td>\n",
       "      <td>37.371234</td>\n",
       "      <td>0</td>\n",
       "      <td>No_Fence</td>\n",
       "      <td>New</td>\n",
       "      <td>Partial</td>\n",
       "      <td>394432</td>\n",
       "      <td>10</td>\n",
       "    </tr>\n",
       "    <tr>\n",
       "      <th>389</th>\n",
       "      <td>60</td>\n",
       "      <td>RLD</td>\n",
       "      <td>96.000000</td>\n",
       "      <td>12474</td>\n",
       "      <td>No_Allay_Access</td>\n",
       "      <td>Reg</td>\n",
       "      <td>Lvl</td>\n",
       "      <td>I</td>\n",
       "      <td>GS</td>\n",
       "      <td>NridgHt</td>\n",
       "      <td>...</td>\n",
       "      <td>Y</td>\n",
       "      <td>0.057297</td>\n",
       "      <td>234.675577</td>\n",
       "      <td>30.542865</td>\n",
       "      <td>0</td>\n",
       "      <td>No_Fence</td>\n",
       "      <td>New</td>\n",
       "      <td>Partial</td>\n",
       "      <td>426000</td>\n",
       "      <td>13</td>\n",
       "    </tr>\n",
       "    <tr>\n",
       "      <th>440</th>\n",
       "      <td>20</td>\n",
       "      <td>RLD</td>\n",
       "      <td>105.000000</td>\n",
       "      <td>15431</td>\n",
       "      <td>No_Allay_Access</td>\n",
       "      <td>Reg</td>\n",
       "      <td>Lvl</td>\n",
       "      <td>I</td>\n",
       "      <td>GS</td>\n",
       "      <td>NridgHt</td>\n",
       "      <td>...</td>\n",
       "      <td>Y</td>\n",
       "      <td>177.858013</td>\n",
       "      <td>84.790279</td>\n",
       "      <td>113.336185</td>\n",
       "      <td>170</td>\n",
       "      <td>No_Fence</td>\n",
       "      <td>WD</td>\n",
       "      <td>Normal</td>\n",
       "      <td>555000</td>\n",
       "      <td>12</td>\n",
       "    </tr>\n",
       "    <tr>\n",
       "      <th>473</th>\n",
       "      <td>20</td>\n",
       "      <td>RLD</td>\n",
       "      <td>110.000000</td>\n",
       "      <td>14977</td>\n",
       "      <td>No_Allay_Access</td>\n",
       "      <td>IR1</td>\n",
       "      <td>Lvl</td>\n",
       "      <td>I</td>\n",
       "      <td>GS</td>\n",
       "      <td>NridgHt</td>\n",
       "      <td>...</td>\n",
       "      <td>Y</td>\n",
       "      <td>0.000000</td>\n",
       "      <td>3.169658</td>\n",
       "      <td>63.288096</td>\n",
       "      <td>0</td>\n",
       "      <td>No_Fence</td>\n",
       "      <td>New</td>\n",
       "      <td>Partial</td>\n",
       "      <td>440000</td>\n",
       "      <td>14</td>\n",
       "    </tr>\n",
       "    <tr>\n",
       "      <th>477</th>\n",
       "      <td>60</td>\n",
       "      <td>RLD</td>\n",
       "      <td>105.000000</td>\n",
       "      <td>13693</td>\n",
       "      <td>No_Allay_Access</td>\n",
       "      <td>Reg</td>\n",
       "      <td>Lvl</td>\n",
       "      <td>I</td>\n",
       "      <td>GS</td>\n",
       "      <td>NridgHt</td>\n",
       "      <td>...</td>\n",
       "      <td>Y</td>\n",
       "      <td>99.099886</td>\n",
       "      <td>0.000000</td>\n",
       "      <td>46.392110</td>\n",
       "      <td>0</td>\n",
       "      <td>No_Fence</td>\n",
       "      <td>WD</td>\n",
       "      <td>Normal</td>\n",
       "      <td>380000</td>\n",
       "      <td>14</td>\n",
       "    </tr>\n",
       "    <tr>\n",
       "      <th>496</th>\n",
       "      <td>20</td>\n",
       "      <td>RLD</td>\n",
       "      <td>70.045833</td>\n",
       "      <td>12692</td>\n",
       "      <td>No_Allay_Access</td>\n",
       "      <td>IR1</td>\n",
       "      <td>Lvl</td>\n",
       "      <td>I</td>\n",
       "      <td>GS</td>\n",
       "      <td>NoRidge</td>\n",
       "      <td>...</td>\n",
       "      <td>Y</td>\n",
       "      <td>210.811799</td>\n",
       "      <td>0.000000</td>\n",
       "      <td>0.000000</td>\n",
       "      <td>0</td>\n",
       "      <td>No_Fence</td>\n",
       "      <td>WD</td>\n",
       "      <td>Normal</td>\n",
       "      <td>430000</td>\n",
       "      <td>28</td>\n",
       "    </tr>\n",
       "    <tr>\n",
       "      <th>515</th>\n",
       "      <td>20</td>\n",
       "      <td>RLD</td>\n",
       "      <td>94.000000</td>\n",
       "      <td>12220</td>\n",
       "      <td>No_Allay_Access</td>\n",
       "      <td>Reg</td>\n",
       "      <td>Lvl</td>\n",
       "      <td>I</td>\n",
       "      <td>GS</td>\n",
       "      <td>NridgHt</td>\n",
       "      <td>...</td>\n",
       "      <td>Y</td>\n",
       "      <td>284.459442</td>\n",
       "      <td>84.567882</td>\n",
       "      <td>18.093725</td>\n",
       "      <td>0</td>\n",
       "      <td>No_Fence</td>\n",
       "      <td>New</td>\n",
       "      <td>Partial</td>\n",
       "      <td>402861</td>\n",
       "      <td>11</td>\n",
       "    </tr>\n",
       "    <tr>\n",
       "      <th>527</th>\n",
       "      <td>60</td>\n",
       "      <td>RLD</td>\n",
       "      <td>67.000000</td>\n",
       "      <td>14948</td>\n",
       "      <td>No_Allay_Access</td>\n",
       "      <td>IR1</td>\n",
       "      <td>Lvl</td>\n",
       "      <td>I</td>\n",
       "      <td>GS</td>\n",
       "      <td>NridgHt</td>\n",
       "      <td>...</td>\n",
       "      <td>Y</td>\n",
       "      <td>163.198507</td>\n",
       "      <td>69.389608</td>\n",
       "      <td>36.809422</td>\n",
       "      <td>0</td>\n",
       "      <td>No_Fence</td>\n",
       "      <td>New</td>\n",
       "      <td>Partial</td>\n",
       "      <td>446261</td>\n",
       "      <td>12</td>\n",
       "    </tr>\n",
       "    <tr>\n",
       "      <th>591</th>\n",
       "      <td>60</td>\n",
       "      <td>RLD</td>\n",
       "      <td>97.000000</td>\n",
       "      <td>13478</td>\n",
       "      <td>No_Allay_Access</td>\n",
       "      <td>IR1</td>\n",
       "      <td>Lvl</td>\n",
       "      <td>C</td>\n",
       "      <td>GS</td>\n",
       "      <td>NridgHt</td>\n",
       "      <td>...</td>\n",
       "      <td>Y</td>\n",
       "      <td>397.245512</td>\n",
       "      <td>112.142838</td>\n",
       "      <td>0.000000</td>\n",
       "      <td>0</td>\n",
       "      <td>No_Fence</td>\n",
       "      <td>ConLI</td>\n",
       "      <td>Normal</td>\n",
       "      <td>451950</td>\n",
       "      <td>12</td>\n",
       "    </tr>\n",
       "    <tr>\n",
       "      <th>661</th>\n",
       "      <td>60</td>\n",
       "      <td>RLD</td>\n",
       "      <td>52.000000</td>\n",
       "      <td>46589</td>\n",
       "      <td>No_Allay_Access</td>\n",
       "      <td>IR2</td>\n",
       "      <td>Lvl</td>\n",
       "      <td>CulDSac</td>\n",
       "      <td>GS</td>\n",
       "      <td>NoRidge</td>\n",
       "      <td>...</td>\n",
       "      <td>Y</td>\n",
       "      <td>31.292592</td>\n",
       "      <td>23.774532</td>\n",
       "      <td>0.000000</td>\n",
       "      <td>0</td>\n",
       "      <td>No_Fence</td>\n",
       "      <td>WD</td>\n",
       "      <td>Normal</td>\n",
       "      <td>402000</td>\n",
       "      <td>26</td>\n",
       "    </tr>\n",
       "    <tr>\n",
       "      <th>664</th>\n",
       "      <td>20</td>\n",
       "      <td>RLD</td>\n",
       "      <td>49.000000</td>\n",
       "      <td>20896</td>\n",
       "      <td>No_Allay_Access</td>\n",
       "      <td>IR2</td>\n",
       "      <td>Lvl</td>\n",
       "      <td>CulDSac</td>\n",
       "      <td>GS</td>\n",
       "      <td>Somerst</td>\n",
       "      <td>...</td>\n",
       "      <td>Y</td>\n",
       "      <td>146.424214</td>\n",
       "      <td>53.611520</td>\n",
       "      <td>54.814327</td>\n",
       "      <td>0</td>\n",
       "      <td>No_Fence</td>\n",
       "      <td>New</td>\n",
       "      <td>Partial</td>\n",
       "      <td>423000</td>\n",
       "      <td>15</td>\n",
       "    </tr>\n",
       "    <tr>\n",
       "      <th>688</th>\n",
       "      <td>20</td>\n",
       "      <td>RLD</td>\n",
       "      <td>60.000000</td>\n",
       "      <td>8089</td>\n",
       "      <td>No_Allay_Access</td>\n",
       "      <td>Reg</td>\n",
       "      <td>HLS</td>\n",
       "      <td>I</td>\n",
       "      <td>GS</td>\n",
       "      <td>StoneBr</td>\n",
       "      <td>...</td>\n",
       "      <td>Y</td>\n",
       "      <td>376.087880</td>\n",
       "      <td>60.245746</td>\n",
       "      <td>0.000000</td>\n",
       "      <td>0</td>\n",
       "      <td>No_Fence</td>\n",
       "      <td>New</td>\n",
       "      <td>Partial</td>\n",
       "      <td>392000</td>\n",
       "      <td>13</td>\n",
       "    </tr>\n",
       "    <tr>\n",
       "      <th>691</th>\n",
       "      <td>60</td>\n",
       "      <td>RLD</td>\n",
       "      <td>104.000000</td>\n",
       "      <td>21535</td>\n",
       "      <td>No_Allay_Access</td>\n",
       "      <td>IR1</td>\n",
       "      <td>Lvl</td>\n",
       "      <td>C</td>\n",
       "      <td>GS</td>\n",
       "      <td>NoRidge</td>\n",
       "      <td>...</td>\n",
       "      <td>Y</td>\n",
       "      <td>165.269614</td>\n",
       "      <td>142.772453</td>\n",
       "      <td>0.000000</td>\n",
       "      <td>0</td>\n",
       "      <td>No_Fence</td>\n",
       "      <td>WD</td>\n",
       "      <td>Normal</td>\n",
       "      <td>755000</td>\n",
       "      <td>26</td>\n",
       "    </tr>\n",
       "    <tr>\n",
       "      <th>769</th>\n",
       "      <td>60</td>\n",
       "      <td>RLD</td>\n",
       "      <td>47.000000</td>\n",
       "      <td>53504</td>\n",
       "      <td>No_Allay_Access</td>\n",
       "      <td>IR2</td>\n",
       "      <td>HLS</td>\n",
       "      <td>CulDSac</td>\n",
       "      <td>MS</td>\n",
       "      <td>StoneBr</td>\n",
       "      <td>...</td>\n",
       "      <td>Y</td>\n",
       "      <td>26.325684</td>\n",
       "      <td>56.479092</td>\n",
       "      <td>52.897533</td>\n",
       "      <td>210</td>\n",
       "      <td>No_Fence</td>\n",
       "      <td>WD</td>\n",
       "      <td>Normal</td>\n",
       "      <td>538000</td>\n",
       "      <td>17</td>\n",
       "    </tr>\n",
       "    <tr>\n",
       "      <th>774</th>\n",
       "      <td>20</td>\n",
       "      <td>RLD</td>\n",
       "      <td>110.000000</td>\n",
       "      <td>14226</td>\n",
       "      <td>No_Allay_Access</td>\n",
       "      <td>Reg</td>\n",
       "      <td>Lvl</td>\n",
       "      <td>C</td>\n",
       "      <td>GS</td>\n",
       "      <td>NridgHt</td>\n",
       "      <td>...</td>\n",
       "      <td>Y</td>\n",
       "      <td>0.000000</td>\n",
       "      <td>72.500615</td>\n",
       "      <td>71.027543</td>\n",
       "      <td>0</td>\n",
       "      <td>No_Fence</td>\n",
       "      <td>New</td>\n",
       "      <td>Partial</td>\n",
       "      <td>395000</td>\n",
       "      <td>14</td>\n",
       "    </tr>\n",
       "    <tr>\n",
       "      <th>798</th>\n",
       "      <td>60</td>\n",
       "      <td>RLD</td>\n",
       "      <td>104.000000</td>\n",
       "      <td>13518</td>\n",
       "      <td>No_Allay_Access</td>\n",
       "      <td>Reg</td>\n",
       "      <td>Lvl</td>\n",
       "      <td>I</td>\n",
       "      <td>GS</td>\n",
       "      <td>NridgHt</td>\n",
       "      <td>...</td>\n",
       "      <td>Y</td>\n",
       "      <td>0.000000</td>\n",
       "      <td>55.618460</td>\n",
       "      <td>197.433867</td>\n",
       "      <td>0</td>\n",
       "      <td>No_Fence</td>\n",
       "      <td>New</td>\n",
       "      <td>Partial</td>\n",
       "      <td>485000</td>\n",
       "      <td>12</td>\n",
       "    </tr>\n",
       "    <tr>\n",
       "      <th>803</th>\n",
       "      <td>60</td>\n",
       "      <td>RLD</td>\n",
       "      <td>107.000000</td>\n",
       "      <td>13891</td>\n",
       "      <td>No_Allay_Access</td>\n",
       "      <td>Reg</td>\n",
       "      <td>Lvl</td>\n",
       "      <td>I</td>\n",
       "      <td>GS</td>\n",
       "      <td>NridgHt</td>\n",
       "      <td>...</td>\n",
       "      <td>Y</td>\n",
       "      <td>0.000000</td>\n",
       "      <td>116.685086</td>\n",
       "      <td>0.000000</td>\n",
       "      <td>192</td>\n",
       "      <td>No_Fence</td>\n",
       "      <td>New</td>\n",
       "      <td>Partial</td>\n",
       "      <td>582933</td>\n",
       "      <td>12</td>\n",
       "    </tr>\n",
       "    <tr>\n",
       "      <th>825</th>\n",
       "      <td>20</td>\n",
       "      <td>RLD</td>\n",
       "      <td>114.000000</td>\n",
       "      <td>14803</td>\n",
       "      <td>No_Allay_Access</td>\n",
       "      <td>Reg</td>\n",
       "      <td>Lvl</td>\n",
       "      <td>I</td>\n",
       "      <td>GS</td>\n",
       "      <td>NridgHt</td>\n",
       "      <td>...</td>\n",
       "      <td>Y</td>\n",
       "      <td>0.000000</td>\n",
       "      <td>72.912889</td>\n",
       "      <td>0.000000</td>\n",
       "      <td>0</td>\n",
       "      <td>No_Fence</td>\n",
       "      <td>New</td>\n",
       "      <td>Partial</td>\n",
       "      <td>385000</td>\n",
       "      <td>13</td>\n",
       "    </tr>\n",
       "    <tr>\n",
       "      <th>898</th>\n",
       "      <td>20</td>\n",
       "      <td>RLD</td>\n",
       "      <td>100.000000</td>\n",
       "      <td>12919</td>\n",
       "      <td>No_Allay_Access</td>\n",
       "      <td>IR1</td>\n",
       "      <td>Lvl</td>\n",
       "      <td>I</td>\n",
       "      <td>GS</td>\n",
       "      <td>NridgHt</td>\n",
       "      <td>...</td>\n",
       "      <td>Y</td>\n",
       "      <td>118.818801</td>\n",
       "      <td>22.685384</td>\n",
       "      <td>36.589583</td>\n",
       "      <td>0</td>\n",
       "      <td>No_Fence</td>\n",
       "      <td>New</td>\n",
       "      <td>Partial</td>\n",
       "      <td>611657</td>\n",
       "      <td>11</td>\n",
       "    </tr>\n",
       "    <tr>\n",
       "      <th>987</th>\n",
       "      <td>20</td>\n",
       "      <td>RLD</td>\n",
       "      <td>83.000000</td>\n",
       "      <td>10159</td>\n",
       "      <td>No_Allay_Access</td>\n",
       "      <td>IR1</td>\n",
       "      <td>Lvl</td>\n",
       "      <td>I</td>\n",
       "      <td>GS</td>\n",
       "      <td>NridgHt</td>\n",
       "      <td>...</td>\n",
       "      <td>Y</td>\n",
       "      <td>147.776030</td>\n",
       "      <td>0.000000</td>\n",
       "      <td>29.961703</td>\n",
       "      <td>0</td>\n",
       "      <td>No_Fence</td>\n",
       "      <td>New</td>\n",
       "      <td>Partial</td>\n",
       "      <td>395192</td>\n",
       "      <td>11</td>\n",
       "    </tr>\n",
       "    <tr>\n",
       "      <th>1046</th>\n",
       "      <td>60</td>\n",
       "      <td>RLD</td>\n",
       "      <td>85.000000</td>\n",
       "      <td>16056</td>\n",
       "      <td>No_Allay_Access</td>\n",
       "      <td>IR1</td>\n",
       "      <td>Lvl</td>\n",
       "      <td>I</td>\n",
       "      <td>GS</td>\n",
       "      <td>StoneBr</td>\n",
       "      <td>...</td>\n",
       "      <td>Y</td>\n",
       "      <td>26.637145</td>\n",
       "      <td>0.000000</td>\n",
       "      <td>133.593382</td>\n",
       "      <td>0</td>\n",
       "      <td>No_Fence</td>\n",
       "      <td>New</td>\n",
       "      <td>Partial</td>\n",
       "      <td>556581</td>\n",
       "      <td>15</td>\n",
       "    </tr>\n",
       "    <tr>\n",
       "      <th>1142</th>\n",
       "      <td>60</td>\n",
       "      <td>RLD</td>\n",
       "      <td>77.000000</td>\n",
       "      <td>9965</td>\n",
       "      <td>No_Allay_Access</td>\n",
       "      <td>Reg</td>\n",
       "      <td>Lvl</td>\n",
       "      <td>I</td>\n",
       "      <td>GS</td>\n",
       "      <td>CollgCr</td>\n",
       "      <td>...</td>\n",
       "      <td>Y</td>\n",
       "      <td>0.000000</td>\n",
       "      <td>0.000000</td>\n",
       "      <td>41.032729</td>\n",
       "      <td>0</td>\n",
       "      <td>No_Fence</td>\n",
       "      <td>New</td>\n",
       "      <td>Partial</td>\n",
       "      <td>424870</td>\n",
       "      <td>14</td>\n",
       "    </tr>\n",
       "    <tr>\n",
       "      <th>1169</th>\n",
       "      <td>60</td>\n",
       "      <td>RLD</td>\n",
       "      <td>118.000000</td>\n",
       "      <td>35760</td>\n",
       "      <td>No_Allay_Access</td>\n",
       "      <td>IR1</td>\n",
       "      <td>Lvl</td>\n",
       "      <td>CulDSac</td>\n",
       "      <td>GS</td>\n",
       "      <td>NoRidge</td>\n",
       "      <td>...</td>\n",
       "      <td>Y</td>\n",
       "      <td>0.000000</td>\n",
       "      <td>62.580211</td>\n",
       "      <td>0.000000</td>\n",
       "      <td>0</td>\n",
       "      <td>No_Fence</td>\n",
       "      <td>WD</td>\n",
       "      <td>Normal</td>\n",
       "      <td>625000</td>\n",
       "      <td>25</td>\n",
       "    </tr>\n",
       "    <tr>\n",
       "      <th>1181</th>\n",
       "      <td>120</td>\n",
       "      <td>RMD</td>\n",
       "      <td>64.000000</td>\n",
       "      <td>5587</td>\n",
       "      <td>No_Allay_Access</td>\n",
       "      <td>IR1</td>\n",
       "      <td>HLS</td>\n",
       "      <td>I</td>\n",
       "      <td>MS</td>\n",
       "      <td>Crawfor</td>\n",
       "      <td>...</td>\n",
       "      <td>Y</td>\n",
       "      <td>405.396843</td>\n",
       "      <td>27.230727</td>\n",
       "      <td>0.000000</td>\n",
       "      <td>0</td>\n",
       "      <td>No_Fence</td>\n",
       "      <td>New</td>\n",
       "      <td>Partial</td>\n",
       "      <td>392500</td>\n",
       "      <td>12</td>\n",
       "    </tr>\n",
       "    <tr>\n",
       "      <th>1182</th>\n",
       "      <td>60</td>\n",
       "      <td>RLD</td>\n",
       "      <td>160.000000</td>\n",
       "      <td>15623</td>\n",
       "      <td>No_Allay_Access</td>\n",
       "      <td>IR1</td>\n",
       "      <td>Lvl</td>\n",
       "      <td>C</td>\n",
       "      <td>GS</td>\n",
       "      <td>NoRidge</td>\n",
       "      <td>...</td>\n",
       "      <td>Y</td>\n",
       "      <td>232.217149</td>\n",
       "      <td>44.087352</td>\n",
       "      <td>155.339206</td>\n",
       "      <td>0</td>\n",
       "      <td>MnPrv</td>\n",
       "      <td>WD</td>\n",
       "      <td>Abnorml</td>\n",
       "      <td>745000</td>\n",
       "      <td>24</td>\n",
       "    </tr>\n",
       "    <tr>\n",
       "      <th>1243</th>\n",
       "      <td>20</td>\n",
       "      <td>RLD</td>\n",
       "      <td>107.000000</td>\n",
       "      <td>13891</td>\n",
       "      <td>No_Allay_Access</td>\n",
       "      <td>Reg</td>\n",
       "      <td>Lvl</td>\n",
       "      <td>I</td>\n",
       "      <td>GS</td>\n",
       "      <td>NridgHt</td>\n",
       "      <td>...</td>\n",
       "      <td>Y</td>\n",
       "      <td>268.587068</td>\n",
       "      <td>63.332461</td>\n",
       "      <td>0.000000</td>\n",
       "      <td>0</td>\n",
       "      <td>No_Fence</td>\n",
       "      <td>New</td>\n",
       "      <td>Partial</td>\n",
       "      <td>465000</td>\n",
       "      <td>14</td>\n",
       "    </tr>\n",
       "    <tr>\n",
       "      <th>1268</th>\n",
       "      <td>50</td>\n",
       "      <td>RLD</td>\n",
       "      <td>70.045833</td>\n",
       "      <td>14100</td>\n",
       "      <td>No_Allay_Access</td>\n",
       "      <td>IR1</td>\n",
       "      <td>Lvl</td>\n",
       "      <td>I</td>\n",
       "      <td>MS</td>\n",
       "      <td>Crawfor</td>\n",
       "      <td>...</td>\n",
       "      <td>Y</td>\n",
       "      <td>75.942107</td>\n",
       "      <td>99.434595</td>\n",
       "      <td>34.770989</td>\n",
       "      <td>0</td>\n",
       "      <td>GdWo</td>\n",
       "      <td>WD</td>\n",
       "      <td>Normal</td>\n",
       "      <td>381000</td>\n",
       "      <td>85</td>\n",
       "    </tr>\n",
       "    <tr>\n",
       "      <th>1353</th>\n",
       "      <td>50</td>\n",
       "      <td>RLD</td>\n",
       "      <td>56.000000</td>\n",
       "      <td>14720</td>\n",
       "      <td>No_Allay_Access</td>\n",
       "      <td>IR1</td>\n",
       "      <td>Lvl</td>\n",
       "      <td>CulDSac</td>\n",
       "      <td>GS</td>\n",
       "      <td>NoRidge</td>\n",
       "      <td>...</td>\n",
       "      <td>Y</td>\n",
       "      <td>190.319118</td>\n",
       "      <td>83.402290</td>\n",
       "      <td>155.093703</td>\n",
       "      <td>0</td>\n",
       "      <td>No_Fence</td>\n",
       "      <td>WD</td>\n",
       "      <td>Normal</td>\n",
       "      <td>410000</td>\n",
       "      <td>25</td>\n",
       "    </tr>\n",
       "    <tr>\n",
       "      <th>1373</th>\n",
       "      <td>20</td>\n",
       "      <td>RLD</td>\n",
       "      <td>70.045833</td>\n",
       "      <td>11400</td>\n",
       "      <td>No_Allay_Access</td>\n",
       "      <td>Reg</td>\n",
       "      <td>Lvl</td>\n",
       "      <td>I</td>\n",
       "      <td>GS</td>\n",
       "      <td>NoRidge</td>\n",
       "      <td>...</td>\n",
       "      <td>Y</td>\n",
       "      <td>90.171695</td>\n",
       "      <td>0.000000</td>\n",
       "      <td>88.362213</td>\n",
       "      <td>0</td>\n",
       "      <td>No_Fence</td>\n",
       "      <td>WD</td>\n",
       "      <td>Normal</td>\n",
       "      <td>466500</td>\n",
       "      <td>19</td>\n",
       "    </tr>\n",
       "    <tr>\n",
       "      <th>1437</th>\n",
       "      <td>20</td>\n",
       "      <td>RLD</td>\n",
       "      <td>96.000000</td>\n",
       "      <td>12444</td>\n",
       "      <td>No_Allay_Access</td>\n",
       "      <td>Reg</td>\n",
       "      <td>Lvl</td>\n",
       "      <td>FR2P</td>\n",
       "      <td>GS</td>\n",
       "      <td>NridgHt</td>\n",
       "      <td>...</td>\n",
       "      <td>Y</td>\n",
       "      <td>0.000000</td>\n",
       "      <td>0.000000</td>\n",
       "      <td>50.058972</td>\n",
       "      <td>0</td>\n",
       "      <td>No_Fence</td>\n",
       "      <td>New</td>\n",
       "      <td>Partial</td>\n",
       "      <td>394617</td>\n",
       "      <td>12</td>\n",
       "    </tr>\n",
       "  </tbody>\n",
       "</table>\n",
       "<p>40 rows × 64 columns</p>\n",
       "</div>"
      ],
      "text/plain": [
       "     Building_Class Zoning_Class  Lot_Extent  Lot_Size        Lane_Type  \\\n",
       "53               20          RLD   68.000000     50271  No_Allay_Access   \n",
       "58               60          RLD   66.000000     13682  No_Allay_Access   \n",
       "112              60          RLD   77.000000      9965  No_Allay_Access   \n",
       "161              60          RLD  110.000000     13688  No_Allay_Access   \n",
       "178              20          RLD   63.000000     17423  No_Allay_Access   \n",
       "185              75          RMD   90.000000     22950  No_Allay_Access   \n",
       "224              20          RLD  103.000000     13472  No_Allay_Access   \n",
       "231              60          RLD  174.000000     15138  No_Allay_Access   \n",
       "278              20          RLD  107.000000     14450  No_Allay_Access   \n",
       "349              60          RLD   56.000000     20431  No_Allay_Access   \n",
       "378              20          RLD   88.000000     11394  No_Allay_Access   \n",
       "389              60          RLD   96.000000     12474  No_Allay_Access   \n",
       "440              20          RLD  105.000000     15431  No_Allay_Access   \n",
       "473              20          RLD  110.000000     14977  No_Allay_Access   \n",
       "477              60          RLD  105.000000     13693  No_Allay_Access   \n",
       "496              20          RLD   70.045833     12692  No_Allay_Access   \n",
       "515              20          RLD   94.000000     12220  No_Allay_Access   \n",
       "527              60          RLD   67.000000     14948  No_Allay_Access   \n",
       "591              60          RLD   97.000000     13478  No_Allay_Access   \n",
       "661              60          RLD   52.000000     46589  No_Allay_Access   \n",
       "664              20          RLD   49.000000     20896  No_Allay_Access   \n",
       "688              20          RLD   60.000000      8089  No_Allay_Access   \n",
       "691              60          RLD  104.000000     21535  No_Allay_Access   \n",
       "769              60          RLD   47.000000     53504  No_Allay_Access   \n",
       "774              20          RLD  110.000000     14226  No_Allay_Access   \n",
       "798              60          RLD  104.000000     13518  No_Allay_Access   \n",
       "803              60          RLD  107.000000     13891  No_Allay_Access   \n",
       "825              20          RLD  114.000000     14803  No_Allay_Access   \n",
       "898              20          RLD  100.000000     12919  No_Allay_Access   \n",
       "987              20          RLD   83.000000     10159  No_Allay_Access   \n",
       "1046             60          RLD   85.000000     16056  No_Allay_Access   \n",
       "1142             60          RLD   77.000000      9965  No_Allay_Access   \n",
       "1169             60          RLD  118.000000     35760  No_Allay_Access   \n",
       "1181            120          RMD   64.000000      5587  No_Allay_Access   \n",
       "1182             60          RLD  160.000000     15623  No_Allay_Access   \n",
       "1243             20          RLD  107.000000     13891  No_Allay_Access   \n",
       "1268             50          RLD   70.045833     14100  No_Allay_Access   \n",
       "1353             50          RLD   56.000000     14720  No_Allay_Access   \n",
       "1373             20          RLD   70.045833     11400  No_Allay_Access   \n",
       "1437             20          RLD   96.000000     12444  No_Allay_Access   \n",
       "\n",
       "     Property_Shape Land_Outline Lot_Configuration Property_Slope  \\\n",
       "53              IR1          Low                 I             GS   \n",
       "58              IR2          HLS           CulDSac             GS   \n",
       "112             Reg          Lvl                 I             GS   \n",
       "161             IR1          Lvl                 I             GS   \n",
       "178             IR1          Lvl           CulDSac             GS   \n",
       "185             IR2          Lvl                 I             GS   \n",
       "224             Reg          Lvl                 I             GS   \n",
       "231             IR1          Lvl                 I             GS   \n",
       "278             Reg          Lvl                 I             GS   \n",
       "349             IR2          Lvl                 I             GS   \n",
       "378             Reg          Lvl                 C             GS   \n",
       "389             Reg          Lvl                 I             GS   \n",
       "440             Reg          Lvl                 I             GS   \n",
       "473             IR1          Lvl                 I             GS   \n",
       "477             Reg          Lvl                 I             GS   \n",
       "496             IR1          Lvl                 I             GS   \n",
       "515             Reg          Lvl                 I             GS   \n",
       "527             IR1          Lvl                 I             GS   \n",
       "591             IR1          Lvl                 C             GS   \n",
       "661             IR2          Lvl           CulDSac             GS   \n",
       "664             IR2          Lvl           CulDSac             GS   \n",
       "688             Reg          HLS                 I             GS   \n",
       "691             IR1          Lvl                 C             GS   \n",
       "769             IR2          HLS           CulDSac             MS   \n",
       "774             Reg          Lvl                 C             GS   \n",
       "798             Reg          Lvl                 I             GS   \n",
       "803             Reg          Lvl                 I             GS   \n",
       "825             Reg          Lvl                 I             GS   \n",
       "898             IR1          Lvl                 I             GS   \n",
       "987             IR1          Lvl                 I             GS   \n",
       "1046            IR1          Lvl                 I             GS   \n",
       "1142            Reg          Lvl                 I             GS   \n",
       "1169            IR1          Lvl           CulDSac             GS   \n",
       "1181            IR1          HLS                 I             MS   \n",
       "1182            IR1          Lvl                 C             GS   \n",
       "1243            Reg          Lvl                 I             GS   \n",
       "1268            IR1          Lvl                 I             MS   \n",
       "1353            IR1          Lvl           CulDSac             GS   \n",
       "1373            Reg          Lvl                 I             GS   \n",
       "1437            Reg          Lvl              FR2P             GS   \n",
       "\n",
       "     Neighborhood  ... Pavedd_Drive W_Deck_Area Open_Lobby_Area  \\\n",
       "53        Veenker  ...            Y  134.075183       24.681074   \n",
       "58        StoneBr  ...            Y  143.546611       38.096634   \n",
       "112       CollgCr  ...            Y    0.000000       48.912222   \n",
       "161       NridgHt  ...            Y  220.765696       92.411046   \n",
       "178       StoneBr  ...            Y  148.575176        0.000000   \n",
       "185       OldTown  ...            Y  192.300758       28.778159   \n",
       "224       NridgHt  ...            Y    0.000000       13.280539   \n",
       "231       NoRidge  ...            Y  213.288557        0.000000   \n",
       "278       NridgHt  ...            Y    0.000000       43.918450   \n",
       "349       NridgHt  ...            Y  396.150118        0.000000   \n",
       "378       StoneBr  ...            Y    0.000000       53.469115   \n",
       "389       NridgHt  ...            Y    0.057297      234.675577   \n",
       "440       NridgHt  ...            Y  177.858013       84.790279   \n",
       "473       NridgHt  ...            Y    0.000000        3.169658   \n",
       "477       NridgHt  ...            Y   99.099886        0.000000   \n",
       "496       NoRidge  ...            Y  210.811799        0.000000   \n",
       "515       NridgHt  ...            Y  284.459442       84.567882   \n",
       "527       NridgHt  ...            Y  163.198507       69.389608   \n",
       "591       NridgHt  ...            Y  397.245512      112.142838   \n",
       "661       NoRidge  ...            Y   31.292592       23.774532   \n",
       "664       Somerst  ...            Y  146.424214       53.611520   \n",
       "688       StoneBr  ...            Y  376.087880       60.245746   \n",
       "691       NoRidge  ...            Y  165.269614      142.772453   \n",
       "769       StoneBr  ...            Y   26.325684       56.479092   \n",
       "774       NridgHt  ...            Y    0.000000       72.500615   \n",
       "798       NridgHt  ...            Y    0.000000       55.618460   \n",
       "803       NridgHt  ...            Y    0.000000      116.685086   \n",
       "825       NridgHt  ...            Y    0.000000       72.912889   \n",
       "898       NridgHt  ...            Y  118.818801       22.685384   \n",
       "987       NridgHt  ...            Y  147.776030        0.000000   \n",
       "1046      StoneBr  ...            Y   26.637145        0.000000   \n",
       "1142      CollgCr  ...            Y    0.000000        0.000000   \n",
       "1169      NoRidge  ...            Y    0.000000       62.580211   \n",
       "1181      Crawfor  ...            Y  405.396843       27.230727   \n",
       "1182      NoRidge  ...            Y  232.217149       44.087352   \n",
       "1243      NridgHt  ...            Y  268.587068       63.332461   \n",
       "1268      Crawfor  ...            Y   75.942107       99.434595   \n",
       "1353      NoRidge  ...            Y  190.319118       83.402290   \n",
       "1373      NoRidge  ...            Y   90.171695        0.000000   \n",
       "1437      NridgHt  ...            Y    0.000000        0.000000   \n",
       "\n",
       "     Enclosed_Lobby_Area Screen_Lobby_Area Fence_Quality Sale_Type  \\\n",
       "53              0.000000                 0      No_Fence        WD   \n",
       "58              0.000000                 0      No_Fence       New   \n",
       "112            27.953119               168      No_Fence       New   \n",
       "161            51.864835                 0      No_Fence        WD   \n",
       "178             0.000000                 0      No_Fence       New   \n",
       "185            28.453881               410         GdPrv        WD   \n",
       "224            11.196911                 0      No_Fence        WD   \n",
       "231            49.979600                 0      No_Fence        WD   \n",
       "278            77.446294               142      No_Fence       New   \n",
       "349            89.157196                 0      No_Fence       New   \n",
       "378            37.371234                 0      No_Fence       New   \n",
       "389            30.542865                 0      No_Fence       New   \n",
       "440           113.336185               170      No_Fence        WD   \n",
       "473            63.288096                 0      No_Fence       New   \n",
       "477            46.392110                 0      No_Fence        WD   \n",
       "496             0.000000                 0      No_Fence        WD   \n",
       "515            18.093725                 0      No_Fence       New   \n",
       "527            36.809422                 0      No_Fence       New   \n",
       "591             0.000000                 0      No_Fence     ConLI   \n",
       "661             0.000000                 0      No_Fence        WD   \n",
       "664            54.814327                 0      No_Fence       New   \n",
       "688             0.000000                 0      No_Fence       New   \n",
       "691             0.000000                 0      No_Fence        WD   \n",
       "769            52.897533               210      No_Fence        WD   \n",
       "774            71.027543                 0      No_Fence       New   \n",
       "798           197.433867                 0      No_Fence       New   \n",
       "803             0.000000               192      No_Fence       New   \n",
       "825             0.000000                 0      No_Fence       New   \n",
       "898            36.589583                 0      No_Fence       New   \n",
       "987            29.961703                 0      No_Fence       New   \n",
       "1046          133.593382                 0      No_Fence       New   \n",
       "1142           41.032729                 0      No_Fence       New   \n",
       "1169            0.000000                 0      No_Fence        WD   \n",
       "1181            0.000000                 0      No_Fence       New   \n",
       "1182          155.339206                 0         MnPrv        WD   \n",
       "1243            0.000000                 0      No_Fence       New   \n",
       "1268           34.770989                 0          GdWo        WD   \n",
       "1353          155.093703                 0      No_Fence        WD   \n",
       "1373           88.362213                 0      No_Fence        WD   \n",
       "1437           50.058972                 0      No_Fence       New   \n",
       "\n",
       "     Sale_Condition tar_var  House_life  \n",
       "53           Normal  385000          39  \n",
       "58          Partial  438780          14  \n",
       "112         Partial  383970          13  \n",
       "161          Normal  412500          17  \n",
       "178         Partial  501837          12  \n",
       "185          Normal  475000         128  \n",
       "224          Normal  386250          17  \n",
       "231          Normal  403000          25  \n",
       "278         Partial  415298          14  \n",
       "349         Partial  437154          15  \n",
       "378         Partial  394432          10  \n",
       "389         Partial  426000          13  \n",
       "440          Normal  555000          12  \n",
       "473         Partial  440000          14  \n",
       "477          Normal  380000          14  \n",
       "496          Normal  430000          28  \n",
       "515         Partial  402861          11  \n",
       "527         Partial  446261          12  \n",
       "591          Normal  451950          12  \n",
       "661          Normal  402000          26  \n",
       "664         Partial  423000          15  \n",
       "688         Partial  392000          13  \n",
       "691          Normal  755000          26  \n",
       "769          Normal  538000          17  \n",
       "774         Partial  395000          14  \n",
       "798         Partial  485000          12  \n",
       "803         Partial  582933          12  \n",
       "825         Partial  385000          13  \n",
       "898         Partial  611657          11  \n",
       "987         Partial  395192          11  \n",
       "1046        Partial  556581          15  \n",
       "1142        Partial  424870          14  \n",
       "1169         Normal  625000          25  \n",
       "1181        Partial  392500          12  \n",
       "1182        Abnorml  745000          24  \n",
       "1243        Partial  465000          14  \n",
       "1268         Normal  381000          85  \n",
       "1353         Normal  410000          25  \n",
       "1373         Normal  466500          19  \n",
       "1437        Partial  394617          12  \n",
       "\n",
       "[40 rows x 64 columns]"
      ]
     },
     "execution_count": 38,
     "metadata": {},
     "output_type": "execute_result"
    }
   ],
   "source": [
    "df.iloc[np.where(z > 2.5)[:1]]"
   ]
  },
  {
   "cell_type": "code",
   "execution_count": 39,
   "metadata": {},
   "outputs": [],
   "source": [
    "#remove outliers\n",
    "df.drop(df.index[x[:1]], inplace=True)"
   ]
  },
  {
   "cell_type": "code",
   "execution_count": 40,
   "metadata": {},
   "outputs": [
    {
     "data": {
      "text/plain": [
       "0.8327804574032142"
      ]
     },
     "execution_count": 40,
     "metadata": {},
     "output_type": "execute_result"
    }
   ],
   "source": [
    "df.tar_var.skew()"
   ]
  },
  {
   "cell_type": "markdown",
   "metadata": {},
   "source": [
    "### EDA- Exploratory data analysis"
   ]
  },
  {
   "cell_type": "code",
   "execution_count": 41,
   "metadata": {},
   "outputs": [
    {
     "data": {
      "text/plain": [
       "Building_Class     object\n",
       "Zoning_Class       object\n",
       "Lot_Extent        float64\n",
       "Lot_Size            int64\n",
       "Lane_Type          object\n",
       "                   ...   \n",
       "Fence_Quality      object\n",
       "Sale_Type          object\n",
       "Sale_Condition     object\n",
       "tar_var             int64\n",
       "House_life          int64\n",
       "Length: 64, dtype: object"
      ]
     },
     "execution_count": 41,
     "metadata": {},
     "output_type": "execute_result"
    }
   ],
   "source": [
    "#segregate the data\n",
    "df_num = df.select_dtypes(include=['int64','float64' ])\n",
    "df_fac = df.select_dtypes(include=['object'])\n",
    "df.dtypes"
   ]
  },
  {
   "cell_type": "code",
   "execution_count": 42,
   "metadata": {},
   "outputs": [
    {
     "data": {
      "text/plain": [
       "Lot_Extent              2.484795\n",
       "Lot_Size               12.766429\n",
       "Brick_Veneer_Area       2.670090\n",
       "BsmtFinSF1              1.794845\n",
       "BsmtFinSF2              4.229431\n",
       "BsmtUnfSF               0.842861\n",
       "Total_Basement_Area     1.562428\n",
       "First_Floor_Area        1.383366\n",
       "Second_Floor_Area       0.750883\n",
       "Grade_Living_Area       1.219015\n",
       "Garage_Area             0.082321\n",
       "W_Deck_Area             0.750971\n",
       "Open_Lobby_Area         0.693325\n",
       "Enclosed_Lobby_Area     1.062258\n",
       "Screen_Lobby_Area       4.162795\n",
       "tar_var                 0.832780\n",
       "House_life              0.585006\n",
       "dtype: float64"
      ]
     },
     "execution_count": 42,
     "metadata": {},
     "output_type": "execute_result"
    }
   ],
   "source": [
    "#skewness for all numric data\n",
    "df_num.skew()"
   ]
  },
  {
   "cell_type": "code",
   "execution_count": 43,
   "metadata": {},
   "outputs": [
    {
     "data": {
      "text/plain": [
       "Lot_Extent            -0.981051\n",
       "Lot_Size              -0.177609\n",
       "Brick_Veneer_Area      0.713337\n",
       "BsmtFinSF1             1.794845\n",
       "BsmtFinSF2             2.715075\n",
       "BsmtUnfSF              0.842861\n",
       "Total_Basement_Area    1.562428\n",
       "First_Floor_Area       1.383366\n",
       "Second_Floor_Area      0.750883\n",
       "Grade_Living_Area      1.219015\n",
       "Garage_Area            0.082321\n",
       "W_Deck_Area            0.750971\n",
       "Open_Lobby_Area        0.693325\n",
       "Enclosed_Lobby_Area    1.062258\n",
       "Screen_Lobby_Area      3.272239\n",
       "tar_var                0.832780\n",
       "House_life             0.585006\n",
       "dtype: float64"
      ]
     },
     "execution_count": 43,
     "metadata": {},
     "output_type": "execute_result"
    }
   ],
   "source": [
    "#transformation\n",
    "df_num[\"Lot_Extent\"]= np.log(df_num[\"Lot_Extent\"])\n",
    "df_num[\"Lot_Size\"]= np.log(df_num[\"Lot_Size\"])\n",
    "#df_num[\"Lot_Extent\"] = df_num[\"Lot_Extent\"] ** (1 / 3)\n",
    "#df_num[\"Lot_Size\"] = df_num[\"Lot_Size\"] ** (1 / 3)\n",
    "df_num[\"Brick_Veneer_Area\"] = df_num[\"Brick_Veneer_Area\"] ** (1 / 3)\n",
    "df_num[\"BsmtFinSF2\"] = df_num[\"BsmtFinSF2\"] ** (1 / 3)\n",
    "df_num[\"Screen_Lobby_Area\"] = df_num[\"Screen_Lobby_Area\"] ** (1 / 3)\n",
    "df_num.skew()"
   ]
  },
  {
   "cell_type": "code",
   "execution_count": 44,
   "metadata": {},
   "outputs": [
    {
     "data": {
      "image/png": "[encoded data removed]",
      "text/plain": [
       "<Figure size 432x288 with 1 Axes>"
      ]
     },
     "metadata": {
      "needs_background": "light"
     },
     "output_type": "display_data"
    },
    {
     "data": {
      "image/png": "[encoded data removed]",
      "text/plain": [
       "<Figure size 432x288 with 1 Axes>"
      ]
     },
     "metadata": {
      "needs_background": "light"
     },
     "output_type": "display_data"
    },
    {
     "data": {
      "image/png": "[encoded data removed]",
      "text/plain": [
       "<Figure size 432x288 with 1 Axes>"
      ]
     },
     "metadata": {
      "needs_background": "light"
     },
     "output_type": "display_data"
    },
    {
     "data": {
      "image/png": "[encoded data removed]",
      "text/plain": [
       "<Figure size 432x288 with 1 Axes>"
      ]
     },
     "metadata": {
      "needs_background": "light"
     },
     "output_type": "display_data"
    },
    {
     "data": {
      "image/png": "[encoded data removed]",
      "text/plain": [
       "<Figure size 432x288 with 1 Axes>"
      ]
     },
     "metadata": {
      "needs_background": "light"
     },
     "output_type": "display_data"
    },
    {
     "data": {
      "image/png": "[encoded data removed]",
      "text/plain": [
       "<Figure size 432x288 with 1 Axes>"
      ]
     },
     "metadata": {
      "needs_background": "light"
     },
     "output_type": "display_data"
    },
    {
     "data": {
      "image/png": "[encoded data removed]",
      "text/plain": [
       "<Figure size 432x288 with 1 Axes>"
      ]
     },
     "metadata": {
      "needs_background": "light"
     },
     "output_type": "display_data"
    },
    {
     "data": {
      "image/png": "[encoded data removed]",
      "text/plain": [
       "<Figure size 432x288 with 1 Axes>"
      ]
     },
     "metadata": {
      "needs_background": "light"
     },
     "output_type": "display_data"
    },
    {
     "data": {
      "image/png": "[encoded data removed]",
      "text/plain": [
       "<Figure size 432x288 with 1 Axes>"
      ]
     },
     "metadata": {
      "needs_background": "light"
     },
     "output_type": "display_data"
    },
    {
     "data": {
      "image/png": "[encoded data removed]",
      "text/plain": [
       "<Figure size 432x288 with 1 Axes>"
      ]
     },
     "metadata": {
      "needs_background": "light"
     },
     "output_type": "display_data"
    },
    {
     "data": {
      "image/png": "[encoded data removed]",
      "text/plain": [
       "<Figure size 432x288 with 1 Axes>"
      ]
     },
     "metadata": {
      "needs_background": "light"
     },
     "output_type": "display_data"
    },
    {
     "data": {
      "image/png": "[encoded data removed]",
      "text/plain": [
       "<Figure size 432x288 with 1 Axes>"
      ]
     },
     "metadata": {
      "needs_background": "light"
     },
     "output_type": "display_data"
    },
    {
     "data": {
      "image/png": "[encoded data removed]",
      "text/plain": [
       "<Figure size 432x288 with 1 Axes>"
      ]
     },
     "metadata": {
      "needs_background": "light"
     },
     "output_type": "display_data"
    },
    {
     "data": {
      "image/png": "[encoded data removed]",
      "text/plain": [
       "<Figure size 432x288 with 1 Axes>"
      ]
     },
     "metadata": {
      "needs_background": "light"
     },
     "output_type": "display_data"
    },
    {
     "data": {
      "image/png": "[encoded data removed]",
      "text/plain": [
       "<Figure size 432x288 with 1 Axes>"
      ]
     },
     "metadata": {
      "needs_background": "light"
     },
     "output_type": "display_data"
    },
    {
     "data": {
      "image/png": "[encoded data removed]",
      "text/plain": [
       "<Figure size 432x288 with 1 Axes>"
      ]
     },
     "metadata": {
      "needs_background": "light"
     },
     "output_type": "display_data"
    },
    {
     "data": {
      "image/png": "[encoded data removed]",
      "text/plain": [
       "<Figure size 432x288 with 1 Axes>"
      ]
     },
     "metadata": {
      "needs_background": "light"
     },
     "output_type": "display_data"
    }
   ],
   "source": [
    "##plotting histogram for all numeric column\n",
    "for i, col in enumerate(df_num.columns):\n",
    "    plt.figure(i)\n",
    "    sns.distplot(df_num[col])"
   ]
  },
  {
   "cell_type": "code",
   "execution_count": 45,
   "metadata": {},
   "outputs": [
    {
     "data": {
      "text/plain": [
       "Index(['Building_Class', 'Zoning_Class', 'Lane_Type', 'Property_Shape',\n",
       "       'Land_Outline', 'Lot_Configuration', 'Property_Slope', 'Neighborhood',\n",
       "       'Condition1', 'House_Type', 'House_Design', 'Overall_Material',\n",
       "       'House_Condition', 'Roof_Design', 'Exterior1st', 'Exterior2nd',\n",
       "       'Brick_Veneer_Type', 'Exterior_Material', 'Exterior_Condition',\n",
       "       'Foundation_Type', 'Basement_Height', 'Basement_Condition',\n",
       "       'Exposure_Level', 'BsmtFinType1', 'BsmtFinType2', 'Heating_Quality',\n",
       "       'Air_Conditioning', 'Electrical_System', 'Underground_Full_Bathroom',\n",
       "       'Underground_Half_Bathroom', 'Full_Bathroom_Above_Grade',\n",
       "       'Half_Bathroom_Above_Grade', 'Bedroom_Above_Grade', 'Kitchen_Quality',\n",
       "       'Rooms_Above_Grade', 'Functional_Rate', 'Fireplaces',\n",
       "       'Fireplace_Quality', 'Garage', 'Garage_Finish_Year', 'Garage_Size',\n",
       "       'Garage_Quality', 'Garage_Condition', 'Pavedd_Drive', 'Fence_Quality',\n",
       "       'Sale_Type', 'Sale_Condition'],\n",
       "      dtype='object')"
      ]
     },
     "execution_count": 45,
     "metadata": {},
     "output_type": "execute_result"
    }
   ],
   "source": [
    "df_fac.columns"
   ]
  },
  {
   "cell_type": "code",
   "execution_count": 46,
   "metadata": {},
   "outputs": [],
   "source": [
    "fac_feature= ['Building_Class', 'Zoning_Class', 'Lane_Type', 'Property_Shape',\n",
    "       'Land_Outline', 'Lot_Configuration', 'Property_Slope', 'Neighborhood',\n",
    "       'Condition1', 'House_Type', 'House_Design', 'Overall_Material',\n",
    "       'House_Condition', 'Roof_Design', 'Exterior1st', 'Exterior2nd',\n",
    "       'Brick_Veneer_Type', 'Exterior_Material', 'Exterior_Condition',\n",
    "       'Foundation_Type', 'Basement_Height', 'Basement_Condition',\n",
    "       'Exposure_Level', 'BsmtFinType1', 'BsmtFinType2', 'Heating_Quality',\n",
    "       'Air_Conditioning', 'Electrical_System', 'Underground_Full_Bathroom',\n",
    "       'Underground_Half_Bathroom', 'Full_Bathroom_Above_Grade',\n",
    "       'Half_Bathroom_Above_Grade', 'Bedroom_Above_Grade', 'Kitchen_Quality',\n",
    "       'Rooms_Above_Grade', 'Functional_Rate', 'Fireplaces',\n",
    "       'Fireplace_Quality', 'Garage', 'Garage_Finish_Year', 'Garage_Size',\n",
    "       'Garage_Quality', 'Garage_Condition', 'Pavedd_Drive', 'Fence_Quality',\n",
    "       'Sale_Type', 'Sale_Condition']"
   ]
  },
  {
   "cell_type": "code",
   "execution_count": 47,
   "metadata": {},
   "outputs": [
    {
     "data": {
      "text/plain": [
       "[(0, 'Building_Class'),\n",
       " (1, 'Zoning_Class'),\n",
       " (2, 'Lane_Type'),\n",
       " (3, 'Property_Shape'),\n",
       " (4, 'Land_Outline'),\n",
       " (5, 'Lot_Configuration'),\n",
       " (6, 'Property_Slope'),\n",
       " (7, 'Neighborhood'),\n",
       " (8, 'Condition1'),\n",
       " (9, 'House_Type'),\n",
       " (10, 'House_Design'),\n",
       " (11, 'Overall_Material'),\n",
       " (12, 'House_Condition'),\n",
       " (13, 'Roof_Design'),\n",
       " (14, 'Exterior1st'),\n",
       " (15, 'Exterior2nd'),\n",
       " (16, 'Brick_Veneer_Type'),\n",
       " (17, 'Exterior_Material'),\n",
       " (18, 'Exterior_Condition'),\n",
       " (19, 'Foundation_Type'),\n",
       " (20, 'Basement_Height'),\n",
       " (21, 'Basement_Condition'),\n",
       " (22, 'Exposure_Level'),\n",
       " (23, 'BsmtFinType1'),\n",
       " (24, 'BsmtFinType2'),\n",
       " (25, 'Heating_Quality'),\n",
       " (26, 'Air_Conditioning'),\n",
       " (27, 'Electrical_System'),\n",
       " (28, 'Underground_Full_Bathroom'),\n",
       " (29, 'Underground_Half_Bathroom'),\n",
       " (30, 'Full_Bathroom_Above_Grade'),\n",
       " (31, 'Half_Bathroom_Above_Grade'),\n",
       " (32, 'Bedroom_Above_Grade'),\n",
       " (33, 'Kitchen_Quality'),\n",
       " (34, 'Rooms_Above_Grade'),\n",
       " (35, 'Functional_Rate'),\n",
       " (36, 'Fireplaces'),\n",
       " (37, 'Fireplace_Quality'),\n",
       " (38, 'Garage'),\n",
       " (39, 'Garage_Finish_Year'),\n",
       " (40, 'Garage_Size'),\n",
       " (41, 'Garage_Quality'),\n",
       " (42, 'Garage_Condition'),\n",
       " (43, 'Pavedd_Drive'),\n",
       " (44, 'Fence_Quality'),\n",
       " (45, 'Sale_Type'),\n",
       " (46, 'Sale_Condition')]"
      ]
     },
     "execution_count": 47,
     "metadata": {},
     "output_type": "execute_result"
    }
   ],
   "source": [
    "list(enumerate(fac_feature))"
   ]
  },
  {
   "cell_type": "code",
   "execution_count": 48,
   "metadata": {},
   "outputs": [
    {
     "data": {
      "image/png": "[encoded data removed]",
      "text/plain": [
       "<Figure size 1080x2160 with 47 Axes>"
      ]
     },
     "metadata": {
      "needs_background": "light"
     },
     "output_type": "display_data"
    }
   ],
   "source": [
    "##Plotting barplot for all categorical columns\n",
    "plt.figure(figsize= (15,30))\n",
    "for i in enumerate(fac_feature):\n",
    "    plt.subplot(16,3,i[0]+1)\n",
    "    sns.countplot(i[1],data= df_fac)\n",
    "    plt.xticks(rotation = 45)"
   ]
  },
  {
   "cell_type": "markdown",
   "metadata": {},
   "source": [
    "## 3. Feature selection"
   ]
  },
  {
   "cell_type": "code",
   "execution_count": 49,
   "metadata": {},
   "outputs": [
    {
     "data": {
      "text/plain": [
       "<matplotlib.axes._subplots.AxesSubplot at 0x21c32f3b1c8>"
      ]
     },
     "execution_count": 49,
     "metadata": {},
     "output_type": "execute_result"
    },
    {
     "data": {
      "image/png": "[encoded data removed]",
      "text/plain": [
       "<Figure size 792x792 with 3 Axes>"
      ]
     },
     "metadata": {
      "needs_background": "light"
     },
     "output_type": "display_data"
    }
   ],
   "source": [
    "##Variable Significance\n",
    "# Checking for co-relation\n",
    "# corrplot\n",
    "corrmat= df_num.corr()\n",
    "fig,ax=plt.subplots()\n",
    "fig.set_size_inches(11,11)\n",
    "sns.heatmap(corrmat)\n",
    "sns.heatmap(corrmat,annot=True)"
   ]
  },
  {
   "cell_type": "code",
   "execution_count": 50,
   "metadata": {},
   "outputs": [
    {
     "data": {
      "text/html": [
       "<div>\n",
       "<style scoped>\n",
       "    .dataframe tbody tr th:only-of-type {\n",
       "        vertical-align: middle;\n",
       "    }\n",
       "\n",
       "    .dataframe tbody tr th {\n",
       "        vertical-align: top;\n",
       "    }\n",
       "\n",
       "    .dataframe thead th {\n",
       "        text-align: right;\n",
       "    }\n",
       "</style>\n",
       "<table border=\"1\" class=\"dataframe\">\n",
       "  <thead>\n",
       "    <tr style=\"text-align: right;\">\n",
       "      <th></th>\n",
       "      <th>Lot_Extent</th>\n",
       "      <th>Lot_Size</th>\n",
       "      <th>Brick_Veneer_Area</th>\n",
       "      <th>BsmtFinSF1</th>\n",
       "      <th>BsmtFinSF2</th>\n",
       "      <th>BsmtUnfSF</th>\n",
       "      <th>Total_Basement_Area</th>\n",
       "      <th>First_Floor_Area</th>\n",
       "      <th>Second_Floor_Area</th>\n",
       "      <th>Grade_Living_Area</th>\n",
       "      <th>Garage_Area</th>\n",
       "      <th>W_Deck_Area</th>\n",
       "      <th>Open_Lobby_Area</th>\n",
       "      <th>Enclosed_Lobby_Area</th>\n",
       "      <th>Screen_Lobby_Area</th>\n",
       "      <th>tar_var</th>\n",
       "      <th>House_life</th>\n",
       "    </tr>\n",
       "  </thead>\n",
       "  <tbody>\n",
       "    <tr>\n",
       "      <th>Lot_Extent</th>\n",
       "      <td>1.000000</td>\n",
       "      <td>0.315378</td>\n",
       "      <td>0.143911</td>\n",
       "      <td>0.204090</td>\n",
       "      <td>0.049005</td>\n",
       "      <td>0.104482</td>\n",
       "      <td>0.343874</td>\n",
       "      <td>0.402007</td>\n",
       "      <td>0.050953</td>\n",
       "      <td>0.348013</td>\n",
       "      <td>-0.026947</td>\n",
       "      <td>0.032409</td>\n",
       "      <td>0.052866</td>\n",
       "      <td>-0.023765</td>\n",
       "      <td>0.033492</td>\n",
       "      <td>0.309433</td>\n",
       "      <td>-0.098638</td>\n",
       "    </tr>\n",
       "    <tr>\n",
       "      <th>Lot_Size</th>\n",
       "      <td>0.315378</td>\n",
       "      <td>1.000000</td>\n",
       "      <td>0.067913</td>\n",
       "      <td>0.195007</td>\n",
       "      <td>0.115940</td>\n",
       "      <td>-0.002689</td>\n",
       "      <td>0.248735</td>\n",
       "      <td>0.290657</td>\n",
       "      <td>0.028673</td>\n",
       "      <td>0.241728</td>\n",
       "      <td>0.002382</td>\n",
       "      <td>0.024138</td>\n",
       "      <td>0.035028</td>\n",
       "      <td>0.009892</td>\n",
       "      <td>0.029863</td>\n",
       "      <td>0.248502</td>\n",
       "      <td>-0.000958</td>\n",
       "    </tr>\n",
       "    <tr>\n",
       "      <th>Brick_Veneer_Area</th>\n",
       "      <td>0.143911</td>\n",
       "      <td>0.067913</td>\n",
       "      <td>1.000000</td>\n",
       "      <td>0.234447</td>\n",
       "      <td>-0.066319</td>\n",
       "      <td>0.078870</td>\n",
       "      <td>0.303752</td>\n",
       "      <td>0.273264</td>\n",
       "      <td>0.129145</td>\n",
       "      <td>0.310007</td>\n",
       "      <td>0.025112</td>\n",
       "      <td>0.018104</td>\n",
       "      <td>0.001939</td>\n",
       "      <td>0.019994</td>\n",
       "      <td>0.073285</td>\n",
       "      <td>0.376233</td>\n",
       "      <td>-0.295423</td>\n",
       "    </tr>\n",
       "    <tr>\n",
       "      <th>BsmtFinSF1</th>\n",
       "      <td>0.204090</td>\n",
       "      <td>0.195007</td>\n",
       "      <td>0.234447</td>\n",
       "      <td>1.000000</td>\n",
       "      <td>-0.051358</td>\n",
       "      <td>-0.518042</td>\n",
       "      <td>0.494530</td>\n",
       "      <td>0.410913</td>\n",
       "      <td>-0.165189</td>\n",
       "      <td>0.157260</td>\n",
       "      <td>0.027154</td>\n",
       "      <td>0.015753</td>\n",
       "      <td>0.042596</td>\n",
       "      <td>0.010764</td>\n",
       "      <td>0.073386</td>\n",
       "      <td>0.323175</td>\n",
       "      <td>-0.222701</td>\n",
       "    </tr>\n",
       "    <tr>\n",
       "      <th>BsmtFinSF2</th>\n",
       "      <td>0.049005</td>\n",
       "      <td>0.115940</td>\n",
       "      <td>-0.066319</td>\n",
       "      <td>-0.051358</td>\n",
       "      <td>1.000000</td>\n",
       "      <td>-0.213033</td>\n",
       "      <td>0.117207</td>\n",
       "      <td>0.113470</td>\n",
       "      <td>-0.096314</td>\n",
       "      <td>0.002485</td>\n",
       "      <td>-0.002445</td>\n",
       "      <td>0.007618</td>\n",
       "      <td>-0.023940</td>\n",
       "      <td>-0.015051</td>\n",
       "      <td>0.088889</td>\n",
       "      <td>0.005501</td>\n",
       "      <td>0.045965</td>\n",
       "    </tr>\n",
       "    <tr>\n",
       "      <th>BsmtUnfSF</th>\n",
       "      <td>0.104482</td>\n",
       "      <td>-0.002689</td>\n",
       "      <td>0.078870</td>\n",
       "      <td>-0.518042</td>\n",
       "      <td>-0.213033</td>\n",
       "      <td>1.000000</td>\n",
       "      <td>0.413440</td>\n",
       "      <td>0.302997</td>\n",
       "      <td>-0.003989</td>\n",
       "      <td>0.224906</td>\n",
       "      <td>-0.009640</td>\n",
       "      <td>-0.004643</td>\n",
       "      <td>-0.024236</td>\n",
       "      <td>0.000527</td>\n",
       "      <td>-0.026783</td>\n",
       "      <td>0.210009</td>\n",
       "      <td>-0.142505</td>\n",
       "    </tr>\n",
       "    <tr>\n",
       "      <th>Total_Basement_Area</th>\n",
       "      <td>0.343874</td>\n",
       "      <td>0.248735</td>\n",
       "      <td>0.303752</td>\n",
       "      <td>0.494530</td>\n",
       "      <td>0.117207</td>\n",
       "      <td>0.413440</td>\n",
       "      <td>1.000000</td>\n",
       "      <td>0.794918</td>\n",
       "      <td>-0.216497</td>\n",
       "      <td>0.401865</td>\n",
       "      <td>0.017637</td>\n",
       "      <td>0.014784</td>\n",
       "      <td>0.010232</td>\n",
       "      <td>0.005985</td>\n",
       "      <td>0.084520</td>\n",
       "      <td>0.562659</td>\n",
       "      <td>-0.365821</td>\n",
       "    </tr>\n",
       "    <tr>\n",
       "      <th>First_Floor_Area</th>\n",
       "      <td>0.402007</td>\n",
       "      <td>0.290657</td>\n",
       "      <td>0.273264</td>\n",
       "      <td>0.410913</td>\n",
       "      <td>0.113470</td>\n",
       "      <td>0.302997</td>\n",
       "      <td>0.794918</td>\n",
       "      <td>1.000000</td>\n",
       "      <td>-0.255301</td>\n",
       "      <td>0.522578</td>\n",
       "      <td>-0.009743</td>\n",
       "      <td>0.033421</td>\n",
       "      <td>0.051015</td>\n",
       "      <td>0.013327</td>\n",
       "      <td>0.089191</td>\n",
       "      <td>0.545792</td>\n",
       "      <td>-0.250982</td>\n",
       "    </tr>\n",
       "    <tr>\n",
       "      <th>Second_Floor_Area</th>\n",
       "      <td>0.050953</td>\n",
       "      <td>0.028673</td>\n",
       "      <td>0.129145</td>\n",
       "      <td>-0.165189</td>\n",
       "      <td>-0.096314</td>\n",
       "      <td>-0.003989</td>\n",
       "      <td>-0.216497</td>\n",
       "      <td>-0.255301</td>\n",
       "      <td>1.000000</td>\n",
       "      <td>0.685641</td>\n",
       "      <td>-0.039156</td>\n",
       "      <td>-0.010259</td>\n",
       "      <td>-0.041925</td>\n",
       "      <td>-0.006369</td>\n",
       "      <td>0.020025</td>\n",
       "      <td>0.302227</td>\n",
       "      <td>-0.002737</td>\n",
       "    </tr>\n",
       "    <tr>\n",
       "      <th>Grade_Living_Area</th>\n",
       "      <td>0.348013</td>\n",
       "      <td>0.241728</td>\n",
       "      <td>0.310007</td>\n",
       "      <td>0.157260</td>\n",
       "      <td>0.002485</td>\n",
       "      <td>0.224906</td>\n",
       "      <td>0.401865</td>\n",
       "      <td>0.522578</td>\n",
       "      <td>0.685641</td>\n",
       "      <td>1.000000</td>\n",
       "      <td>-0.046648</td>\n",
       "      <td>0.015892</td>\n",
       "      <td>-0.000593</td>\n",
       "      <td>0.005026</td>\n",
       "      <td>0.080985</td>\n",
       "      <td>0.665294</td>\n",
       "      <td>-0.173320</td>\n",
       "    </tr>\n",
       "    <tr>\n",
       "      <th>Garage_Area</th>\n",
       "      <td>-0.026947</td>\n",
       "      <td>0.002382</td>\n",
       "      <td>0.025112</td>\n",
       "      <td>0.027154</td>\n",
       "      <td>-0.002445</td>\n",
       "      <td>-0.009640</td>\n",
       "      <td>0.017637</td>\n",
       "      <td>-0.009743</td>\n",
       "      <td>-0.039156</td>\n",
       "      <td>-0.046648</td>\n",
       "      <td>1.000000</td>\n",
       "      <td>-0.022790</td>\n",
       "      <td>0.027628</td>\n",
       "      <td>-0.012534</td>\n",
       "      <td>0.015740</td>\n",
       "      <td>-0.006694</td>\n",
       "      <td>-0.019562</td>\n",
       "    </tr>\n",
       "    <tr>\n",
       "      <th>W_Deck_Area</th>\n",
       "      <td>0.032409</td>\n",
       "      <td>0.024138</td>\n",
       "      <td>0.018104</td>\n",
       "      <td>0.015753</td>\n",
       "      <td>0.007618</td>\n",
       "      <td>-0.004643</td>\n",
       "      <td>0.014784</td>\n",
       "      <td>0.033421</td>\n",
       "      <td>-0.010259</td>\n",
       "      <td>0.015892</td>\n",
       "      <td>-0.022790</td>\n",
       "      <td>1.000000</td>\n",
       "      <td>-0.018823</td>\n",
       "      <td>-0.052795</td>\n",
       "      <td>-0.009821</td>\n",
       "      <td>0.020630</td>\n",
       "      <td>0.007978</td>\n",
       "    </tr>\n",
       "    <tr>\n",
       "      <th>Open_Lobby_Area</th>\n",
       "      <td>0.052866</td>\n",
       "      <td>0.035028</td>\n",
       "      <td>0.001939</td>\n",
       "      <td>0.042596</td>\n",
       "      <td>-0.023940</td>\n",
       "      <td>-0.024236</td>\n",
       "      <td>0.010232</td>\n",
       "      <td>0.051015</td>\n",
       "      <td>-0.041925</td>\n",
       "      <td>-0.000593</td>\n",
       "      <td>0.027628</td>\n",
       "      <td>-0.018823</td>\n",
       "      <td>1.000000</td>\n",
       "      <td>0.010757</td>\n",
       "      <td>0.063971</td>\n",
       "      <td>-0.003996</td>\n",
       "      <td>0.053590</td>\n",
       "    </tr>\n",
       "    <tr>\n",
       "      <th>Enclosed_Lobby_Area</th>\n",
       "      <td>-0.023765</td>\n",
       "      <td>0.009892</td>\n",
       "      <td>0.019994</td>\n",
       "      <td>0.010764</td>\n",
       "      <td>-0.015051</td>\n",
       "      <td>0.000527</td>\n",
       "      <td>0.005985</td>\n",
       "      <td>0.013327</td>\n",
       "      <td>-0.006369</td>\n",
       "      <td>0.005026</td>\n",
       "      <td>-0.012534</td>\n",
       "      <td>-0.052795</td>\n",
       "      <td>0.010757</td>\n",
       "      <td>1.000000</td>\n",
       "      <td>0.046449</td>\n",
       "      <td>0.011801</td>\n",
       "      <td>0.003260</td>\n",
       "    </tr>\n",
       "    <tr>\n",
       "      <th>Screen_Lobby_Area</th>\n",
       "      <td>0.033492</td>\n",
       "      <td>0.029863</td>\n",
       "      <td>0.073285</td>\n",
       "      <td>0.073386</td>\n",
       "      <td>0.088889</td>\n",
       "      <td>-0.026783</td>\n",
       "      <td>0.084520</td>\n",
       "      <td>0.089191</td>\n",
       "      <td>0.020025</td>\n",
       "      <td>0.080985</td>\n",
       "      <td>0.015740</td>\n",
       "      <td>-0.009821</td>\n",
       "      <td>0.063971</td>\n",
       "      <td>0.046449</td>\n",
       "      <td>1.000000</td>\n",
       "      <td>0.097697</td>\n",
       "      <td>0.045479</td>\n",
       "    </tr>\n",
       "    <tr>\n",
       "      <th>tar_var</th>\n",
       "      <td>0.309433</td>\n",
       "      <td>0.248502</td>\n",
       "      <td>0.376233</td>\n",
       "      <td>0.323175</td>\n",
       "      <td>0.005501</td>\n",
       "      <td>0.210009</td>\n",
       "      <td>0.562659</td>\n",
       "      <td>0.545792</td>\n",
       "      <td>0.302227</td>\n",
       "      <td>0.665294</td>\n",
       "      <td>-0.006694</td>\n",
       "      <td>0.020630</td>\n",
       "      <td>-0.003996</td>\n",
       "      <td>0.011801</td>\n",
       "      <td>0.097697</td>\n",
       "      <td>1.000000</td>\n",
       "      <td>-0.560988</td>\n",
       "    </tr>\n",
       "    <tr>\n",
       "      <th>House_life</th>\n",
       "      <td>-0.098638</td>\n",
       "      <td>-0.000958</td>\n",
       "      <td>-0.295423</td>\n",
       "      <td>-0.222701</td>\n",
       "      <td>0.045965</td>\n",
       "      <td>-0.142505</td>\n",
       "      <td>-0.365821</td>\n",
       "      <td>-0.250982</td>\n",
       "      <td>-0.002737</td>\n",
       "      <td>-0.173320</td>\n",
       "      <td>-0.019562</td>\n",
       "      <td>0.007978</td>\n",
       "      <td>0.053590</td>\n",
       "      <td>0.003260</td>\n",
       "      <td>0.045479</td>\n",
       "      <td>-0.560988</td>\n",
       "      <td>1.000000</td>\n",
       "    </tr>\n",
       "  </tbody>\n",
       "</table>\n",
       "</div>"
      ],
      "text/plain": [
       "                     Lot_Extent  Lot_Size  Brick_Veneer_Area  BsmtFinSF1  \\\n",
       "Lot_Extent             1.000000  0.315378           0.143911    0.204090   \n",
       "Lot_Size               0.315378  1.000000           0.067913    0.195007   \n",
       "Brick_Veneer_Area      0.143911  0.067913           1.000000    0.234447   \n",
       "BsmtFinSF1             0.204090  0.195007           0.234447    1.000000   \n",
       "BsmtFinSF2             0.049005  0.115940          -0.066319   -0.051358   \n",
       "BsmtUnfSF              0.104482 -0.002689           0.078870   -0.518042   \n",
       "Total_Basement_Area    0.343874  0.248735           0.303752    0.494530   \n",
       "First_Floor_Area       0.402007  0.290657           0.273264    0.410913   \n",
       "Second_Floor_Area      0.050953  0.028673           0.129145   -0.165189   \n",
       "Grade_Living_Area      0.348013  0.241728           0.310007    0.157260   \n",
       "Garage_Area           -0.026947  0.002382           0.025112    0.027154   \n",
       "W_Deck_Area            0.032409  0.024138           0.018104    0.015753   \n",
       "Open_Lobby_Area        0.052866  0.035028           0.001939    0.042596   \n",
       "Enclosed_Lobby_Area   -0.023765  0.009892           0.019994    0.010764   \n",
       "Screen_Lobby_Area      0.033492  0.029863           0.073285    0.073386   \n",
       "tar_var                0.309433  0.248502           0.376233    0.323175   \n",
       "House_life            -0.098638 -0.000958          -0.295423   -0.222701   \n",
       "\n",
       "                     BsmtFinSF2  BsmtUnfSF  Total_Basement_Area  \\\n",
       "Lot_Extent             0.049005   0.104482             0.343874   \n",
       "Lot_Size               0.115940  -0.002689             0.248735   \n",
       "Brick_Veneer_Area     -0.066319   0.078870             0.303752   \n",
       "BsmtFinSF1            -0.051358  -0.518042             0.494530   \n",
       "BsmtFinSF2             1.000000  -0.213033             0.117207   \n",
       "BsmtUnfSF             -0.213033   1.000000             0.413440   \n",
       "Total_Basement_Area    0.117207   0.413440             1.000000   \n",
       "First_Floor_Area       0.113470   0.302997             0.794918   \n",
       "Second_Floor_Area     -0.096314  -0.003989            -0.216497   \n",
       "Grade_Living_Area      0.002485   0.224906             0.401865   \n",
       "Garage_Area           -0.002445  -0.009640             0.017637   \n",
       "W_Deck_Area            0.007618  -0.004643             0.014784   \n",
       "Open_Lobby_Area       -0.023940  -0.024236             0.010232   \n",
       "Enclosed_Lobby_Area   -0.015051   0.000527             0.005985   \n",
       "Screen_Lobby_Area      0.088889  -0.026783             0.084520   \n",
       "tar_var                0.005501   0.210009             0.562659   \n",
       "House_life             0.045965  -0.142505            -0.365821   \n",
       "\n",
       "                     First_Floor_Area  Second_Floor_Area  Grade_Living_Area  \\\n",
       "Lot_Extent                   0.402007           0.050953           0.348013   \n",
       "Lot_Size                     0.290657           0.028673           0.241728   \n",
       "Brick_Veneer_Area            0.273264           0.129145           0.310007   \n",
       "BsmtFinSF1                   0.410913          -0.165189           0.157260   \n",
       "BsmtFinSF2                   0.113470          -0.096314           0.002485   \n",
       "BsmtUnfSF                    0.302997          -0.003989           0.224906   \n",
       "Total_Basement_Area          0.794918          -0.216497           0.401865   \n",
       "First_Floor_Area             1.000000          -0.255301           0.522578   \n",
       "Second_Floor_Area           -0.255301           1.000000           0.685641   \n",
       "Grade_Living_Area            0.522578           0.685641           1.000000   \n",
       "Garage_Area                 -0.009743          -0.039156          -0.046648   \n",
       "W_Deck_Area                  0.033421          -0.010259           0.015892   \n",
       "Open_Lobby_Area              0.051015          -0.041925          -0.000593   \n",
       "Enclosed_Lobby_Area          0.013327          -0.006369           0.005026   \n",
       "Screen_Lobby_Area            0.089191           0.020025           0.080985   \n",
       "tar_var                      0.545792           0.302227           0.665294   \n",
       "House_life                  -0.250982          -0.002737          -0.173320   \n",
       "\n",
       "                     Garage_Area  W_Deck_Area  Open_Lobby_Area  \\\n",
       "Lot_Extent             -0.026947     0.032409         0.052866   \n",
       "Lot_Size                0.002382     0.024138         0.035028   \n",
       "Brick_Veneer_Area       0.025112     0.018104         0.001939   \n",
       "BsmtFinSF1              0.027154     0.015753         0.042596   \n",
       "BsmtFinSF2             -0.002445     0.007618        -0.023940   \n",
       "BsmtUnfSF              -0.009640    -0.004643        -0.024236   \n",
       "Total_Basement_Area     0.017637     0.014784         0.010232   \n",
       "First_Floor_Area       -0.009743     0.033421         0.051015   \n",
       "Second_Floor_Area      -0.039156    -0.010259        -0.041925   \n",
       "Grade_Living_Area      -0.046648     0.015892        -0.000593   \n",
       "Garage_Area             1.000000    -0.022790         0.027628   \n",
       "W_Deck_Area            -0.022790     1.000000        -0.018823   \n",
       "Open_Lobby_Area         0.027628    -0.018823         1.000000   \n",
       "Enclosed_Lobby_Area    -0.012534    -0.052795         0.010757   \n",
       "Screen_Lobby_Area       0.015740    -0.009821         0.063971   \n",
       "tar_var                -0.006694     0.020630        -0.003996   \n",
       "House_life             -0.019562     0.007978         0.053590   \n",
       "\n",
       "                     Enclosed_Lobby_Area  Screen_Lobby_Area   tar_var  \\\n",
       "Lot_Extent                     -0.023765           0.033492  0.309433   \n",
       "Lot_Size                        0.009892           0.029863  0.248502   \n",
       "Brick_Veneer_Area               0.019994           0.073285  0.376233   \n",
       "BsmtFinSF1                      0.010764           0.073386  0.323175   \n",
       "BsmtFinSF2                     -0.015051           0.088889  0.005501   \n",
       "BsmtUnfSF                       0.000527          -0.026783  0.210009   \n",
       "Total_Basement_Area             0.005985           0.084520  0.562659   \n",
       "First_Floor_Area                0.013327           0.089191  0.545792   \n",
       "Second_Floor_Area              -0.006369           0.020025  0.302227   \n",
       "Grade_Living_Area               0.005026           0.080985  0.665294   \n",
       "Garage_Area                    -0.012534           0.015740 -0.006694   \n",
       "W_Deck_Area                    -0.052795          -0.009821  0.020630   \n",
       "Open_Lobby_Area                 0.010757           0.063971 -0.003996   \n",
       "Enclosed_Lobby_Area             1.000000           0.046449  0.011801   \n",
       "Screen_Lobby_Area               0.046449           1.000000  0.097697   \n",
       "tar_var                         0.011801           0.097697  1.000000   \n",
       "House_life                      0.003260           0.045479 -0.560988   \n",
       "\n",
       "                     House_life  \n",
       "Lot_Extent            -0.098638  \n",
       "Lot_Size              -0.000958  \n",
       "Brick_Veneer_Area     -0.295423  \n",
       "BsmtFinSF1            -0.222701  \n",
       "BsmtFinSF2             0.045965  \n",
       "BsmtUnfSF             -0.142505  \n",
       "Total_Basement_Area   -0.365821  \n",
       "First_Floor_Area      -0.250982  \n",
       "Second_Floor_Area     -0.002737  \n",
       "Grade_Living_Area     -0.173320  \n",
       "Garage_Area           -0.019562  \n",
       "W_Deck_Area            0.007978  \n",
       "Open_Lobby_Area        0.053590  \n",
       "Enclosed_Lobby_Area    0.003260  \n",
       "Screen_Lobby_Area      0.045479  \n",
       "tar_var               -0.560988  \n",
       "House_life             1.000000  "
      ]
     },
     "execution_count": 50,
     "metadata": {},
     "output_type": "execute_result"
    }
   ],
   "source": [
    "df.corr()"
   ]
  },
  {
   "cell_type": "code",
   "execution_count": 51,
   "metadata": {},
   "outputs": [
    {
     "data": {
      "text/plain": [
       "set()"
      ]
     },
     "execution_count": 51,
     "metadata": {},
     "output_type": "execute_result"
    }
   ],
   "source": [
    "# Which are the columns that should removed/highly correlated\n",
    "def checkcorrelation(dataset, threshold):\n",
    "    col_corr = set()\n",
    "    cor_matrix = dataset.corr()\n",
    "    for i in range(len(cor_matrix.columns)):\n",
    "        for j in range(i):\n",
    "            if abs(cor_matrix.iloc[i, j]) > threshold:\n",
    "                colname = cor_matrix.columns[i]\n",
    "                col_corr.add(colname)\n",
    "    return col_corr\n",
    "\n",
    "checkcorrelation(df_num, 0.8)"
   ]
  },
  {
   "cell_type": "code",
   "execution_count": 52,
   "metadata": {},
   "outputs": [
    {
     "data": {
      "text/plain": [
       "Index(['Lot_Extent', 'Lot_Size', 'Brick_Veneer_Area', 'BsmtFinSF1',\n",
       "       'BsmtFinSF2', 'BsmtUnfSF', 'Total_Basement_Area', 'First_Floor_Area',\n",
       "       'Second_Floor_Area', 'Grade_Living_Area', 'Garage_Area', 'W_Deck_Area',\n",
       "       'Open_Lobby_Area', 'Enclosed_Lobby_Area', 'Screen_Lobby_Area',\n",
       "       'tar_var', 'House_life', 'Building_Class', 'Zoning_Class', 'Lane_Type',\n",
       "       'Property_Shape', 'Land_Outline', 'Lot_Configuration', 'Property_Slope',\n",
       "       'Neighborhood', 'Condition1', 'House_Type', 'House_Design',\n",
       "       'Overall_Material', 'House_Condition', 'Roof_Design', 'Exterior1st',\n",
       "       'Exterior2nd', 'Brick_Veneer_Type', 'Exterior_Material',\n",
       "       'Exterior_Condition', 'Foundation_Type', 'Basement_Height',\n",
       "       'Basement_Condition', 'Exposure_Level', 'BsmtFinType1', 'BsmtFinType2',\n",
       "       'Heating_Quality', 'Air_Conditioning', 'Electrical_System',\n",
       "       'Underground_Full_Bathroom', 'Underground_Half_Bathroom',\n",
       "       'Full_Bathroom_Above_Grade', 'Half_Bathroom_Above_Grade',\n",
       "       'Bedroom_Above_Grade', 'Kitchen_Quality', 'Rooms_Above_Grade',\n",
       "       'Functional_Rate', 'Fireplaces', 'Fireplace_Quality', 'Garage',\n",
       "       'Garage_Finish_Year', 'Garage_Size', 'Garage_Quality',\n",
       "       'Garage_Condition', 'Pavedd_Drive', 'Fence_Quality', 'Sale_Type',\n",
       "       'Sale_Condition'],\n",
       "      dtype='object')"
      ]
     },
     "execution_count": 52,
     "metadata": {},
     "output_type": "execute_result"
    }
   ],
   "source": [
    "# Combining Fact and Numeric data\n",
    "\n",
    "New_df = pd.concat([df_num,df_fac], axis=1)\n",
    "New_df.columns"
   ]
  },
  {
   "cell_type": "markdown",
   "metadata": {},
   "source": [
    "## 4. Data Splitting"
   ]
  },
  {
   "cell_type": "code",
   "execution_count": 53,
   "metadata": {},
   "outputs": [],
   "source": [
    "# spliting tar_var from New_df\n",
    "tar_var = New_df['tar_var']\n",
    "New_df.drop(\"tar_var\", axis=1, inplace=True)"
   ]
  },
  {
   "cell_type": "code",
   "execution_count": 54,
   "metadata": {},
   "outputs": [],
   "source": [
    "# Converting in dummies\n",
    "df = pd.get_dummies(New_df, drop_first=False)"
   ]
  },
  {
   "cell_type": "code",
   "execution_count": 55,
   "metadata": {},
   "outputs": [
    {
     "data": {
      "text/plain": [
       "Lot_Extent                float64\n",
       "Lot_Size                  float64\n",
       "Brick_Veneer_Area         float64\n",
       "BsmtFinSF1                  int64\n",
       "BsmtFinSF2                float64\n",
       "                           ...   \n",
       "Sale_Condition_AdjLand      uint8\n",
       "Sale_Condition_Alloca       uint8\n",
       "Sale_Condition_Family       uint8\n",
       "Sale_Condition_Normal       uint8\n",
       "Sale_Condition_Partial      uint8\n",
       "Length: 325, dtype: object"
      ]
     },
     "execution_count": 55,
     "metadata": {},
     "output_type": "execute_result"
    }
   ],
   "source": [
    "df.dtypes"
   ]
  },
  {
   "cell_type": "code",
   "execution_count": 56,
   "metadata": {},
   "outputs": [],
   "source": [
    "#Spliting now.\n",
    "x_train,x_test,y_train,y_test = train_test_split(df, tar_var, random_state = 10,test_size = 0.3)"
   ]
  },
  {
   "cell_type": "code",
   "execution_count": 57,
   "metadata": {},
   "outputs": [
    {
     "data": {
      "text/plain": [
       "(993, 325)"
      ]
     },
     "execution_count": 57,
     "metadata": {},
     "output_type": "execute_result"
    }
   ],
   "source": [
    "x_train.shape"
   ]
  },
  {
   "cell_type": "code",
   "execution_count": 58,
   "metadata": {},
   "outputs": [
    {
     "data": {
      "text/plain": [
       "(426, 325)"
      ]
     },
     "execution_count": 58,
     "metadata": {},
     "output_type": "execute_result"
    }
   ],
   "source": [
    "x_test.shape"
   ]
  },
  {
   "cell_type": "code",
   "execution_count": 59,
   "metadata": {},
   "outputs": [
    {
     "data": {
      "text/plain": [
       "(993,)"
      ]
     },
     "execution_count": 59,
     "metadata": {},
     "output_type": "execute_result"
    }
   ],
   "source": [
    "y_train.shape"
   ]
  },
  {
   "cell_type": "code",
   "execution_count": 60,
   "metadata": {},
   "outputs": [
    {
     "data": {
      "text/plain": [
       "(426,)"
      ]
     },
     "execution_count": 60,
     "metadata": {},
     "output_type": "execute_result"
    }
   ],
   "source": [
    "y_test.shape"
   ]
  },
  {
   "cell_type": "markdown",
   "metadata": {},
   "source": [
    "## 5. Model creation & Model Validation"
   ]
  },
  {
   "cell_type": "markdown",
   "metadata": {},
   "source": [
    "### 1. Linear Regression"
   ]
  },
  {
   "cell_type": "code",
   "execution_count": 61,
   "metadata": {},
   "outputs": [],
   "source": [
    "# Implementing model\n",
    "from sklearn import linear_model as lm\n",
    "model = lm.LinearRegression()\n",
    "result = model.fit(x_train, y_train)"
   ]
  },
  {
   "cell_type": "code",
   "execution_count": 62,
   "metadata": {},
   "outputs": [
    {
     "data": {
      "text/plain": [
       "array([-3.92819096e+03,  1.53664449e+04, -4.05232156e+02, -2.70150586e+01,\n",
       "       -3.64320728e+03, -3.33565690e+01,  3.31940059e+01, -6.25676595e+00,\n",
       "        1.46693206e+01,  4.71259167e+01, -2.89980237e+00,  2.82422772e+00,\n",
       "        1.36774201e+01,  3.75047788e+01,  5.52668210e+02, -1.96863196e+02,\n",
       "        9.29882371e+03,  8.31874212e+03, -1.68312155e+03,  2.47975430e+04,\n",
       "       -5.31933530e+03, -3.64335741e+03,  8.22736055e+03,  3.32413457e+03,\n",
       "        3.19835875e+03, -1.59599147e+03, -2.73054091e+03,  7.66277422e+03,\n",
       "       -1.23808071e+04,  5.89865721e+03, -4.33732404e+04, -4.94376138e+04,\n",
       "        3.44709816e+04, -2.09614117e+01,  1.32144277e+04,  1.77316584e+03,\n",
       "       -1.82776146e+03,  2.01487311e+03, -1.87111649e+02, -4.93815726e+01,\n",
       "        6.88896218e+02, -4.16916106e+03,  3.52964642e+03, -5.83567526e+03,\n",
       "        4.32953092e+03, -2.53878503e+03,  4.04492937e+03,  5.40991906e+03,\n",
       "        1.30851145e+04,  9.01830130e+02, -2.33418959e+04,  3.94503219e+03,\n",
       "        7.25504928e+03,  8.95033020e+03, -1.62053795e+04, -4.06089637e+03,\n",
       "        1.26660308e+04,  2.42583111e+04,  1.67586050e+03,  1.50059368e+04,\n",
       "       -4.88611366e+03,  6.40202591e+03, -1.90787412e+04, -3.03810901e+03,\n",
       "       -2.95388892e+03, -1.03788143e+04, -8.12768504e+03, -1.40842392e+04,\n",
       "        2.70905896e+03, -1.34947265e+04,  1.43633173e+04,  2.04766423e+04,\n",
       "       -4.85526093e+03, -8.47748547e+03, -1.02037936e+04, -5.76240728e+03,\n",
       "       -2.45808020e+03,  1.98895379e+04, -7.13357393e+03,  1.54709395e+03,\n",
       "       -6.01959614e+03, -6.49418201e+03,  2.98088626e+03,  9.08026442e+03,\n",
       "        4.37957299e+03, -1.19559952e+04, -5.62508079e+03,  4.53294954e+03,\n",
       "        9.12118096e+03, -1.93172164e+03,  2.44068986e+04, -2.73054091e+03,\n",
       "       -1.29804860e+04, -6.76415004e+03,  2.07150084e+03, -7.40832435e+03,\n",
       "        4.87106890e+03, -8.39055680e+03,  1.27663976e+04, -8.76375356e+03,\n",
       "        3.84205082e+03,  1.01161658e+03,  5.78999374e+03,  6.71239957e+03,\n",
       "       -1.25794440e+04, -7.69780535e+03, -7.03151929e+03, -2.76128223e+03,\n",
       "        7.31172222e+03,  2.28119730e+04,  5.93063211e+04, -7.18623587e+04,\n",
       "       -1.67347025e-10,  6.25639091e+04, -2.51463778e+04, -2.10539976e+04,\n",
       "       -1.39161818e+04, -7.18624465e+03, -1.20453687e+03,  5.08379097e+03,\n",
       "        8.59638672e+02, -6.58856236e+03, -8.04412385e+03, -1.81206422e+04,\n",
       "       -8.83365276e+03,  5.65018265e+03,  3.59367985e+04, -2.64814646e+04,\n",
       "       -2.38143881e+04, -7.80690975e+02,  1.67658852e+04,  3.63797881e-12,\n",
       "        2.32463728e+03, -3.72786375e+03,  3.57927035e+03,  1.30316510e+04,\n",
       "        5.25298189e+03, -1.45519152e-11,  7.71613206e+03,  7.33340922e+03,\n",
       "        5.62088411e+02, -1.76164800e+03,  2.93366686e+04,  8.08629039e+03,\n",
       "        6.62913413e+03, -1.53497698e+03,  8.41282599e-11,  1.26299318e+04,\n",
       "        1.82052633e+03, -4.35506606e+03, -7.32205172e+03, -7.16227078e-12,\n",
       "       -2.22734873e+03, -2.96532164e+04, -1.28787424e+04, -2.77278098e+03,\n",
       "        4.51735296e+03, -2.27572096e+03, -3.62894203e+03,  4.93727980e+02,\n",
       "       -4.15711301e+03,  7.29232706e+03,  1.88123239e+02, -1.24060183e+04,\n",
       "        8.08193889e+03,  4.13595619e+03,  6.23166922e+04,  3.54901379e+03,\n",
       "        3.51973808e+03, -7.60695985e+04,  6.68415440e+03,  1.40459805e+03,\n",
       "        4.40966917e+03,  4.57715172e+03,  5.68046643e+03,  3.79972829e+02,\n",
       "       -1.64518582e+04,  5.19155867e+03, -7.34561781e+02, -1.55032660e+03,\n",
       "       -5.29753420e+02, -2.37691687e+03,  6.42218215e+03,  8.97499813e+03,\n",
       "       -5.29753420e+02, -2.30450044e+04,  8.17757756e+03,  4.19233669e+02,\n",
       "        1.47046317e+04,  4.51104408e+01, -1.64153586e+03, -1.35274399e+04,\n",
       "        2.24833054e+03,  1.51576755e+03,  5.66307059e+03, -2.52444723e+03,\n",
       "       -5.29753420e+02, -2.32636007e+03, -4.04660797e+03,  4.43147308e+03,\n",
       "       -1.07476673e+03,  4.80776812e+03,  2.24040243e+03, -5.29753420e+02,\n",
       "        9.31639063e+02, -1.08067625e+04,  4.62420102e+03,  4.84808984e+03,\n",
       "        2.07711455e+03, -1.45605841e+04,  3.01117871e+03,  6.94870570e+02,\n",
       "       -6.94870570e+02,  3.10239839e+03,  1.27688046e+03,  1.69250127e+04,\n",
       "       -2.30450044e+04,  1.74071290e+03, -3.22046470e+03,  2.73603329e+03,\n",
       "       -2.19436759e+04,  2.24281073e+04,  3.98021092e+03,  1.69400289e+03,\n",
       "       -5.67421381e+03,  2.80657564e+03, -5.14266063e+03, -3.02217986e+01,\n",
       "        2.36630679e+03, -2.45396012e+03,  1.95634445e+03,  4.97615668e+02,\n",
       "        8.46098705e+03, -6.80397182e+03, -1.99773029e+03, -3.14624979e+03,\n",
       "       -2.13291321e+03, -1.25960024e+04,  1.82158805e+04,  0.00000000e+00,\n",
       "        1.44177092e+04, -7.21334107e+03, -2.59298506e+03, -4.61138308e+03,\n",
       "        5.78999374e+03,  8.90425557e+03,  8.16204008e+03,  9.81588879e+03,\n",
       "        1.27968615e+04,  1.12751009e+04,  1.13309710e+04,  1.79004029e+04,\n",
       "        5.37674217e+03, -2.81879457e+04, -6.31643110e+04, -7.27595761e-12,\n",
       "       -6.20828632e+03,  6.86035517e+03,  5.20286601e+03,  6.30603750e+03,\n",
       "       -1.29818178e+04, -1.32405573e+04,  1.40614027e+04,  3.38519781e+02,\n",
       "        3.43298664e+03,  7.86682562e+03, -1.16383320e+04, -5.81836410e+03,\n",
       "        4.36003093e+02,  1.14968398e+03,  3.38519781e+02,  1.69298512e+03,\n",
       "        2.20117212e+03, -1.70420750e+04, -5.58181332e+04,  1.91859377e+04,\n",
       "        2.73314858e+04,  1.30089938e+04, -7.54691859e+03,  2.16302810e+04,\n",
       "       -7.49571504e+02,  2.30484101e+03, -7.49571504e+02,  1.28703880e+03,\n",
       "       -2.84230830e+03, -7.49571504e+02, -1.80249466e+04, -1.12880730e+04,\n",
       "        4.29803357e+03,  2.57645575e+04,  4.27285970e+03, -6.72302491e+03,\n",
       "        2.10007828e+04, -7.49571504e+02, -2.06278559e+04,  2.82680978e+03,\n",
       "        4.27285970e+03, -6.28714331e+03,  1.65711854e+03, -7.49571504e+02,\n",
       "        9.49909884e+02,  1.56826696e+02, -2.52814151e+02, -1.88730379e+03,\n",
       "        2.14011794e+03, -7.45669959e+02, -1.33068138e+03,  1.95043194e+03,\n",
       "       -2.67804982e+03,  2.80396922e+03, -5.58340619e+03,  5.87206315e+03,\n",
       "        2.87157020e+04,  8.93602812e+03, -8.24393058e+03, -1.36986727e+04,\n",
       "        7.26130039e+03, -1.74200905e+04, -5.83899365e+03, -9.82900661e+03,\n",
       "        7.19390625e+03,  1.14880555e+04,  3.29428426e+03,  1.15100366e+03,\n",
       "       -1.32982431e+04])"
      ]
     },
     "execution_count": 62,
     "metadata": {},
     "output_type": "execute_result"
    }
   ],
   "source": [
    "model.coef_"
   ]
  },
  {
   "cell_type": "code",
   "execution_count": 63,
   "metadata": {},
   "outputs": [
    {
     "name": "stdout",
     "output_type": "stream",
     "text": [
      "-72254.113996323\n"
     ]
    }
   ],
   "source": [
    "#Printing the coefficient\n",
    "print(model.intercept_)"
   ]
  },
  {
   "cell_type": "code",
   "execution_count": 64,
   "metadata": {},
   "outputs": [],
   "source": [
    "# predicting the values.\n",
    "predictions = model.predict(x_test)"
   ]
  },
  {
   "cell_type": "code",
   "execution_count": 65,
   "metadata": {},
   "outputs": [
    {
     "data": {
      "text/plain": [
       "92.92273494807174"
      ]
     },
     "execution_count": 65,
     "metadata": {},
     "output_type": "execute_result"
    }
   ],
   "source": [
    "score= model.score(x_train, y_train)   ## Rsquare value\n",
    "linear_R2= score*100\n",
    "linear_R2"
   ]
  },
  {
   "cell_type": "code",
   "execution_count": 66,
   "metadata": {},
   "outputs": [],
   "source": [
    "# Getting the model eveluation from predicted values\n",
    "from sklearn import metrics"
   ]
  },
  {
   "cell_type": "code",
   "execution_count": 67,
   "metadata": {},
   "outputs": [
    {
     "data": {
      "text/plain": [
       "590144381.7583051"
      ]
     },
     "execution_count": 67,
     "metadata": {},
     "output_type": "execute_result"
    }
   ],
   "source": [
    "# model evaluation\n",
    "linear_mse = metrics.mean_squared_error(y_test, predictions)\n",
    "linear_mse"
   ]
  },
  {
   "cell_type": "code",
   "execution_count": 68,
   "metadata": {},
   "outputs": [
    {
     "data": {
      "text/plain": [
       "24292.887472639086"
      ]
     },
     "execution_count": 68,
     "metadata": {},
     "output_type": "execute_result"
    }
   ],
   "source": [
    "linear_RMSE= np.sqrt(linear_mse)\n",
    "linear_RMSE"
   ]
  },
  {
   "cell_type": "code",
   "execution_count": 69,
   "metadata": {},
   "outputs": [
    {
     "data": {
      "text/plain": [
       "16739.801531575107"
      ]
     },
     "execution_count": 69,
     "metadata": {},
     "output_type": "execute_result"
    }
   ],
   "source": [
    "linear_mae= metrics.mean_absolute_error(y_test, predictions)\n",
    "linear_mae"
   ]
  },
  {
   "cell_type": "code",
   "execution_count": 70,
   "metadata": {},
   "outputs": [
    {
     "data": {
      "text/plain": [
       "<matplotlib.collections.PathCollection at 0x21c376d3588>"
      ]
     },
     "execution_count": 70,
     "metadata": {},
     "output_type": "execute_result"
    },
    {
     "data": {
      "image/png": "[encoded data removed]",
      "text/plain": [
       "<Figure size 432x288 with 1 Axes>"
      ]
     },
     "metadata": {
      "needs_background": "light"
     },
     "output_type": "display_data"
    }
   ],
   "source": [
    "## Plotting the Residuals\n",
    "import matplotlib.pyplot as plt\n",
    "import seaborn as sns\n",
    "plt.scatter(y_test, predictions)"
   ]
  },
  {
   "cell_type": "code",
   "execution_count": 71,
   "metadata": {},
   "outputs": [
    {
     "data": {
      "text/plain": [
       "<matplotlib.axes._subplots.AxesSubplot at 0x21c3770a588>"
      ]
     },
     "execution_count": 71,
     "metadata": {},
     "output_type": "execute_result"
    },
    {
     "data": {
      "image/png": "[encoded data removed]",
      "text/plain": [
       "<Figure size 432x288 with 1 Axes>"
      ]
     },
     "metadata": {
      "needs_background": "light"
     },
     "output_type": "display_data"
    }
   ],
   "source": [
    "sns.distplot(y_test - predictions)"
   ]
  },
  {
   "cell_type": "markdown",
   "metadata": {},
   "source": [
    "### 2. Lass Regression"
   ]
  },
  {
   "cell_type": "code",
   "execution_count": 72,
   "metadata": {},
   "outputs": [],
   "source": [
    "##Lasso\n",
    "from sklearn.linear_model import Lasso\n",
    "lm_lasso= Lasso()"
   ]
  },
  {
   "cell_type": "code",
   "execution_count": 73,
   "metadata": {},
   "outputs": [
    {
     "data": {
      "text/plain": [
       "Lasso()"
      ]
     },
     "execution_count": 73,
     "metadata": {},
     "output_type": "execute_result"
    }
   ],
   "source": [
    "lm_lasso.fit(x_train,y_train)"
   ]
  },
  {
   "cell_type": "code",
   "execution_count": 74,
   "metadata": {},
   "outputs": [
    {
     "data": {
      "text/plain": [
       "array([-3.79444460e+03,  1.52143226e+04, -3.85253350e+02, -1.77589948e+01,\n",
       "       -2.07680875e+03, -2.39016563e+01,  2.36481465e+01, -4.92755993e+00,\n",
       "        1.55917072e+01,  4.59306657e+01, -2.83596283e+00,  3.02498302e+00,\n",
       "        1.37496035e+01,  3.67601018e+01,  5.56817616e+02, -1.97161872e+02,\n",
       "        6.91985253e+03,  5.87315572e+03, -3.33311264e+03,  1.96720739e+04,\n",
       "       -7.34778805e+03, -5.87518877e+03,  5.92453968e+03,  1.98138834e+03,\n",
       "        0.00000000e+00, -3.64941822e+03, -2.22430262e+03,  3.98784494e+03,\n",
       "       -1.57668881e+04,  1.72972859e+03, -4.08156811e+04, -4.97157128e+04,\n",
       "        3.24321340e+04, -1.93744216e+03,  1.12841351e+04, -0.00000000e+00,\n",
       "       -1.65882692e+03,  2.07897721e+03,  0.00000000e+00, -5.74814684e+02,\n",
       "        5.49642583e-01, -4.46057174e+03,  2.89640039e+03, -9.62551181e+03,\n",
       "        3.37902552e+02, -6.31760989e+03,  2.34658533e+02,  1.48233671e+03,\n",
       "        9.21429291e+03, -2.94323309e+03, -2.67966370e+04, -0.00000000e+00,\n",
       "        0.00000000e+00,  1.56573567e+03, -2.32856742e+04, -9.68201649e+02,\n",
       "        1.47183573e+04,  2.69449129e+04,  4.32939261e+03,  1.83371152e+04,\n",
       "       -1.78846041e+03,  9.58522630e+03, -1.58814838e+04,  0.00000000e+00,\n",
       "        0.00000000e+00, -7.07019616e+03, -5.14494727e+03, -1.09490137e+04,\n",
       "        6.03337615e+03, -1.02792880e+04,  1.74845429e+04,  2.35165944e+04,\n",
       "       -1.92539758e+03, -5.28009944e+03, -7.09869301e+03, -2.50937416e+03,\n",
       "        5.91176157e+02,  2.30274396e+04, -4.02890562e+03,  4.43912071e+03,\n",
       "       -8.84414680e+03, -9.42212034e+03, -0.00000000e+00,  5.57982622e+03,\n",
       "        1.15314109e+03, -1.48774685e+04, -8.49951635e+03,  3.30935698e+02,\n",
       "        5.80939340e+03,  3.65026652e+03,  2.51050941e+04, -4.59473572e+00,\n",
       "       -6.04653703e+03,  0.00000000e+00,  1.01780028e+02, -6.87295914e+03,\n",
       "        3.02744031e+03, -1.02444346e+04,  9.67940764e+03, -1.05060841e+04,\n",
       "        1.74417848e+03, -5.84414527e+01, -9.83182641e+01,  1.91362847e+03,\n",
       "       -1.42735548e+04, -1.00972325e+04, -9.43284525e+03, -5.15672413e+03,\n",
       "        4.98413514e+03,  2.05902436e+04,  5.70390325e+04, -7.38849771e+04,\n",
       "        0.00000000e+00,  5.61416427e+04, -2.17991907e+04, -1.74626083e+04,\n",
       "       -1.02889429e+04, -3.65875753e+03,  2.38125971e+03,  8.66205001e+03,\n",
       "        4.30342905e+03,  7.41872295e+02, -2.10233855e+02, -1.01261457e+04,\n",
       "       -9.20433466e+02,  1.33582005e+04,  4.20567732e+04,  0.00000000e+00,\n",
       "       -2.58304449e+04, -2.35148284e+03,  1.30704279e+04,  0.00000000e+00,\n",
       "        0.00000000e+00, -7.69465053e+03, -0.00000000e+00,  8.64510032e+03,\n",
       "        1.59782954e+03,  0.00000000e+00,  3.26512323e+03,  2.77083675e+03,\n",
       "       -3.18058869e+03, -5.61007446e+03,  1.10009553e+03,  9.12271035e+03,\n",
       "        7.05076552e+03,  0.00000000e+00,  0.00000000e+00,  1.26174095e+04,\n",
       "        3.72109398e+03, -2.36309146e+03, -5.05746814e+03,  0.00000000e+00,\n",
       "       -3.37519958e+02, -2.67866269e+04, -1.07054715e+04, -3.93084100e+02,\n",
       "        6.07757743e+03, -3.65684100e+02, -2.45437044e+03,  1.68507807e+03,\n",
       "       -2.83241225e+03,  8.40481362e+03, -3.90371444e+03, -1.37620693e+04,\n",
       "        3.88787051e+03,  2.21503349e+01,  5.81857079e+04, -0.00000000e+00,\n",
       "       -3.37357081e+02, -6.93184583e+04,  2.79248013e+03, -2.76873813e+03,\n",
       "        2.18546876e+02,  3.76683020e+02,  1.08422607e+03, -3.69342685e+03,\n",
       "       -2.00110555e+04,  6.61835096e+03,  9.23838214e+02,  0.00000000e+00,\n",
       "       -1.00635888e+02, -8.83580420e+02,  0.00000000e+00,  2.31741377e+03,\n",
       "       -1.68809156e+00, -4.49715051e+04,  1.56900251e+03,  4.07475783e+02,\n",
       "        1.48004783e+04,  0.00000000e+00, -1.66252052e+03, -1.34374661e+04,\n",
       "        3.73360393e+03,  2.82515847e+03,  7.04918664e+03, -1.16168981e+03,\n",
       "       -0.00000000e+00, -9.01391859e+02, -2.69002922e+03,  3.73872406e+03,\n",
       "       -2.00276490e+03,  4.04732832e+03,  1.13918723e+03, -0.00000000e+00,\n",
       "        0.00000000e+00, -4.57828383e+03,  1.54313102e+03,  1.42746599e+03,\n",
       "       -1.01420374e+03, -1.57272686e+04, -0.00000000e+00,  1.28549152e+03,\n",
       "       -2.44203578e-10,  1.34912448e+03, -7.62664587e+02,  1.36249261e+04,\n",
       "       -0.00000000e+00, -0.00000000e+00, -5.06248719e+03,  9.89012188e+02,\n",
       "       -2.31897626e+04,  2.00263742e+04,  2.21606377e+03, -0.00000000e+00,\n",
       "       -6.22054527e+03,  2.57660604e+03, -5.18577009e+03, -8.24786145e+01,\n",
       "        2.26419868e+03, -2.97159791e+03,  1.38983777e+03, -0.00000000e+00,\n",
       "        1.04824471e+04, -4.58899693e+03,  1.79831049e+02, -9.63963360e+02,\n",
       "       -0.00000000e+00, -1.05279576e+04,  1.94747661e+04,  0.00000000e+00,\n",
       "        1.88371637e+04, -2.81293022e+03,  1.84699304e+03, -2.32192353e+02,\n",
       "       -0.00000000e+00, -0.00000000e+00, -8.06173872e+02,  7.70231974e+02,\n",
       "        3.75132021e+03,  2.31718569e+03,  2.37849202e+03,  9.02199462e+03,\n",
       "       -3.40570993e+03, -3.66050960e+04, -7.11913047e+04,  0.00000000e+00,\n",
       "       -1.14464466e+04,  1.58524056e+03,  0.00000000e+00,  8.67325125e+02,\n",
       "       -1.81917630e+04, -1.73610951e+04,  8.87138879e+03, -3.98584272e+03,\n",
       "        0.00000000e+00,  4.33039647e+03, -1.51566688e+04, -6.84061342e+03,\n",
       "       -7.96860161e+02,  0.00000000e+00, -0.00000000e+00,  1.34686351e+02,\n",
       "        8.68270701e+02, -2.90451646e+04, -8.82436188e+04,  6.17392587e+03,\n",
       "        1.37387826e+04,  0.00000000e+00, -2.03953935e+04,  8.58606301e+03,\n",
       "       -7.92331381e+03,  4.02510727e+03, -3.41580269e+01,  2.95942541e+03,\n",
       "       -1.15222312e+03, -1.98758381e+01, -8.85403391e+03, -2.09232237e+03,\n",
       "        1.33190502e+04,  3.48804800e+04,  5.39600896e+03, -9.30435703e+03,\n",
       "        1.79926848e+04, -7.08431988e+02, -2.11892499e+04,  2.08597538e+01,\n",
       "        9.69220872e+01, -6.66541979e+03,  1.29165557e+03, -1.80570641e+02,\n",
       "       -1.28707687e+02,  2.79679447e+01,  0.00000000e+00, -1.49495290e+03,\n",
       "        2.37493129e+03,  0.00000000e+00, -6.73595029e+02,  2.70126647e+03,\n",
       "       -1.64071405e+03,  3.54763577e+03,  0.00000000e+00,  1.13723009e+04,\n",
       "        3.38756044e+04,  1.50303700e+04, -1.92847794e+03, -7.79008217e+03,\n",
       "        1.25082315e+04, -1.05951004e+04, -1.17907185e+02, -1.09581779e+04,\n",
       "        5.29541647e+03,  9.59200436e+03,  1.77237064e+03, -4.65772311e+01,\n",
       "       -1.39952782e+04])"
      ]
     },
     "execution_count": 74,
     "metadata": {},
     "output_type": "execute_result"
    }
   ],
   "source": [
    "lm_lasso.coef_"
   ]
  },
  {
   "cell_type": "code",
   "execution_count": 75,
   "metadata": {},
   "outputs": [
    {
     "data": {
      "text/plain": [
       "86.53"
      ]
     },
     "execution_count": 75,
     "metadata": {},
     "output_type": "execute_result"
    }
   ],
   "source": [
    "#r2 value\n",
    "lasso_R2=np.round(lm_lasso.score(x_test, y_test)*100,2)\n",
    "lasso_R2"
   ]
  },
  {
   "cell_type": "code",
   "execution_count": 76,
   "metadata": {},
   "outputs": [],
   "source": [
    "#prediction\n",
    "predict_lm_lasso = lm_lasso.predict(x_test)"
   ]
  },
  {
   "cell_type": "code",
   "execution_count": 77,
   "metadata": {},
   "outputs": [
    {
     "data": {
      "text/plain": [
       "578619165.4"
      ]
     },
     "execution_count": 77,
     "metadata": {},
     "output_type": "execute_result"
    }
   ],
   "source": [
    "#MSE\n",
    "from sklearn import metrics\n",
    "lasso_mse=np.round(metrics.mean_squared_error(y_test,predict_lm_lasso),2)\n",
    "lasso_mse"
   ]
  },
  {
   "cell_type": "code",
   "execution_count": 78,
   "metadata": {},
   "outputs": [
    {
     "data": {
      "text/plain": [
       "24054.504056413218"
      ]
     },
     "execution_count": 78,
     "metadata": {},
     "output_type": "execute_result"
    }
   ],
   "source": [
    "lasso_RMSE= np.sqrt(lasso_mse)\n",
    "lasso_RMSE"
   ]
  },
  {
   "cell_type": "code",
   "execution_count": 79,
   "metadata": {},
   "outputs": [
    {
     "data": {
      "text/plain": [
       "16625.204300407207"
      ]
     },
     "execution_count": 79,
     "metadata": {},
     "output_type": "execute_result"
    }
   ],
   "source": [
    "lasso_mae= metrics.mean_absolute_error(y_test, predict_lm_lasso)\n",
    "lasso_mae"
   ]
  },
  {
   "cell_type": "code",
   "execution_count": 80,
   "metadata": {},
   "outputs": [
    {
     "data": {
      "text/plain": [
       "<matplotlib.collections.PathCollection at 0x21c37823188>"
      ]
     },
     "execution_count": 80,
     "metadata": {},
     "output_type": "execute_result"
    },
    {
     "data": {
      "image/png": "[encoded data removed]",
      "text/plain": [
       "<Figure size 432x288 with 1 Axes>"
      ]
     },
     "metadata": {
      "needs_background": "light"
     },
     "output_type": "display_data"
    }
   ],
   "source": [
    "## plotting the residuals\n",
    "plt.scatter(y_test, predict_lm_lasso)"
   ]
  },
  {
   "cell_type": "code",
   "execution_count": 81,
   "metadata": {},
   "outputs": [
    {
     "data": {
      "text/plain": [
       "<matplotlib.axes._subplots.AxesSubplot at 0x21c3785a048>"
      ]
     },
     "execution_count": 81,
     "metadata": {},
     "output_type": "execute_result"
    },
    {
     "data": {
      "image/png": "[encoded data removed]",
      "text/plain": [
       "<Figure size 432x288 with 1 Axes>"
      ]
     },
     "metadata": {
      "needs_background": "light"
     },
     "output_type": "display_data"
    }
   ],
   "source": [
    "sns.distplot(y_test - predict_lm_lasso)"
   ]
  },
  {
   "cell_type": "markdown",
   "metadata": {},
   "source": [
    "### 3. Ridge Regression"
   ]
  },
  {
   "cell_type": "code",
   "execution_count": 82,
   "metadata": {},
   "outputs": [],
   "source": [
    "##Ridge\n",
    "from sklearn.linear_model import Ridge\n",
    "lm_ridge= Ridge()"
   ]
  },
  {
   "cell_type": "code",
   "execution_count": 83,
   "metadata": {},
   "outputs": [
    {
     "data": {
      "text/plain": [
       "Ridge()"
      ]
     },
     "execution_count": 83,
     "metadata": {},
     "output_type": "execute_result"
    }
   ],
   "source": [
    "lm_ridge.fit(x_train,y_train)"
   ]
  },
  {
   "cell_type": "code",
   "execution_count": 84,
   "metadata": {},
   "outputs": [
    {
     "data": {
      "text/plain": [
       "87.82"
      ]
     },
     "execution_count": 84,
     "metadata": {},
     "output_type": "execute_result"
    }
   ],
   "source": [
    "#r2 value\n",
    "ridge_R2=np.round(lm_ridge.score(x_test, y_test)*100,2)\n",
    "ridge_R2"
   ]
  },
  {
   "cell_type": "code",
   "execution_count": 85,
   "metadata": {},
   "outputs": [],
   "source": [
    "#prediction\n",
    "predict_lm_ridge = lm_ridge.predict(x_test)"
   ]
  },
  {
   "cell_type": "code",
   "execution_count": 86,
   "metadata": {},
   "outputs": [
    {
     "data": {
      "text/plain": [
       "522856514.32"
      ]
     },
     "execution_count": 86,
     "metadata": {},
     "output_type": "execute_result"
    }
   ],
   "source": [
    "#MSE\n",
    "from sklearn import metrics\n",
    "ridge_mse=np.round(metrics.mean_squared_error(y_test,predict_lm_ridge),2)\n",
    "ridge_mse"
   ]
  },
  {
   "cell_type": "code",
   "execution_count": 87,
   "metadata": {},
   "outputs": [
    {
     "data": {
      "text/plain": [
       "22866.05594150421"
      ]
     },
     "execution_count": 87,
     "metadata": {},
     "output_type": "execute_result"
    }
   ],
   "source": [
    "ridge_RMSE= np.sqrt(ridge_mse)\n",
    "ridge_RMSE"
   ]
  },
  {
   "cell_type": "code",
   "execution_count": 88,
   "metadata": {},
   "outputs": [
    {
     "data": {
      "text/plain": [
       "16114.598790222379"
      ]
     },
     "execution_count": 88,
     "metadata": {},
     "output_type": "execute_result"
    }
   ],
   "source": [
    "ridge_mae= metrics.mean_absolute_error(y_test, predict_lm_ridge)\n",
    "ridge_mae"
   ]
  },
  {
   "cell_type": "code",
   "execution_count": 89,
   "metadata": {},
   "outputs": [
    {
     "data": {
      "text/plain": [
       "<matplotlib.collections.PathCollection at 0x21c34947ec8>"
      ]
     },
     "execution_count": 89,
     "metadata": {},
     "output_type": "execute_result"
    },
    {
     "data": {
      "image/png": "[encoded data removed]",
      "text/plain": [
       "<Figure size 432x288 with 1 Axes>"
      ]
     },
     "metadata": {
      "needs_background": "light"
     },
     "output_type": "display_data"
    }
   ],
   "source": [
    "## plotting the residuals\n",
    "plt.scatter(y_test, predict_lm_ridge)"
   ]
  },
  {
   "cell_type": "code",
   "execution_count": 90,
   "metadata": {},
   "outputs": [
    {
     "data": {
      "text/plain": [
       "<matplotlib.axes._subplots.AxesSubplot at 0x21c344a8908>"
      ]
     },
     "execution_count": 90,
     "metadata": {},
     "output_type": "execute_result"
    },
    {
     "data": {
      "image/png": "[encoded data removed]",
      "text/plain": [
       "<Figure size 432x288 with 1 Axes>"
      ]
     },
     "metadata": {
      "needs_background": "light"
     },
     "output_type": "display_data"
    }
   ],
   "source": [
    "sns.distplot(y_test - predict_lm_ridge)"
   ]
  },
  {
   "cell_type": "markdown",
   "metadata": {},
   "source": [
    "### 4. Elastic Net"
   ]
  },
  {
   "cell_type": "code",
   "execution_count": 93,
   "metadata": {},
   "outputs": [],
   "source": [
    "##Elastic_net\n",
    "from sklearn.linear_model import ElasticNet\n",
    "lm_elasticnet= ElasticNet()"
   ]
  },
  {
   "cell_type": "code",
   "execution_count": 94,
   "metadata": {},
   "outputs": [
    {
     "data": {
      "text/plain": [
       "ElasticNet()"
      ]
     },
     "execution_count": 94,
     "metadata": {},
     "output_type": "execute_result"
    }
   ],
   "source": [
    "lm_elasticnet.fit(x_train,y_train)"
   ]
  },
  {
   "cell_type": "code",
   "execution_count": 95,
   "metadata": {},
   "outputs": [
    {
     "data": {
      "text/plain": [
       "83.62"
      ]
     },
     "execution_count": 95,
     "metadata": {},
     "output_type": "execute_result"
    }
   ],
   "source": [
    "#r2 value\n",
    "elasticnet_R2= np.round(lm_elasticnet.score(x_test, y_test)*100,2)\n",
    "elasticnet_R2"
   ]
  },
  {
   "cell_type": "code",
   "execution_count": 96,
   "metadata": {},
   "outputs": [],
   "source": [
    "#prediction\n",
    "predict_lm_elasticnet = lm_elasticnet.predict(x_test)"
   ]
  },
  {
   "cell_type": "code",
   "execution_count": 97,
   "metadata": {},
   "outputs": [
    {
     "data": {
      "text/plain": [
       "703431940.26"
      ]
     },
     "execution_count": 97,
     "metadata": {},
     "output_type": "execute_result"
    }
   ],
   "source": [
    "#MSE\n",
    "from sklearn import metrics\n",
    "elasticnet_mse=np.round(metrics.mean_squared_error(y_test,predict_lm_elasticnet),2)\n",
    "elasticnet_mse"
   ]
  },
  {
   "cell_type": "code",
   "execution_count": 98,
   "metadata": {},
   "outputs": [
    {
     "data": {
      "text/plain": [
       "26522.291384041462"
      ]
     },
     "execution_count": 98,
     "metadata": {},
     "output_type": "execute_result"
    }
   ],
   "source": [
    "elasticnet_RMSE= np.sqrt(elasticnet_mse)\n",
    "elasticnet_RMSE"
   ]
  },
  {
   "cell_type": "code",
   "execution_count": 99,
   "metadata": {},
   "outputs": [
    {
     "data": {
      "text/plain": [
       "18248.183516938345"
      ]
     },
     "execution_count": 99,
     "metadata": {},
     "output_type": "execute_result"
    }
   ],
   "source": [
    "elasticnet_mae= metrics.mean_absolute_error(y_test, predict_lm_elasticnet)\n",
    "elasticnet_mae"
   ]
  },
  {
   "cell_type": "code",
   "execution_count": 100,
   "metadata": {},
   "outputs": [
    {
     "data": {
      "text/plain": [
       "<matplotlib.collections.PathCollection at 0x21c346e6708>"
      ]
     },
     "execution_count": 100,
     "metadata": {},
     "output_type": "execute_result"
    },
    {
     "data": {
      "image/png": "[encoded data removed]",
      "text/plain": [
       "<Figure size 432x288 with 1 Axes>"
      ]
     },
     "metadata": {
      "needs_background": "light"
     },
     "output_type": "display_data"
    }
   ],
   "source": [
    "## plotting the residuals\n",
    "plt.scatter(y_test, predict_lm_elasticnet)"
   ]
  },
  {
   "cell_type": "code",
   "execution_count": 101,
   "metadata": {},
   "outputs": [
    {
     "data": {
      "text/plain": [
       "<matplotlib.axes._subplots.AxesSubplot at 0x21c345b3c88>"
      ]
     },
     "execution_count": 101,
     "metadata": {},
     "output_type": "execute_result"
    },
    {
     "data": {
      "image/png": "[encoded data removed]",
      "text/plain": [
       "<Figure size 432x288 with 1 Axes>"
      ]
     },
     "metadata": {
      "needs_background": "light"
     },
     "output_type": "display_data"
    }
   ],
   "source": [
    "sns.distplot(y_test - predict_lm_elasticnet)"
   ]
  },
  {
   "cell_type": "markdown",
   "metadata": {},
   "source": [
    "## Comparision of applied Model Results"
   ]
  },
  {
   "cell_type": "code",
   "execution_count": 102,
   "metadata": {},
   "outputs": [
    {
     "name": "stdout",
     "output_type": "stream",
     "text": [
      "                   R2           mse          RMSE           mae\n",
      "Linear      92.922735  5.901444e+08  24292.887473  16739.801532\n",
      "Lasso       86.530000  5.786192e+08  24054.504056  16625.204300\n",
      "Ridge       87.820000  5.228565e+08  22866.055942  16114.598790\n",
      "Elasticnet  83.620000  7.034319e+08  26522.291384  18248.183517\n"
     ]
    }
   ],
   "source": [
    "##All results \n",
    "\n",
    "Results = { 'R2' : [linear_R2,lasso_R2,ridge_R2,elasticnet_R2],\n",
    "            'mse' : [linear_mse,lasso_mse,ridge_mse,elasticnet_mse],\n",
    "            'RMSE' : [linear_RMSE,lasso_RMSE,ridge_RMSE,elasticnet_RMSE],\n",
    "            'mae' : [linear_mae,lasso_mae,ridge_mae,elasticnet_mae]\n",
    "          }\n",
    "\n",
    "Result_matrix = pd.DataFrame(Results, columns = ['R2','mse','RMSE','mae'], index=['Linear','Lasso','Ridge','Elasticnet'])\n",
    "print(Result_matrix)"
   ]
  },
  {
   "cell_type": "markdown",
   "metadata": {},
   "source": [
    "## Conclusion\n",
    "- After comparing all four model results I can see Ridge Regression is working better.\n",
    "- Ridge Regression is giving better Acuuracy and lower RMSE & mae Values compare to other three Models."
   ]
  }
 ],
 "metadata": {
  "kernelspec": {
   "display_name": "Python 3",
   "language": "python",
   "name": "python3"
  },
  "language_info": {
   "codemirror_mode": {
    "name": "ipython",
    "version": 3
   },
   "file_extension": ".py",
   "mimetype": "text/x-python",
   "name": "python",
   "nbconvert_exporter": "python",
   "pygments_lexer": "ipython3",
   "version": "3.7.4"
  }
 },
 "nbformat": 4,
 "nbformat_minor": 2
}
